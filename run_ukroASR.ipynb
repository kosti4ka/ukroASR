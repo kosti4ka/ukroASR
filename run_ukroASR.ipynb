{
 "cells": [
  {
   "cell_type": "code",
   "execution_count": 1,
   "metadata": {},
   "outputs": [],
   "source": [
    "export PYTHONPATH=\"${PYTHONPATH}:/data/exp/kostya/ukr_g2p\"\n",
    "export PYTHONPATH=\"${PYTHONPATH}:/data/exp/kostya/ukroASR\"\n",
    "UKROASR_ROOT=/data/exp/kostya/ukroASR\n",
    "# export PYTHONIOENCODING=utf-8"
   ]
  },
  {
   "cell_type": "code",
   "execution_count": 2,
   "metadata": {},
   "outputs": [],
   "source": [
    "cd $UKROASR_ROOT"
   ]
  },
  {
   "cell_type": "code",
   "execution_count": 3,
   "metadata": {},
   "outputs": [],
   "source": [
    "# cd $KALDI_ROOT/egs/wsj/s5; . ./path.sh; . ./cmd.sh"
   ]
  },
  {
   "cell_type": "code",
   "execution_count": 4,
   "metadata": {},
   "outputs": [],
   "source": [
    "train_cmd=run.pl"
   ]
  },
  {
   "cell_type": "code",
   "execution_count": 5,
   "metadata": {},
   "outputs": [],
   "source": [
    "work_dir=/data/exp/kostya/ukroASR"
   ]
  },
  {
   "cell_type": "code",
   "execution_count": 6,
   "metadata": {},
   "outputs": [],
   "source": [
    "data=$work_dir/data"
   ]
  },
  {
   "cell_type": "code",
   "execution_count": 7,
   "metadata": {},
   "outputs": [],
   "source": [
    "exp=$work_dir/exp"
   ]
  },
  {
   "cell_type": "code",
   "execution_count": 8,
   "metadata": {},
   "outputs": [],
   "source": [
    "cmd_prefix='cd $KALDI_ROOT/egs/wsj/s5; . ./path.sh; . ./cmd.sh;'"
   ]
  },
  {
   "cell_type": "markdown",
   "metadata": {},
   "source": [
    "# IMPORT DATASET"
   ]
  },
  {
   "cell_type": "code",
   "execution_count": 8,
   "metadata": {},
   "outputs": [],
   "source": [
    "# import train.csv"
   ]
  },
  {
   "cell_type": "code",
   "execution_count": 13,
   "metadata": {},
   "outputs": [
    {
     "name": "stdout",
     "output_type": "stream",
     "text": [
      "Importing 'train.csv (https://github.com/kosti4ka/ukrodataset.git)' -> 'data/raw_data/train.csv'\n",
      "                                                                                \n",
      "To track the changes with git, run:\n",
      "\n",
      "\tgit add data/raw_data/train.csv.dvc\n",
      "\u001b[0m"
     ]
    }
   ],
   "source": [
    "dvc import -o data/raw_data/train.csv \\\n",
    "https://github.com/kosti4ka/ukrodataset.git train.csv"
   ]
  },
  {
   "cell_type": "code",
   "execution_count": 15,
   "metadata": {},
   "outputs": [],
   "source": [
    "# import dev.csv"
   ]
  },
  {
   "cell_type": "code",
   "execution_count": 16,
   "metadata": {},
   "outputs": [
    {
     "name": "stdout",
     "output_type": "stream",
     "text": [
      "Importing 'dev.csv (https://github.com/kosti4ka/ukrodataset.git)' -> 'data/raw_data/dev.csv'\n",
      "                                                                                \n",
      "To track the changes with git, run:\n",
      "\n",
      "\tgit add data/raw_data/dev.csv.dvc\n",
      "\u001b[0m"
     ]
    }
   ],
   "source": [
    "dvc import -o data/raw_data/dev.csv \\\n",
    "https://github.com/kosti4ka/ukrodataset.git dev.csv"
   ]
  },
  {
   "cell_type": "code",
   "execution_count": 18,
   "metadata": {},
   "outputs": [],
   "source": [
    "# import audio data itself"
   ]
  },
  {
   "cell_type": "code",
   "execution_count": 87,
   "metadata": {
    "scrolled": true
   },
   "outputs": [
    {
     "name": "stdout",
     "output_type": "stream",
     "text": [
      "Importing 'audiobooks (https://github.com/kosti4ka/ukrodataset.git)' -> 'data/raw_data/audiobooks'\n",
      "                                                                                \n",
      "To track the changes with git, run:\n",
      "\n",
      "\tgit add data/raw_data/audiobooks.dvc\n",
      "\u001b[0m"
     ]
    }
   ],
   "source": [
    "dvc import -o data/raw_data \\\n",
    "https://github.com/kosti4ka/ukrodataset.git audiobooks"
   ]
  },
  {
   "cell_type": "code",
   "execution_count": 89,
   "metadata": {},
   "outputs": [],
   "source": [
    "git add -f data/raw_data/audiobooks.dvc"
   ]
  },
  {
   "cell_type": "markdown",
   "metadata": {},
   "source": [
    "# GENERATING DATA FOLDERS"
   ]
  },
  {
   "cell_type": "code",
   "execution_count": 34,
   "metadata": {},
   "outputs": [
    {
     "name": "stdout",
     "output_type": "stream",
     "text": [
      "\u001b[0m"
     ]
    }
   ],
   "source": [
    "# train data folder"
   ]
  },
  {
   "cell_type": "code",
   "execution_count": 8,
   "metadata": {
    "scrolled": false
   },
   "outputs": [
    {
     "name": "stdout",
     "output_type": "stream",
     "text": [
      "Stage is cached, skipping                                                       \n",
      "\u001b[0m"
     ]
    }
   ],
   "source": [
    "dvc run \\\n",
    "-d $data/raw_data/train.csv -d $UKROASR_ROOT/gen_data_dir.py \\\n",
    "-o $data/train/text -o $data/train/utt2spk -o $data/train/segments -o $data/train/spk2utt -o $data/train/wav.scp \\\n",
    "-n train_data_dir \\\n",
    "python3.6 $UKROASR_ROOT/gen_data_dir.py $data/raw_data/train.csv $data/train"
   ]
  },
  {
   "cell_type": "code",
   "execution_count": 35,
   "metadata": {},
   "outputs": [],
   "source": [
    "# dev data folder"
   ]
  },
  {
   "cell_type": "code",
   "execution_count": 38,
   "metadata": {
    "scrolled": true
   },
   "outputs": [
    {
     "name": "stdout",
     "output_type": "stream",
     "text": [
      "Running stage 'dev_data_dir' with command:                                      \n",
      "\tpython3.6 /data/exp/kostya/ukroASR/gen_data_dir.py /data/exp/kostya/ukroASR/data/raw_data/dev.csv /data/exp/kostya/ukroASR/data/dev\n",
      "/bin/sh: 18: ./cmd.sh: [[: not found\n",
      "utils/fix_data_dir.sh: file /data/exp/kostya/ukroASR/data/dev/utt2spk is not in sorted order or not unique, sorting it\n",
      "utils/fix_data_dir.sh: file /data/exp/kostya/ukroASR/data/dev/spk2utt is not in sorted order or not unique, sorting it\n",
      "utils/fix_data_dir.sh: file /data/exp/kostya/ukroASR/data/dev/text is not in sorted order or not unique, sorting it\n",
      "utils/fix_data_dir.sh: file /data/exp/kostya/ukroASR/data/dev/segments is not in sorted order or not unique, sorting it\n",
      "utils/fix_data_dir.sh: file /data/exp/kostya/ukroASR/data/dev/wav.scp is not in sorted order or not unique, sorting it\n",
      "fix_data_dir.sh: kept all 879 utterances.\n",
      "fix_data_dir.sh: old files are kept in /data/exp/kostya/ukroASR/data/dev/.backup\n",
      "Adding stage 'dev_data_dir' in 'dvc.yaml'                                       \n",
      "Updating lock file 'dvc.lock'\n",
      "\n",
      "To track the changes with git, run:\n",
      "\n",
      "\tgit add dvc.lock data/dev/.gitignore dvc.yaml\n",
      "\u001b[0m"
     ]
    }
   ],
   "source": [
    "dvc run \\\n",
    "-d $data/raw_data/dev.csv -d $UKROASR_ROOT/gen_data_dir.py \\\n",
    "-o $data/dev/text -o $data/dev/utt2spk -o $data/dev/segments -o $data/dev/spk2utt -o $data/dev/wav.scp \\\n",
    "-n dev_data_dir \\\n",
    "python3.6 $UKROASR_ROOT/gen_data_dir.py $data/raw_data/dev.csv $data/dev"
   ]
  },
  {
   "cell_type": "code",
   "execution_count": 41,
   "metadata": {},
   "outputs": [],
   "source": [
    "git add -f dvc.lock data/dev/.gitignore dvc.yaml"
   ]
  },
  {
   "cell_type": "markdown",
   "metadata": {},
   "source": [
    "# GENERATING LOCAL/DICT"
   ]
  },
  {
   "cell_type": "code",
   "execution_count": 10,
   "metadata": {},
   "outputs": [
    {
     "name": "stdout",
     "output_type": "stream",
     "text": [
      "Running stage 'local_dict' with command:                                        \n",
      "\t/data/exp/kostya/ukroASR/prepare_dict.sh /data/exp/kostya/ukroASR/data/local/dict /data/exp/kostya/ukroASR/data/train/text /data/exp/kostya/ukroASR/artifacts/text_plane /data/exp/kostya/ukroASR/artifacts/normal_fiction.txt\n",
      "100%|##################################| 313994/313994 [49:03<00:00, 106.67it/s]\n",
      "Modifying stage 'local_dict' in 'dvc.yaml'                                      \n",
      "Updating lock file 'dvc.lock'\n",
      "\n",
      "To track the changes with git, run:\n",
      "\n",
      "\tgit add dvc.yaml dvc.lock\n",
      "\u001b[0m"
     ]
    }
   ],
   "source": [
    "dvc run -f \\\n",
    "-d $data/train/text -d $UKROASR_ROOT/artifacts/text_plane -d $UKROASR_ROOT/artifacts/normal_fiction.txt -d $UKROASR_ROOT/artifacts/lexicon.txt \\\n",
    "-o $data/local/dict/vocab -o $data/local/dict/lexicon.txt \\\n",
    "-n local_dict \\\n",
    "$UKROASR_ROOT/prepare_dict.sh $data/local/dict $data/train/text $UKROASR_ROOT/artifacts/text_plane $UKROASR_ROOT/artifacts/normal_fiction.txt"
   ]
  },
  {
   "cell_type": "code",
   "execution_count": 20,
   "metadata": {},
   "outputs": [],
   "source": [
    "git add dvc.yaml dvc.lock"
   ]
  },
  {
   "cell_type": "markdown",
   "metadata": {},
   "source": [
    "# Generating Kaldi's lang dir"
   ]
  },
  {
   "cell_type": "code",
   "execution_count": 49,
   "metadata": {
    "scrolled": true
   },
   "outputs": [
    {
     "name": "stdout",
     "output_type": "stream",
     "text": [
      "\u001b[33mWARNING\u001b[39m: 'data/local/dict/extra_questions.txt' is empty.              \n",
      "Running stage 'lang_dir' with command:\n",
      "\tcd $KALDI_ROOT/egs/wsj/s5; . ./path.sh; . ./cmd.sh; utils/prepare_lang.sh --position-dependent-phones false /data/exp/kostya/ukroASR/data/local/dict '<UNK>' /data/exp/kostya/ukroASR/data/local/lang /data/exp/kostya/ukroASR/data/lang\n",
      "utils/prepare_lang.sh --position-dependent-phones false /data/exp/kostya/ukroASR/data/local/dict <UNK> /data/exp/kostya/ukroASR/data/local/lang /data/exp/kostya/ukroASR/data/lang\n",
      "Checking /data/exp/kostya/ukroASR/data/local/dict/silence_phones.txt ...\n",
      "--> reading /data/exp/kostya/ukroASR/data/local/dict/silence_phones.txt\n",
      "--> text seems to be UTF-8 or ASCII, checking whitespaces\n",
      "--> text contains only allowed whitespaces\n",
      "--> /data/exp/kostya/ukroASR/data/local/dict/silence_phones.txt is OK\n",
      "\n",
      "Checking /data/exp/kostya/ukroASR/data/local/dict/optional_silence.txt ...\n",
      "--> reading /data/exp/kostya/ukroASR/data/local/dict/optional_silence.txt\n",
      "--> text seems to be UTF-8 or ASCII, checking whitespaces\n",
      "--> text contains only allowed whitespaces\n",
      "--> /data/exp/kostya/ukroASR/data/local/dict/optional_silence.txt is OK\n",
      "\n",
      "Checking /data/exp/kostya/ukroASR/data/local/dict/nonsilence_phones.txt ...\n",
      "--> reading /data/exp/kostya/ukroASR/data/local/dict/nonsilence_phones.txt\n",
      "--> text seems to be UTF-8 or ASCII, checking whitespaces\n",
      "--> text contains only allowed whitespaces\n",
      "--> /data/exp/kostya/ukroASR/data/local/dict/nonsilence_phones.txt is OK\n",
      "\n",
      "Checking disjoint: silence_phones.txt, nonsilence_phones.txt\n",
      "--> disjoint property is OK.\n",
      "\n",
      "Checking /data/exp/kostya/ukroASR/data/local/dict/lexicon.txt\n",
      "--> reading /data/exp/kostya/ukroASR/data/local/dict/lexicon.txt\n",
      "--> text seems to be UTF-8 or ASCII, checking whitespaces\n",
      "--> text contains only allowed whitespaces\n",
      "--> /data/exp/kostya/ukroASR/data/local/dict/lexicon.txt is OK\n",
      "\n",
      "Checking /data/exp/kostya/ukroASR/data/local/dict/lexiconp.txt\n",
      "--> reading /data/exp/kostya/ukroASR/data/local/dict/lexiconp.txt\n",
      "--> text seems to be UTF-8 or ASCII, checking whitespaces\n",
      "--> text contains only allowed whitespaces\n",
      "--> /data/exp/kostya/ukroASR/data/local/dict/lexiconp.txt is OK\n",
      "\n",
      "Checking lexicon pair /data/exp/kostya/ukroASR/data/local/dict/lexicon.txt and /data/exp/kostya/ukroASR/data/local/dict/lexiconp.txt\n",
      "--> lexicon pair /data/exp/kostya/ukroASR/data/local/dict/lexicon.txt and /data/exp/kostya/ukroASR/data/local/dict/lexiconp.txt match\n",
      "\n",
      "Checking /data/exp/kostya/ukroASR/data/local/dict/extra_questions.txt ...\n",
      "--> /data/exp/kostya/ukroASR/data/local/dict/extra_questions.txt is empty (this is OK)\n",
      "--> SUCCESS [validating dictionary directory /data/exp/kostya/ukroASR/data/local/dict]\n",
      "\n",
      "fstaddselfloops /data/exp/kostya/ukroASR/data/lang/phones/wdisambig_phones.int /data/exp/kostya/ukroASR/data/lang/phones/wdisambig_words.int \n",
      "prepare_lang.sh: validating output directory\n",
      "utils/validate_lang.pl /data/exp/kostya/ukroASR/data/lang\n",
      "Checking /data/exp/kostya/ukroASR/data/lang/phones.txt ...\n",
      "--> text seems to be UTF-8 or ASCII, checking whitespaces\n",
      "--> text contains only allowed whitespaces\n",
      "--> /data/exp/kostya/ukroASR/data/lang/phones.txt is OK\n",
      "\n",
      "Checking words.txt: #0 ...\n",
      "--> text seems to be UTF-8 or ASCII, checking whitespaces\n",
      "--> text contains only allowed whitespaces\n",
      "--> /data/exp/kostya/ukroASR/data/lang/words.txt is OK\n",
      "\n",
      "Checking disjoint: silence.txt, nonsilence.txt, disambig.txt ...\n",
      "--> silence.txt and nonsilence.txt are disjoint\n",
      "--> silence.txt and disambig.txt are disjoint\n",
      "--> disambig.txt and nonsilence.txt are disjoint\n",
      "--> disjoint property is OK\n",
      "\n",
      "Checking sumation: silence.txt, nonsilence.txt, disambig.txt ...\n",
      "--> found no unexplainable phones in phones.txt\n",
      "\n",
      "Checking /data/exp/kostya/ukroASR/data/lang/phones/context_indep.{txt, int, csl} ...\n",
      "--> text seems to be UTF-8 or ASCII, checking whitespaces\n",
      "--> text contains only allowed whitespaces\n",
      "--> 3 entry/entries in /data/exp/kostya/ukroASR/data/lang/phones/context_indep.txt\n",
      "--> /data/exp/kostya/ukroASR/data/lang/phones/context_indep.int corresponds to /data/exp/kostya/ukroASR/data/lang/phones/context_indep.txt\n",
      "--> /data/exp/kostya/ukroASR/data/lang/phones/context_indep.csl corresponds to /data/exp/kostya/ukroASR/data/lang/phones/context_indep.txt\n",
      "--> /data/exp/kostya/ukroASR/data/lang/phones/context_indep.{txt, int, csl} are OK\n",
      "\n",
      "Checking /data/exp/kostya/ukroASR/data/lang/phones/nonsilence.{txt, int, csl} ...\n",
      "--> text seems to be UTF-8 or ASCII, checking whitespaces\n",
      "--> text contains only allowed whitespaces\n",
      "--> 103 entry/entries in /data/exp/kostya/ukroASR/data/lang/phones/nonsilence.txt\n",
      "--> /data/exp/kostya/ukroASR/data/lang/phones/nonsilence.int corresponds to /data/exp/kostya/ukroASR/data/lang/phones/nonsilence.txt\n",
      "--> /data/exp/kostya/ukroASR/data/lang/phones/nonsilence.csl corresponds to /data/exp/kostya/ukroASR/data/lang/phones/nonsilence.txt\n",
      "--> /data/exp/kostya/ukroASR/data/lang/phones/nonsilence.{txt, int, csl} are OK\n",
      "\n",
      "Checking /data/exp/kostya/ukroASR/data/lang/phones/silence.{txt, int, csl} ...\n",
      "--> text seems to be UTF-8 or ASCII, checking whitespaces\n",
      "--> text contains only allowed whitespaces\n",
      "--> 3 entry/entries in /data/exp/kostya/ukroASR/data/lang/phones/silence.txt\n",
      "--> /data/exp/kostya/ukroASR/data/lang/phones/silence.int corresponds to /data/exp/kostya/ukroASR/data/lang/phones/silence.txt\n",
      "--> /data/exp/kostya/ukroASR/data/lang/phones/silence.csl corresponds to /data/exp/kostya/ukroASR/data/lang/phones/silence.txt\n",
      "--> /data/exp/kostya/ukroASR/data/lang/phones/silence.{txt, int, csl} are OK\n",
      "\n",
      "Checking /data/exp/kostya/ukroASR/data/lang/phones/optional_silence.{txt, int, csl} ...\n",
      "--> text seems to be UTF-8 or ASCII, checking whitespaces\n",
      "--> text contains only allowed whitespaces\n",
      "--> 1 entry/entries in /data/exp/kostya/ukroASR/data/lang/phones/optional_silence.txt\n",
      "--> /data/exp/kostya/ukroASR/data/lang/phones/optional_silence.int corresponds to /data/exp/kostya/ukroASR/data/lang/phones/optional_silence.txt\n",
      "--> /data/exp/kostya/ukroASR/data/lang/phones/optional_silence.csl corresponds to /data/exp/kostya/ukroASR/data/lang/phones/optional_silence.txt\n",
      "--> /data/exp/kostya/ukroASR/data/lang/phones/optional_silence.{txt, int, csl} are OK\n",
      "\n",
      "Checking /data/exp/kostya/ukroASR/data/lang/phones/disambig.{txt, int, csl} ...\n",
      "--> text seems to be UTF-8 or ASCII, checking whitespaces\n",
      "--> text contains only allowed whitespaces\n",
      "--> 7 entry/entries in /data/exp/kostya/ukroASR/data/lang/phones/disambig.txt\n",
      "--> /data/exp/kostya/ukroASR/data/lang/phones/disambig.int corresponds to /data/exp/kostya/ukroASR/data/lang/phones/disambig.txt\n",
      "--> /data/exp/kostya/ukroASR/data/lang/phones/disambig.csl corresponds to /data/exp/kostya/ukroASR/data/lang/phones/disambig.txt\n",
      "--> /data/exp/kostya/ukroASR/data/lang/phones/disambig.{txt, int, csl} are OK\n",
      "\n",
      "Checking /data/exp/kostya/ukroASR/data/lang/phones/roots.{txt, int} ...\n",
      "--> text seems to be UTF-8 or ASCII, checking whitespaces\n",
      "--> text contains only allowed whitespaces\n",
      "--> 106 entry/entries in /data/exp/kostya/ukroASR/data/lang/phones/roots.txt\n",
      "--> /data/exp/kostya/ukroASR/data/lang/phones/roots.int corresponds to /data/exp/kostya/ukroASR/data/lang/phones/roots.txt\n",
      "--> /data/exp/kostya/ukroASR/data/lang/phones/roots.{txt, int} are OK\n",
      "\n",
      "Checking /data/exp/kostya/ukroASR/data/lang/phones/sets.{txt, int} ...\n",
      "--> text seems to be UTF-8 or ASCII, checking whitespaces\n",
      "--> text contains only allowed whitespaces\n",
      "--> 106 entry/entries in /data/exp/kostya/ukroASR/data/lang/phones/sets.txt\n",
      "--> /data/exp/kostya/ukroASR/data/lang/phones/sets.int corresponds to /data/exp/kostya/ukroASR/data/lang/phones/sets.txt\n",
      "--> /data/exp/kostya/ukroASR/data/lang/phones/sets.{txt, int} are OK\n",
      "\n",
      "Checking /data/exp/kostya/ukroASR/data/lang/phones/extra_questions.{txt, int} ...\n",
      "Checking optional_silence.txt ...\n",
      "--> reading /data/exp/kostya/ukroASR/data/lang/phones/optional_silence.txt\n",
      "--> /data/exp/kostya/ukroASR/data/lang/phones/optional_silence.txt is OK\n",
      "\n",
      "Checking disambiguation symbols: #0 and #1\n",
      "--> /data/exp/kostya/ukroASR/data/lang/phones/disambig.txt has \"#0\" and \"#1\"\n",
      "--> /data/exp/kostya/ukroASR/data/lang/phones/disambig.txt is OK\n",
      "\n",
      "Checking topo ...\n",
      "\n",
      "Checking word-level disambiguation symbols...\n",
      "--> /data/exp/kostya/ukroASR/data/lang/phones/wdisambig.txt exists (newer prepare_lang.sh)\n"
     ]
    },
    {
     "name": "stdout",
     "output_type": "stream",
     "text": [
      "Checking /data/exp/kostya/ukroASR/data/lang/oov.{txt, int} ...\n",
      "--> text seems to be UTF-8 or ASCII, checking whitespaces\n",
      "--> text contains only allowed whitespaces\n",
      "--> 1 entry/entries in /data/exp/kostya/ukroASR/data/lang/oov.txt\n",
      "--> /data/exp/kostya/ukroASR/data/lang/oov.int corresponds to /data/exp/kostya/ukroASR/data/lang/oov.txt\n",
      "--> /data/exp/kostya/ukroASR/data/lang/oov.{txt, int} are OK\n",
      "\n",
      "--> /data/exp/kostya/ukroASR/data/lang/L.fst is olabel sorted\n",
      "--> /data/exp/kostya/ukroASR/data/lang/L_disambig.fst is olabel sorted\n",
      "--> SUCCESS [validating lang directory /data/exp/kostya/ukroASR/data/lang]\n",
      "\u001b[33mWARNING\u001b[39m: 'data/local/dict/extra_questions.txt' is empty.              \n",
      "Modifying stage 'lang_dir' in 'dvc.yaml'                                        \n",
      "\n",
      "To track the changes with git, run:\n",
      "\n",
      "\tgit add dvc.yaml\n",
      "\u001b[0m"
     ]
    }
   ],
   "source": [
    "dvc run \\\n",
    "-d $data/local/dict/lexicon.txt -d $data/local/dict/silence_phones.txt -d $data/local/dict/nonsilence_phones.txt -d $data/local/dict/optional_silence.txt -d $data/local/dict/extra_questions.txt \\\n",
    "-o $data/lang/L.fst -o $data/lang/L_disambig.fst -o $data/lang/oov.int -o $data/lang/oov.txt -o $data/lang/phones.txt -o $data/lang/topo -o $data/lang/words.txt -o $data/lang/phones -O $data/local/dict/lexiconp.txt \\\n",
    "-n lang_dir \\\n",
    "\"$cmd_prefix utils/prepare_lang.sh --position-dependent-phones false $data/local/dict '<UNK>' $data/local/lang $data/lang\""
   ]
  },
  {
   "cell_type": "code",
   "execution_count": 50,
   "metadata": {},
   "outputs": [
    {
     "name": "stdout",
     "output_type": "stream",
     "text": [
      "\u001b[0m"
     ]
    }
   ],
   "source": [
    "git add dvc.yaml"
   ]
  },
  {
   "cell_type": "markdown",
   "metadata": {},
   "source": [
    "# Generating LM"
   ]
  },
  {
   "cell_type": "code",
   "execution_count": 11,
   "metadata": {},
   "outputs": [
    {
     "name": "stdout",
     "output_type": "stream",
     "text": [
      "Running stage 'lm_ukr' with command:                                            \n",
      "\tcut -d' ' -f2- /data/exp/kostya/ukroASR/data/train/text /data/exp/kostya/ukroASR/artifacts/text_plane /data/exp/kostya/ukroASR/artifacts/normal_fiction.txt | ngram-count -text - -order 3 -gt1min 1 -gt2min 1 -lm - | gzip -c > /data/exp/kostya/ukroASR/data/lm_ukr.gz\n",
      "warning: discount coeff 1 is out of range: 0\n",
      "Modifying stage 'lm_ukr' in 'dvc.yaml'                                          \n",
      "Updating lock file 'dvc.lock'\n",
      "\n",
      "To track the changes with git, run:\n",
      "\n",
      "\tgit add dvc.lock dvc.yaml\n",
      "\u001b[0m"
     ]
    }
   ],
   "source": [
    "dvc run -f \\\n",
    "-d $data/train/text -d $UKROASR_ROOT/artifacts/text_plane -d $UKROASR_ROOT/artifacts/normal_fiction.txt \\\n",
    "-o $data/lm_ukr.gz \\\n",
    "-n lm_ukr \\\n",
    "\"cut -d' ' -f2- $data/train/text $UKROASR_ROOT/artifacts/text_plane $UKROASR_ROOT/artifacts/normal_fiction.txt | ngram-count -text - -order 3 -gt1min 1 -gt2min 1 -lm - | gzip -c > $data/lm_ukr.gz\""
   ]
  },
  {
   "cell_type": "code",
   "execution_count": 63,
   "metadata": {},
   "outputs": [
    {
     "name": "stdout",
     "output_type": "stream",
     "text": [
      "\u001b[0m"
     ]
    }
   ],
   "source": [
    "git add dvc.lock dvc.yaml"
   ]
  },
  {
   "cell_type": "code",
   "execution_count": 12,
   "metadata": {},
   "outputs": [
    {
     "name": "stdout",
     "output_type": "stream",
     "text": [
      "Running stage 'lm_metrics' with command:                                        \n",
      "\techo {\\'LM perplexity\\': 2486.735} > /data/exp/kostya/ukroASR/exp/metrics/lm.json\n",
      "Modifying stage 'lm_metrics' in 'dvc.yaml'                                      \n",
      "Updating lock file 'dvc.lock'\n",
      "\n",
      "To track the changes with git, run:\n",
      "\n",
      "\tgit add dvc.yaml dvc.lock\n",
      "\u001b[0m"
     ]
    }
   ],
   "source": [
    "dvc run -f \\\n",
    "-d $data/dev/text -d $data/lm_ukr.gz \\\n",
    "-m $exp/metrics/lm.json \\\n",
    "-n lm_metrics \\\n",
    "\"echo {\\'LM perplexity\\': $(cut -d' ' -f2- $data/dev/text | ngram -lm $data/lm_ukr.gz -ppl - | tail -1 | awk '{print $6}')} > $exp/metrics/lm.json\""
   ]
  },
  {
   "cell_type": "code",
   "execution_count": 68,
   "metadata": {},
   "outputs": [
    {
     "name": "stdout",
     "output_type": "stream",
     "text": [
      "\u001b[0m"
     ]
    }
   ],
   "source": [
    "git add dvc.lock dvc.yaml"
   ]
  },
  {
   "cell_type": "markdown",
   "metadata": {},
   "source": [
    "# Formatting Kaldi's LM dir"
   ]
  },
  {
   "cell_type": "code",
   "execution_count": 76,
   "metadata": {
    "scrolled": true
   },
   "outputs": [
    {
     "name": "stdout",
     "output_type": "stream",
     "text": [
      "Running stage 'lang_fst' with command:                                          \n",
      "\tcd $KALDI_ROOT/egs/wsj/s5; . ./path.sh; . ./cmd.sh; utils/format_lm.sh /data/exp/kostya/ukroASR/data/lang /data/exp/kostya/ukroASR/data/lm_ukr.gz /data/exp/kostya/ukroASR/data/local/dict/lexicon.txt /data/exp/kostya/ukroASR/data/lang\n",
      "Converting '/data/exp/kostya/ukroASR/data/lm_ukr.gz' to FST\n",
      "arpa2fst --disambig-symbol=#0 --read-symbol-table=/data/exp/kostya/ukroASR/data/lang/words.txt - /data/exp/kostya/ukroASR/data/lang/G.fst \n",
      "LOG (arpa2fst[5.5.303~1-5a34a]:Read():arpa-file-parser.cc:94) Reading \\data\\ section.\n",
      "LOG (arpa2fst[5.5.303~1-5a34a]:Read():arpa-file-parser.cc:149) Reading \\1-grams: section.\n",
      "WARNING (arpa2fst[5.5.303~1-5a34a]:Read():arpa-file-parser.cc:219) line 8 [-5.162682\t0\t-0.1165124] skipped: word '0' not in symbol table\n",
      "WARNING (arpa2fst[5.5.303~1-5a34a]:Read():arpa-file-parser.cc:219) line 9 [-6.681196\t0-ой\t-0.09000115] skipped: word '0-ой' not in symbol table\n",
      "WARNING (arpa2fst[5.5.303~1-5a34a]:Read():arpa-file-parser.cc:219) line 10 [-5.380166\t00\t-0.1301746] skipped: word '00' not in symbol table\n",
      "WARNING (arpa2fst[5.5.303~1-5a34a]:Read():arpa-file-parser.cc:219) line 11 [-4.794705\t000\t-0.2303751] skipped: word '000' not in symbol table\n",
      "WARNING (arpa2fst[5.5.303~1-5a34a]:Read():arpa-file-parser.cc:219) line 12 [-6.681196\t0000000000\t-0.09004848] skipped: word '0000000000' not in symbol table\n",
      "WARNING (arpa2fst[5.5.303~1-5a34a]:Read():arpa-file-parser.cc:219) line 13 [-6.380166\t000111\t-0.3108826] skipped: word '000111' not in symbol table\n",
      "WARNING (arpa2fst[5.5.303~1-5a34a]:Read():arpa-file-parser.cc:219) line 14 [-6.681196\t0008194325\t-0.09004848] skipped: word '0008194325' not in symbol table\n",
      "WARNING (arpa2fst[5.5.303~1-5a34a]:Read():arpa-file-parser.cc:219) line 15 [-6.681196\t001\t-0.09005011] skipped: word '001' not in symbol table\n",
      "WARNING (arpa2fst[5.5.303~1-5a34a]:Read():arpa-file-parser.cc:219) line 16 [-6.681196\t004\t-0.09005074] skipped: word '004' not in symbol table\n",
      "WARNING (arpa2fst[5.5.303~1-5a34a]:Read():arpa-file-parser.cc:219) line 17 [-6.681196\t0047\t-0.09005065] skipped: word '0047' not in symbol table\n",
      "WARNING (arpa2fst[5.5.303~1-5a34a]:Read():arpa-file-parser.cc:219) line 18 [-5.726954\t01\t-0.08189924] skipped: word '01' not in symbol table\n",
      "WARNING (arpa2fst[5.5.303~1-5a34a]:Read():arpa-file-parser.cc:219) line 19 [-6.681196\t01798924\t-0.08402235] skipped: word '01798924' not in symbol table\n",
      "WARNING (arpa2fst[5.5.303~1-5a34a]:Read():arpa-file-parser.cc:219) line 20 [-5.836098\t02\t-0.06356019] skipped: word '02' not in symbol table\n",
      "WARNING (arpa2fst[5.5.303~1-5a34a]:Read():arpa-file-parser.cc:219) line 21 [-6.681196\t0257\t-0.0900483] skipped: word '0257' not in symbol table\n",
      "WARNING (arpa2fst[5.5.303~1-5a34a]:Read():arpa-file-parser.cc:219) line 22 [-6.380166\t026\t-0.09004983] skipped: word '026' not in symbol table\n",
      "WARNING (arpa2fst[5.5.303~1-5a34a]:Read():arpa-file-parser.cc:219) line 23 [-5.778106\t03\t-0.1909903] skipped: word '03' not in symbol table\n",
      "WARNING (arpa2fst[5.5.303~1-5a34a]:Read():arpa-file-parser.cc:219) line 24 [-6.380166\t04\t-0.08940019] skipped: word '04' not in symbol table\n",
      "WARNING (arpa2fst[5.5.303~1-5a34a]:Read():arpa-file-parser.cc:219) line 25 [-6.380166\t041\t-0.08997364] skipped: word '041' not in symbol table\n",
      "WARNING (arpa2fst[5.5.303~1-5a34a]:Read():arpa-file-parser.cc:219) line 26 [-6.681196\t04176\t-0.06787596] skipped: word '04176' not in symbol table\n",
      "WARNING (arpa2fst[5.5.303~1-5a34a]:Read():arpa-file-parser.cc:219) line 27 [-6.681196\t042\t-0.08997472] skipped: word '042' not in symbol table\n",
      "WARNING (arpa2fst[5.5.303~1-5a34a]:Read():arpa-file-parser.cc:219) line 28 [-6.380166\t044\t-0.3108819] skipped: word '044' not in symbol table\n",
      "WARNING (arpa2fst[5.5.303~1-5a34a]:Read():arpa-file-parser.cc:219) line 29 [-5.982226\t05\t-0.08056451] skipped: word '05' not in symbol table\n",
      "WARNING (arpa2fst[5.5.303~1-5a34a]:Read():arpa-file-parser.cc:219) line 30 [-6.681196\t05121983\t-0.0896929] skipped: word '05121983' not in symbol table\n",
      "WARNING (arpa2fst[5.5.303~1-5a34a]:Read():arpa-file-parser.cc:219) line 31 [-6.681196\t057\t-0.06787596] skipped: word '057' not in symbol table\n",
      "WARNING (arpa2fst[5.5.303~1-5a34a]:Read():arpa-file-parser.cc:219) line 32 [-5.836098\t06\t-0.1203734] skipped: word '06' not in symbol table\n",
      "WARNING (arpa2fst[5.5.303~1-5a34a]:Read():arpa-file-parser.cc:219) line 33 [-6.204075\t07\t-0.09004015] skipped: word '07' not in symbol table\n",
      "WARNING (arpa2fst[5.5.303~1-5a34a]:Read():arpa-file-parser.cc:219) line 34 [-6.681196\t070\t-0.0900502] skipped: word '070' not in symbol table\n",
      "WARNING (arpa2fst[5.5.303~1-5a34a]:Read():arpa-file-parser.cc:219) line 35 [-5.836098\t08\t-0.06313583] skipped: word '08' not in symbol table\n",
      "WARNING (arpa2fst[5.5.303~1-5a34a]:Read():arpa-file-parser.cc:219) line 36 [-6.204075\t09\t-0.08844469] skipped: word '09' not in symbol table\n",
      "WARNING (arpa2fst[5.5.303~1-5a34a]:Read():arpa-file-parser.cc:219) line 37 [-6.681196\t096\t-0.09005074] skipped: word '096' not in symbol table\n",
      "LOG (arpa2fst[5.5.303~1-5a34a]:Read():arpa-file-parser.cc:149) Reading \\2-grams: section.\n",
      "LOG (arpa2fst[5.5.303~1-5a34a]:Read():arpa-file-parser.cc:149) Reading \\3-grams: section.\n",
      "WARNING (arpa2fst[5.5.303~1-5a34a]:Read():arpa-file-parser.cc:259) Of 101987 parse warnings, 30 were reported. Run program with --max_warnings=-1 to see all warnings\n",
      "LOG (arpa2fst[5.5.303~1-5a34a]:RemoveRedundantStates():arpa-lm-compiler.cc:359) Reduced num-states from 2631982 to 387297\n",
      "fstisstochastic /data/exp/kostya/ukroASR/data/lang/G.fst \n",
      "2.31714 -4.67982\n",
      "Succeeded in formatting LM: '/data/exp/kostya/ukroASR/data/lm_ukr.gz'\n",
      "Adding stage 'lang_fst' in 'dvc.yaml'                                           \n",
      "Updating lock file 'dvc.lock'\n",
      "\n",
      "To track the changes with git, run:\n",
      "\n",
      "\tgit add dvc.yaml dvc.lock\n",
      "\u001b[0m"
     ]
    }
   ],
   "source": [
    "dvc run \\\n",
    "-d $data/lang/words.txt -d $data/lm_ukr.gz -d $data/local/dict/lexicon.txt \\\n",
    "-o $data/lang/G.fst \\\n",
    "-n lang_fst \\\n",
    "\"$cmd_prefix utils/format_lm.sh $data/lang $data/lm_ukr.gz $data/local/dict/lexicon.txt $data/lang\""
   ]
  },
  {
   "cell_type": "code",
   "execution_count": 13,
   "metadata": {},
   "outputs": [
    {
     "name": "stdout",
     "output_type": "stream",
     "text": [
      "total 627M\n",
      "-rw-r--r-- 1 ubuntu ubuntu    6 Jun 29 13:55 oov.txt\n",
      "-rw-r--r-- 1 ubuntu ubuntu    2 Jun 29 13:55 oov.int\n",
      "-rw-r--r-- 1 ubuntu ubuntu 1.3K Jun 29 13:55 topo\n",
      "-rw-r--r-- 1 ubuntu ubuntu 183M Jun 29 13:59 L.fst\n",
      "-rw-r--r-- 1 ubuntu ubuntu 187M Jun 29 13:59 L_disambig.fst\n",
      "drwxrwxr-x 2 ubuntu ubuntu 4.0K Jun 29 13:59 \u001b[0m\u001b[01;34mphones\u001b[0m\n",
      "-rw-r--r-- 1 ubuntu ubuntu  824 Jun 29 13:59 phones.txt\n",
      "-rw-r--r-- 1 ubuntu ubuntu  18M Jun 29 13:59 words.txt\n",
      "-rw-r--r-- 1 ubuntu ubuntu 241M Jun 29 20:38 G.fst\n"
     ]
    }
   ],
   "source": [
    "l $data/lang"
   ]
  },
  {
   "cell_type": "code",
   "execution_count": 14,
   "metadata": {},
   "outputs": [],
   "source": [
    "rm -rf $data/lang/G.fst"
   ]
  },
  {
   "cell_type": "code",
   "execution_count": 77,
   "metadata": {},
   "outputs": [
    {
     "name": "stdout",
     "output_type": "stream",
     "text": [
      "\u001b[0m"
     ]
    }
   ],
   "source": [
    "git add dvc.yaml dvc.lock"
   ]
  },
  {
   "cell_type": "markdown",
   "metadata": {},
   "source": [
    "# Computing features"
   ]
  },
  {
   "cell_type": "code",
   "execution_count": 91,
   "metadata": {
    "scrolled": true
   },
   "outputs": [
    {
     "name": "stdout",
     "output_type": "stream",
     "text": [
      "Stage is cached, skipping                                                       \n",
      "\u001b[0m"
     ]
    }
   ],
   "source": [
    "dvc run -f \\\n",
    "-d $data/train/wav.scp -d $data/train/segments -d $data/train/utt2spk \\\n",
    "-O $exp/train_mfcc -O $data/train/feats.scp \\\n",
    "-n mfcc_train \\\n",
    "\"python3.6 $UKROASR_ROOT/features/make_mfcc.py $data/train $exp/log/mfcc $exp/train_mfcc\""
   ]
  },
  {
   "cell_type": "code",
   "execution_count": 93,
   "metadata": {},
   "outputs": [
    {
     "name": "stdout",
     "output_type": "stream",
     "text": [
      "Running stage 'mfcc_dev' with command:                                          \n",
      "\tpython3.6 /data/exp/kostya/ukroASR/features/make_mfcc.py /data/exp/kostya/ukroASR/data/dev /data/exp/kostya/ukroASR/exp/log/mfcc /data/exp/kostya/ukroASR/exp/dev_mfcc\n",
      "/bin/sh: 18: ./cmd.sh: [[: not found\n",
      "steps/make_mfcc.sh /data/exp/kostya/ukroASR/data/dev /data/exp/kostya/ukroASR/exp/log/mfcc /data/exp/kostya/ukroASR/exp/dev_mfcc\n",
      "utils/validate_data_dir.sh: Successfully validated data-directory /data/exp/kostya/ukroASR/data/dev\n",
      "steps/make_mfcc.sh [info]: segments file exists: using that.\n",
      "Succeeded creating MFCC features for dev\n",
      "Adding stage 'mfcc_dev' in 'dvc.yaml'                                           \n",
      "Updating lock file 'dvc.lock'\n",
      "\n",
      "To track the changes with git, run:\n",
      "\n",
      "\tgit add dvc.yaml dvc.lock\n",
      "\u001b[0m"
     ]
    }
   ],
   "source": [
    "dvc run \\\n",
    "-d $data/dev/wav.scp -d $data/dev/segments -d $data/dev/utt2spk \\\n",
    "-O $exp/dev_mfcc -O $data/dev/feats.scp \\\n",
    "-n mfcc_dev \\\n",
    "\"python3.6 $UKROASR_ROOT/features/make_mfcc.py $data/dev $exp/log/mfcc $exp/dev_mfcc\""
   ]
  },
  {
   "cell_type": "code",
   "execution_count": 94,
   "metadata": {},
   "outputs": [
    {
     "name": "stdout",
     "output_type": "stream",
     "text": [
      "\u001b[0m"
     ]
    }
   ],
   "source": [
    "git add dvc.yaml dvc.lock"
   ]
  },
  {
   "cell_type": "code",
   "execution_count": 23,
   "metadata": {},
   "outputs": [],
   "source": [
    "# compute cmvn features"
   ]
  },
  {
   "cell_type": "code",
   "execution_count": 96,
   "metadata": {},
   "outputs": [
    {
     "name": "stdout",
     "output_type": "stream",
     "text": [
      "Running stage 'cmvn_train' with command:                                        \n",
      "\tpython3.6 /data/exp/kostya/ukroASR/features/compute_cmvn_stats.py /data/exp/kostya/ukroASR/data/train /data/exp/kostya/ukroASR/exp/log/cmvn /data/exp/kostya/ukroASR/exp/train_cmvn\n",
      "/bin/sh: 18: ./cmd.sh: [[: not found\n",
      "steps/compute_cmvn_stats.sh /data/exp/kostya/ukroASR/data/train /data/exp/kostya/ukroASR/exp/log/cmvn /data/exp/kostya/ukroASR/exp/train_cmvn\n",
      "Succeeded creating CMVN stats for train\n",
      "Adding stage 'cmvn_train' in 'dvc.yaml'                                         \n",
      "Updating lock file 'dvc.lock'\n",
      "\n",
      "To track the changes with git, run:\n",
      "\n",
      "\tgit add dvc.lock dvc.yaml\n",
      "Running stage 'cmvn_dev' with command:                                          \n",
      "\tpython3.6 /data/exp/kostya/ukroASR/features/compute_cmvn_stats.py /data/exp/kostya/ukroASR/data/dev /data/exp/kostya/ukroASR/exp/log/cmvn /data/exp/kostya/ukroASR/exp/dev_cmvn\n",
      "/bin/sh: 18: ./cmd.sh: [[: not found\n",
      "steps/compute_cmvn_stats.sh /data/exp/kostya/ukroASR/data/dev /data/exp/kostya/ukroASR/exp/log/cmvn /data/exp/kostya/ukroASR/exp/dev_cmvn\n",
      "Succeeded creating CMVN stats for dev\n",
      "Adding stage 'cmvn_dev' in 'dvc.yaml'                                           \n",
      "Updating lock file 'dvc.lock'\n",
      "\n",
      "To track the changes with git, run:\n",
      "\n",
      "\tgit add dvc.yaml dvc.lock\n",
      "\u001b[0m\u001b[0m"
     ]
    }
   ],
   "source": [
    "for split in train dev\n",
    "do\n",
    "dvc run \\\n",
    "-d $data/$split/feats.scp -d $data/$split/utt2spk \\\n",
    "-O $exp/${split}_cmvn -O $data/$split/cmvn.scp \\\n",
    "-n cmvn_${split} \\\n",
    "\"python3.6 $UKROASR_ROOT/features/compute_cmvn_stats.py $data/$split $exp/log/cmvn $exp/${split}_cmvn\"\n",
    "done"
   ]
  },
  {
   "cell_type": "code",
   "execution_count": 97,
   "metadata": {},
   "outputs": [
    {
     "name": "stdout",
     "output_type": "stream",
     "text": [
      "\u001b[0m"
     ]
    }
   ],
   "source": [
    "git add dvc.yaml dvc.lock"
   ]
  },
  {
   "cell_type": "markdown",
   "metadata": {},
   "source": [
    "# Sampling again"
   ]
  },
  {
   "cell_type": "code",
   "execution_count": 99,
   "metadata": {},
   "outputs": [
    {
     "name": "stdout",
     "output_type": "stream",
     "text": [
      "Running stage 'train_2kshort_data' with command:                                \n",
      "\tcd $KALDI_ROOT/egs/wsj/s5; . ./path.sh; . ./cmd.sh; utils/subset_data_dir.sh --shortest /data/exp/kostya/ukroASR/data/train 2000 /data/exp/kostya/ukroASR/data/train_2kshort\n",
      "feat-to-len scp:/data/exp/kostya/ukroASR/data/train/feats.scp ark,t:/data/exp/kostya/ukroASR/data/train_2kshort/tmp.len \n",
      "utils/subset_data_dir.sh: reducing #utt from 12378 to 2000\n",
      "Adding stage 'train_2kshort_data' in 'dvc.yaml'                                 \n",
      "Updating lock file 'dvc.lock'\n",
      "\n",
      "To track the changes with git, run:\n",
      "\n",
      "\tgit add dvc.lock dvc.yaml\n",
      "\u001b[0m"
     ]
    }
   ],
   "source": [
    "dvc run \\\n",
    "-d $data/train/text -d $data/train/utt2spk -d $data/train/segments -d $data/train/spk2utt -d $data/train/wav.scp -d $data/train/feats.scp -d $data/train/cmvn.scp \\\n",
    "-o $data/train_2kshort/text -o $data/train_2kshort/utt2spk -o $data/train_2kshort/segments -o $data/train_2kshort/spk2utt -o $data/train_2kshort/wav.scp -o $data/train_2kshort/feats.scp -o $data/train_2kshort/cmvn.scp \\\n",
    "-n train_2kshort_data \\\n",
    "\"$cmd_prefix utils/subset_data_dir.sh --shortest $data/train 2000 $data/train_2kshort\""
   ]
  },
  {
   "cell_type": "code",
   "execution_count": 101,
   "metadata": {},
   "outputs": [
    {
     "name": "stdout",
     "output_type": "stream",
     "text": [
      "Running stage 'train_5k_data' with command:                                     \n",
      "\tcd $KALDI_ROOT/egs/wsj/s5; . ./path.sh; . ./cmd.sh; utils/subset_data_dir.sh /data/exp/kostya/ukroASR/data/train 5000 /data/exp/kostya/ukroASR/data/train_5k\n",
      "utils/subset_data_dir.sh: reducing #utt from 12378 to 5000\n",
      "Adding stage 'train_5k_data' in 'dvc.yaml'                                      \n",
      "Updating lock file 'dvc.lock'\n",
      "\n",
      "To track the changes with git, run:\n",
      "\n",
      "\tgit add dvc.lock dvc.yaml\n",
      "\u001b[0m"
     ]
    }
   ],
   "source": [
    "dvc run \\\n",
    "-d $data/train/text -d $data/train/utt2spk -d $data/train/segments -d $data/train/spk2utt -d $data/train/wav.scp -d $data/train/feats.scp -d $data/train/cmvn.scp \\\n",
    "-o $data/train_5k/text -o $data/train_5k/utt2spk -o $data/train_5k/segments -o $data/train_5k/spk2utt -o $data/train_5k/wav.scp -o $data/train_5k/feats.scp -o $data/train_5k/cmvn.scp \\\n",
    "-n train_5k_data \\\n",
    "\"$cmd_prefix utils/subset_data_dir.sh $data/train 5000 $data/train_5k\""
   ]
  },
  {
   "cell_type": "code",
   "execution_count": 104,
   "metadata": {},
   "outputs": [
    {
     "name": "stdout",
     "output_type": "stream",
     "text": [
      "Running stage 'dev_075kshort_data' with command:                                \n",
      "\tcd $KALDI_ROOT/egs/wsj/s5; . ./path.sh; . ./cmd.sh; utils/subset_data_dir.sh --shortest /data/exp/kostya/ukroASR/data/dev 750 /data/exp/kostya/ukroASR/data/dev_0.75kshort\n",
      "feat-to-len scp:/data/exp/kostya/ukroASR/data/dev/feats.scp ark,t:/data/exp/kostya/ukroASR/data/dev_0.75kshort/tmp.len \n",
      "utils/subset_data_dir.sh: reducing #utt from 879 to 750\n",
      "Adding stage 'dev_075kshort_data' in 'dvc.yaml'                                 \n",
      "Updating lock file 'dvc.lock'\n",
      "\n",
      "To track the changes with git, run:\n",
      "\n",
      "\tgit add dvc.yaml dvc.lock\n",
      "\u001b[0m"
     ]
    }
   ],
   "source": [
    "dvc run \\\n",
    "-d $data/dev/text -d $data/dev/utt2spk -d $data/dev/segments -d $data/dev/spk2utt -d $data/dev/wav.scp -d $data/dev/feats.scp -d $data/dev/cmvn.scp \\\n",
    "-o $data/dev_0.75kshort/text -o $data/dev_0.75kshort/utt2spk -o $data/dev_0.75kshort/segments -o $data/dev_0.75kshort/spk2utt -o $data/dev_0.75kshort/wav.scp -o $data/dev_0.75kshort/feats.scp -o $data/dev_0.75kshort/cmvn.scp \\\n",
    "-n dev_075kshort_data \\\n",
    "\"$cmd_prefix utils/subset_data_dir.sh --shortest $data/dev 750 $data/dev_0.75kshort\""
   ]
  },
  {
   "cell_type": "code",
   "execution_count": 106,
   "metadata": {},
   "outputs": [
    {
     "name": "stdout",
     "output_type": "stream",
     "text": [
      "Running stage 'dev_015k_data' with command:                                     \n",
      "\tcd $KALDI_ROOT/egs/wsj/s5; . ./path.sh; . ./cmd.sh; utils/subset_data_dir.sh /data/exp/kostya/ukroASR/data/dev_0.75kshort 150 /data/exp/kostya/ukroASR/data/dev_0.15k\n",
      "utils/subset_data_dir.sh: reducing #utt from 750 to 150\n",
      "Adding stage 'dev_015k_data' in 'dvc.yaml'                                      \n",
      "Updating lock file 'dvc.lock'\n",
      "\n",
      "To track the changes with git, run:\n",
      "\n",
      "\tgit add dvc.yaml dvc.lock\n",
      "\u001b[0m"
     ]
    }
   ],
   "source": [
    "dvc run \\\n",
    "-d $data/dev_0.75kshort/text -d $data/dev_0.75kshort/utt2spk -d $data/dev_0.75kshort/segments -d $data/dev_0.75kshort/spk2utt -d $data/dev_0.75kshort/wav.scp -d $data/dev_0.75kshort/feats.scp -d $data/dev_0.75kshort/cmvn.scp \\\n",
    "-o $data/dev_0.15k/text -o $data/dev_0.15k/utt2spk -o $data/dev_0.15k/segments -o $data/dev_0.15k/spk2utt -o $data/dev_0.15k/wav.scp -o $data/dev_0.15k/feats.scp -o $data/dev_0.15k/cmvn.scp \\\n",
    "-n dev_015k_data \\\n",
    "\"$cmd_prefix utils/subset_data_dir.sh $data/dev_0.75kshort 150 $data/dev_0.15k\""
   ]
  },
  {
   "cell_type": "code",
   "execution_count": 107,
   "metadata": {},
   "outputs": [
    {
     "name": "stdout",
     "output_type": "stream",
     "text": [
      "\u001b[0m"
     ]
    }
   ],
   "source": [
    "git add dvc.yaml dvc.lock"
   ]
  },
  {
   "cell_type": "markdown",
   "metadata": {},
   "source": [
    "# Training and alignment"
   ]
  },
  {
   "cell_type": "markdown",
   "metadata": {},
   "source": [
    "# monophone"
   ]
  },
  {
   "cell_type": "code",
   "execution_count": 108,
   "metadata": {},
   "outputs": [
    {
     "name": "stdout",
     "output_type": "stream",
     "text": [
      "mkdir: cannot create directory '/data/exp/kostya/ukroASR/exp/mono': File exists\n"
     ]
    },
    {
     "ename": "",
     "evalue": "1",
     "output_type": "error",
     "traceback": []
    }
   ],
   "source": [
    "mkdir $exp/mono"
   ]
  },
  {
   "cell_type": "code",
   "execution_count": 110,
   "metadata": {
    "scrolled": true
   },
   "outputs": [
    {
     "name": "stdout",
     "output_type": "stream",
     "text": [
      "Running stage 'mono' with command:                                              \n",
      "\tcd $KALDI_ROOT/egs/wsj/s5; . ./path.sh; . ./cmd.sh; steps/train_mono.sh --boost-silence 1.25 --nj 8 /data/exp/kostya/ukroASR/data/train_2kshort /data/exp/kostya/ukroASR/data/lang /data/exp/kostya/ukroASR/exp/mono\n",
      "steps/train_mono.sh --boost-silence 1.25 --nj 8 /data/exp/kostya/ukroASR/data/train_2kshort /data/exp/kostya/ukroASR/data/lang /data/exp/kostya/ukroASR/exp/mono\n",
      "steps/train_mono.sh: Initializing monophone system.\n",
      "steps/train_mono.sh: Compiling training graphs\n",
      "steps/train_mono.sh: Aligning data equally (pass 0)\n",
      "steps/train_mono.sh: Pass 1\n",
      "steps/train_mono.sh: Aligning data\n",
      "steps/train_mono.sh: Pass 2\n",
      "steps/train_mono.sh: Aligning data\n",
      "steps/train_mono.sh: Pass 3\n",
      "steps/train_mono.sh: Aligning data\n",
      "steps/train_mono.sh: Pass 4\n",
      "steps/train_mono.sh: Aligning data\n",
      "steps/train_mono.sh: Pass 5\n",
      "steps/train_mono.sh: Aligning data\n",
      "steps/train_mono.sh: Pass 6\n",
      "steps/train_mono.sh: Aligning data\n",
      "steps/train_mono.sh: Pass 7\n",
      "steps/train_mono.sh: Aligning data\n",
      "steps/train_mono.sh: Pass 8\n",
      "steps/train_mono.sh: Aligning data\n",
      "steps/train_mono.sh: Pass 9\n",
      "steps/train_mono.sh: Aligning data\n",
      "steps/train_mono.sh: Pass 10\n",
      "steps/train_mono.sh: Aligning data\n",
      "steps/train_mono.sh: Pass 11\n",
      "steps/train_mono.sh: Pass 12\n",
      "steps/train_mono.sh: Aligning data\n",
      "steps/train_mono.sh: Pass 13\n",
      "steps/train_mono.sh: Pass 14\n",
      "steps/train_mono.sh: Aligning data\n",
      "steps/train_mono.sh: Pass 15\n",
      "steps/train_mono.sh: Pass 16\n",
      "steps/train_mono.sh: Aligning data\n",
      "steps/train_mono.sh: Pass 17\n",
      "steps/train_mono.sh: Pass 18\n",
      "steps/train_mono.sh: Aligning data\n",
      "steps/train_mono.sh: Pass 19\n",
      "steps/train_mono.sh: Pass 20\n",
      "steps/train_mono.sh: Aligning data\n",
      "steps/train_mono.sh: Pass 21\n",
      "steps/train_mono.sh: Pass 22\n",
      "steps/train_mono.sh: Pass 23\n",
      "steps/train_mono.sh: Aligning data\n",
      "steps/train_mono.sh: Pass 24\n",
      "steps/train_mono.sh: Pass 25\n",
      "steps/train_mono.sh: Pass 26\n",
      "steps/train_mono.sh: Aligning data\n",
      "steps/train_mono.sh: Pass 27\n",
      "steps/train_mono.sh: Pass 28\n",
      "steps/train_mono.sh: Pass 29\n",
      "steps/train_mono.sh: Aligning data\n",
      "steps/train_mono.sh: Pass 30\n",
      "steps/train_mono.sh: Pass 31\n",
      "steps/train_mono.sh: Pass 32\n",
      "steps/train_mono.sh: Aligning data\n",
      "steps/train_mono.sh: Pass 33\n",
      "steps/train_mono.sh: Pass 34\n",
      "steps/train_mono.sh: Pass 35\n",
      "steps/train_mono.sh: Aligning data\n",
      "steps/train_mono.sh: Pass 36\n",
      "steps/train_mono.sh: Pass 37\n",
      "steps/train_mono.sh: Pass 38\n",
      "steps/train_mono.sh: Aligning data\n",
      "steps/train_mono.sh: Pass 39\n",
      "steps/diagnostic/analyze_alignments.sh --cmd run.pl /data/exp/kostya/ukroASR/data/lang /data/exp/kostya/ukroASR/exp/mono\n",
      "analyze_phone_length_stats.py: WARNING: optional-silence SIL is seen only 78.5785785786% of the time at utterance begin.  This may not be optimal.\n",
      "analyze_phone_length_stats.py: WARNING: optional-silence SIL is seen only 36.4364364364% of the time at utterance end.  This may not be optimal.\n",
      "steps/diagnostic/analyze_alignments.sh: see stats in /data/exp/kostya/ukroASR/exp/mono/log/analyze_alignments.log\n",
      "2 warnings in /data/exp/kostya/ukroASR/exp/mono/log/analyze_alignments.log\n",
      "4666 warnings in /data/exp/kostya/ukroASR/exp/mono/log/update.*.log\n",
      "76 warnings in /data/exp/kostya/ukroASR/exp/mono/log/acc.*.*.log\n",
      "435 warnings in /data/exp/kostya/ukroASR/exp/mono/log/align.*.*.log\n",
      "/data/exp/kostya/ukroASR/exp/mono: nj=8 align prob=-95.48 over 1.26h [retry=0.7%, fail=0.1%] states=324 gauss=988\n",
      "steps/train_mono.sh: Done training monophone system in /data/exp/kostya/ukroASR/exp/mono\n",
      "Adding stage 'mono' in 'dvc.yaml'                                               \n",
      "Updating lock file 'dvc.lock'\n",
      "\n",
      "To track the changes with git, run:\n",
      "\n",
      "\tgit add dvc.lock dvc.yaml\n",
      "\u001b[0m"
     ]
    }
   ],
   "source": [
    "dvc run \\\n",
    "-d $data/train_2kshort/feats.scp -d $data/train_2kshort/utt2spk -d $data/train_2kshort/text -d $data/train_2kshort/cmvn.scp -d $data/lang/L.fst -d $data/lang/words.txt -d $data/lang/phones.txt -d $data/lang/topo -d $data/lang/phones \\\n",
    "-o $exp/mono/final.mdl -o $exp/mono/tree -o $exp/mono/phones.txt \\\n",
    "-n mono \\\n",
    "\"$cmd_prefix steps/train_mono.sh --boost-silence 1.25 --nj 8 $data/train_2kshort $data/lang $exp/mono\""
   ]
  },
  {
   "cell_type": "code",
   "execution_count": 39,
   "metadata": {},
   "outputs": [],
   "source": [
    "git add mono.dvc exp/mono/.gitignore"
   ]
  },
  {
   "cell_type": "code",
   "execution_count": 112,
   "metadata": {
    "scrolled": true
   },
   "outputs": [
    {
     "name": "stdout",
     "output_type": "stream",
     "text": [
      "Running stage 'mono_graph' with command:                                        \n",
      "\tcd $KALDI_ROOT/egs/wsj/s5; . ./path.sh; . ./cmd.sh; utils/mkgraph.sh /data/exp/kostya/ukroASR/data/lang_ukr /data/exp/kostya/ukroASR/exp/mono /data/exp/kostya/ukroASR/exp/mono/graph\n",
      "tree-info /data/exp/kostya/ukroASR/exp/mono/tree \n",
      "tree-info /data/exp/kostya/ukroASR/exp/mono/tree \n",
      "fstminimizeencoded \n",
      "fsttablecompose /data/exp/kostya/ukroASR/data/lang_ukr/L_disambig.fst /data/exp/kostya/ukroASR/data/lang_ukr/G.fst \n",
      "fstpushspecial \n",
      "fstdeterminizestar --use-log=true \n",
      "fstisstochastic /data/exp/kostya/ukroASR/data/lang_ukr/tmp/LG.fst \n",
      "-0.0360873 -0.03691\n",
      "[info]: LG not stochastic.\n",
      "fstcomposecontext --context-size=1 --central-position=0 --read-disambig-syms=/data/exp/kostya/ukroASR/data/lang_ukr/phones/disambig.int --write-disambig-syms=/data/exp/kostya/ukroASR/data/lang_ukr/tmp/disambig_ilabels_1_0.int /data/exp/kostya/ukroASR/data/lang_ukr/tmp/ilabels_1_0.32655 /data/exp/kostya/ukroASR/data/lang_ukr/tmp/LG.fst \n",
      "fstisstochastic /data/exp/kostya/ukroASR/data/lang_ukr/tmp/CLG_1_0.fst \n",
      "-0.0360873 -0.03691\n",
      "[info]: CLG not stochastic.\n",
      "make-h-transducer --disambig-syms-out=/data/exp/kostya/ukroASR/exp/mono/graph/disambig_tid.int --transition-scale=1.0 /data/exp/kostya/ukroASR/data/lang_ukr/tmp/ilabels_1_0 /data/exp/kostya/ukroASR/exp/mono/tree /data/exp/kostya/ukroASR/exp/mono/final.mdl \n",
      "fsttablecompose /data/exp/kostya/ukroASR/exp/mono/graph/Ha.fst /data/exp/kostya/ukroASR/data/lang_ukr/tmp/CLG_1_0.fst \n",
      "fstminimizeencoded \n",
      "fstdeterminizestar --use-log=true \n",
      "fstrmsymbols /data/exp/kostya/ukroASR/exp/mono/graph/disambig_tid.int \n",
      "fstrmepslocal \n",
      "fstisstochastic /data/exp/kostya/ukroASR/exp/mono/graph/HCLGa.fst \n",
      "0.00043015 -0.0724432\n",
      "HCLGa is not stochastic\n",
      "add-self-loops --self-loop-scale=0.1 --reorder=true /data/exp/kostya/ukroASR/exp/mono/final.mdl /data/exp/kostya/ukroASR/exp/mono/graph/HCLGa.fst \n",
      "Adding stage 'mono_graph' in 'dvc.yaml'                                         \n",
      "Updating lock file 'dvc.lock'\n",
      "\n",
      "To track the changes with git, run:\n",
      "\n",
      "\tgit add dvc.lock dvc.yaml\n",
      "\u001b[0m"
     ]
    }
   ],
   "source": [
    "dvc run \\\n",
    "-d $exp/mono/final.mdl -d $exp/mono/tree -d $data/lang/L.fst -d $data/lang/G.fst -d $data/lang/phones.txt -d $data/lang/words.txt -d $data/lang/phones \\\n",
    "-O $exp/mono/graph/HCLG.fst -O $exp/mono/graph/words.txt \\\n",
    "-n mono_graph \\\n",
    "\"$cmd_prefix utils/mkgraph.sh $data/lang_ukr $exp/mono $exp/mono/graph\""
   ]
  },
  {
   "cell_type": "code",
   "execution_count": 115,
   "metadata": {
    "scrolled": true
   },
   "outputs": [
    {
     "name": "stdout",
     "output_type": "stream",
     "text": [
      "Running stage 'mono_metrics' with command:                                      \n",
      "\tcd $KALDI_ROOT/egs/wsj/s5; . ./path.sh; . ./cmd.sh; steps/decode.sh --nj 4 /data/exp/kostya/ukroASR/exp/mono/graph /data/exp/kostya/ukroASR/data/dev_0.15k /data/exp/kostya/ukroASR/exp/mono/decode_dev_0.15k; /data/exp/kostya/ukroASR/parce_wer_report.sh /data/exp/kostya/ukroASR/exp/mono/decode_dev_0.15k/scoring_kaldi/best_wer /data/exp/kostya/ukroASR/exp/metrics/mono.json\n",
      "steps/decode.sh --nj 4 /data/exp/kostya/ukroASR/exp/mono/graph /data/exp/kostya/ukroASR/data/dev_0.15k /data/exp/kostya/ukroASR/exp/mono/decode_dev_0.15k\n",
      "decode.sh: feature type is delta\n",
      "steps/diagnostic/analyze_lats.sh --cmd run.pl /data/exp/kostya/ukroASR/exp/mono/graph /data/exp/kostya/ukroASR/exp/mono/decode_dev_0.15k\n",
      "analyze_phone_length_stats.py: WARNING: optional-silence SIL is seen only 53.3333333333% of the time at utterance end.  This may not be optimal.\n",
      "steps/diagnostic/analyze_lats.sh: see stats in /data/exp/kostya/ukroASR/exp/mono/decode_dev_0.15k/log/analyze_alignments.log\n",
      "Overall, lattice depth (10,50,90-percentile)=(10,71,306) and mean=124.7\n",
      "steps/diagnostic/analyze_lats.sh: see stats in /data/exp/kostya/ukroASR/exp/mono/decode_dev_0.15k/log/analyze_lattice_depth_stats.log\n",
      "local/score.sh --cmd run.pl /data/exp/kostya/ukroASR/data/dev_0.15k /data/exp/kostya/ukroASR/exp/mono/graph /data/exp/kostya/ukroASR/exp/mono/decode_dev_0.15k\n",
      "local/score.sh: scoring with word insertion penalty=0.0,0.5,1.0\n",
      "Adding stage 'mono_metrics' in 'dvc.yaml'                                       \n",
      "Updating lock file 'dvc.lock'\n",
      "\n",
      "To track the changes with git, run:\n",
      "\n",
      "\tgit add dvc.yaml dvc.lock\n",
      "\u001b[0m"
     ]
    }
   ],
   "source": [
    "dvc run \\\n",
    "-d $data/dev_0.15k/utt2spk -d $data/dev_0.15k/feats.scp -d $data/dev_0.15k/cmvn.scp -d $exp/mono/final.mdl -d $exp/mono/graph/HCLG.fst -d $data/lang/words.txt \\\n",
    "-m $exp/metrics/mono.json \\\n",
    "-n mono_metrics \\\n",
    "\"$cmd_prefix steps/decode.sh --nj 4 $exp/mono/graph $data/dev_0.15k $exp/mono/decode_dev_0.15k; \\\n",
    "$UKROASR_ROOT/parce_wer_report.sh $exp/mono/decode_dev_0.15k/scoring_kaldi/best_wer $exp/metrics/mono.json\""
   ]
  },
  {
   "cell_type": "code",
   "execution_count": 116,
   "metadata": {},
   "outputs": [
    {
     "name": "stdout",
     "output_type": "stream",
     "text": [
      "\u001b[0m{'WER': 71.19}\n"
     ]
    }
   ],
   "source": [
    "cat exp/metrics/mono.json"
   ]
  },
  {
   "cell_type": "code",
   "execution_count": 8,
   "metadata": {},
   "outputs": [
    {
     "name": "stdout",
     "output_type": "stream",
     "text": [
      "{'WER': 72.83}\n"
     ]
    }
   ],
   "source": [
    "cat exp/metrics/mono.json"
   ]
  },
  {
   "cell_type": "code",
   "execution_count": 17,
   "metadata": {},
   "outputs": [],
   "source": [
    "#base %WER 70.18\n",
    "#2kshort %WER 75.96\n",
    "#2kshort  + correct spk _2 %WER 75.41\n",
    "#2kshort  + correct spk _2 no _I_B_S_E %WER 76.24\n",
    "#2kshort  + correct spk _2 no _I_B_S_E small dev %WER 74.72 \n",
    "#2kshort  + correct spk _2 no _I_B_S_E shared silence phones small dev %WER 75.25\n",
    "#2kshort  + correct spk _2 no _I_B_S_E extra_questions stress %WER 75.70\n",
    "######################################################################################################################\n",
    "#2kshort  + 8 spk + no IBSE %WER 73.65\n",
    "#2kshort  + 8 spk + no IBSE %WER extra_questions stress 74.34"
   ]
  },
  {
   "cell_type": "markdown",
   "metadata": {},
   "source": [
    "# triphone"
   ]
  },
  {
   "cell_type": "code",
   "execution_count": null,
   "metadata": {},
   "outputs": [],
   "source": [
    "# aligning train data"
   ]
  },
  {
   "cell_type": "code",
   "execution_count": 118,
   "metadata": {},
   "outputs": [
    {
     "name": "stdout",
     "output_type": "stream",
     "text": [
      "Running stage 'mono_ali' with command:                                          \n",
      "\tcd $KALDI_ROOT/egs/wsj/s5; . ./path.sh; . ./cmd.sh; steps/align_si.sh --boost-silence 1.25 --nj 8 /data/exp/kostya/ukroASR/data/train_5k /data/exp/kostya/ukroASR/data/lang /data/exp/kostya/ukroASR/exp/mono /data/exp/kostya/ukroASR/exp/mono_train_5k_ali\n",
      "steps/align_si.sh --boost-silence 1.25 --nj 8 /data/exp/kostya/ukroASR/data/train_5k /data/exp/kostya/ukroASR/data/lang /data/exp/kostya/ukroASR/exp/mono /data/exp/kostya/ukroASR/exp/mono_train_5k_ali\n",
      "steps/align_si.sh: feature type is delta\n",
      "steps/align_si.sh: aligning data in /data/exp/kostya/ukroASR/data/train_5k using model from /data/exp/kostya/ukroASR/exp/mono, putting alignments in /data/exp/kostya/ukroASR/exp/mono_train_5k_ali\n",
      "steps/diagnostic/analyze_alignments.sh --cmd run.pl /data/exp/kostya/ukroASR/data/lang /data/exp/kostya/ukroASR/exp/mono_train_5k_ali\n",
      "analyze_phone_length_stats.py: WARNING: optional-silence SIL is seen only 50.461106656% of the time at utterance end.  This may not be optimal.\n",
      "steps/diagnostic/analyze_alignments.sh: see stats in /data/exp/kostya/ukroASR/exp/mono_train_5k_ali/log/analyze_alignments.log\n",
      "steps/align_si.sh: done aligning data.\n",
      "Adding stage 'mono_ali' in 'dvc.yaml'                                           \n",
      "Updating lock file 'dvc.lock'\n",
      "\n",
      "To track the changes with git, run:\n",
      "\n",
      "\tgit add dvc.lock dvc.yaml\n",
      "\u001b[0m"
     ]
    }
   ],
   "source": [
    "dvc run \\\n",
    "-d $data/train_5k/feats.scp -d $data/train_5k/utt2spk -d $data/train_5k/text -d $data/train_5k/cmvn.scp -d $data/lang/L.fst -d $data/lang/words.txt -d $data/lang/phones -d $data/lang/phones.txt -d $data/lang/oov.int -d $exp/mono/final.mdl -d $exp/mono/tree \\\n",
    "$(for f in $exp/mono_train_5k_ali/ali.*.gz; do echo -O $f; done) \\\n",
    "-n mono_ali \\\n",
    "\"$cmd_prefix steps/align_si.sh --boost-silence 1.25 --nj 8 $data/train_5k $data/lang $exp/mono $exp/mono_train_5k_ali\""
   ]
  },
  {
   "cell_type": "code",
   "execution_count": 122,
   "metadata": {
    "scrolled": true
   },
   "outputs": [
    {
     "name": "stdout",
     "output_type": "stream",
     "text": [
      "Running stage 'tri1' with command:                                              \n",
      "\tcd $KALDI_ROOT/egs/wsj/s5; . ./path.sh; . ./cmd.sh; steps/train_deltas.sh --boost-silence 1.25 2000 10000 /data/exp/kostya/ukroASR/data/train_5k /data/exp/kostya/ukroASR/data/lang /data/exp/kostya/ukroASR/exp/mono_train_5k_ali /data/exp/kostya/ukroASR/exp/tri1; cp /data/exp/kostya/ukroASR/exp/tri1/final.mdl /data/exp/kostya/ukroASR/exp/tri1/final.mdl_copy; mv /data/exp/kostya/ukroASR/exp/tri1/final.mdl_copy /data/exp/kostya/ukroASR/exp/tri1/final.mdl\n",
      "steps/train_deltas.sh --boost-silence 1.25 2000 10000 /data/exp/kostya/ukroASR/data/train_5k /data/exp/kostya/ukroASR/data/lang /data/exp/kostya/ukroASR/exp/mono_train_5k_ali /data/exp/kostya/ukroASR/exp/tri1\n",
      "steps/train_deltas.sh: accumulating tree stats\n",
      "steps/train_deltas.sh: getting questions for tree-building, via clustering\n",
      "steps/train_deltas.sh: building the tree\n",
      "WARNING (gmm-init-model[5.5.303~1-5a34a]:InitAmGmm():gmm-init-model.cc:55) Tree has pdf-id 2 with no stats; corresponding phone list: 3 \n",
      "WARNING (gmm-init-model[5.5.303~1-5a34a]:InitAmGmm():gmm-init-model.cc:55) Tree has pdf-id 10 with no stats; corresponding phone list: 11 \n",
      "WARNING (gmm-init-model[5.5.303~1-5a34a]:InitAmGmm():gmm-init-model.cc:55) Tree has pdf-id 12 with no stats; corresponding phone list: 13 \n",
      "WARNING (gmm-init-model[5.5.303~1-5a34a]:InitAmGmm():gmm-init-model.cc:55) Tree has pdf-id 14 with no stats; corresponding phone list: 15 \n",
      "WARNING (gmm-init-model[5.5.303~1-5a34a]:InitAmGmm():gmm-init-model.cc:55) Tree has pdf-id 17 with no stats; corresponding phone list: 18 \n",
      "WARNING (gmm-init-model[5.5.303~1-5a34a]:InitAmGmm():gmm-init-model.cc:55) Tree has pdf-id 44 with no stats; corresponding phone list: 45 \n",
      "WARNING (gmm-init-model[5.5.303~1-5a34a]:InitAmGmm():gmm-init-model.cc:55) Tree has pdf-id 52 with no stats; corresponding phone list: 53 \n",
      "WARNING (gmm-init-model[5.5.303~1-5a34a]:InitAmGmm():gmm-init-model.cc:55) Tree has pdf-id 61 with no stats; corresponding phone list: 62 \n",
      "WARNING (gmm-init-model[5.5.303~1-5a34a]:InitAmGmm():gmm-init-model.cc:55) Tree has pdf-id 63 with no stats; corresponding phone list: 64 \n",
      "WARNING (gmm-init-model[5.5.303~1-5a34a]:InitAmGmm():gmm-init-model.cc:55) Tree has pdf-id 80 with no stats; corresponding phone list: 81 \n",
      "WARNING (gmm-init-model[5.5.303~1-5a34a]:InitAmGmm():gmm-init-model.cc:55) Tree has pdf-id 82 with no stats; corresponding phone list: 83 \n",
      "WARNING (gmm-init-model[5.5.303~1-5a34a]:InitAmGmm():gmm-init-model.cc:55) Tree has pdf-id 84 with no stats; corresponding phone list: 85 \n",
      "WARNING (gmm-init-model[5.5.303~1-5a34a]:InitAmGmm():gmm-init-model.cc:55) Tree has pdf-id 87 with no stats; corresponding phone list: 88 \n",
      "WARNING (gmm-init-model[5.5.303~1-5a34a]:InitAmGmm():gmm-init-model.cc:55) Tree has pdf-id 94 with no stats; corresponding phone list: 95 \n",
      "WARNING (gmm-init-model[5.5.303~1-5a34a]:InitAmGmm():gmm-init-model.cc:55) Tree has pdf-id 103 with no stats; corresponding phone list: 104 \n",
      "WARNING (gmm-init-model[5.5.303~1-5a34a]:InitAmGmm():gmm-init-model.cc:55) Tree has pdf-id 105 with no stats; corresponding phone list: 106 \n",
      "** The warnings above about 'no stats' generally mean you have phones **\n",
      "** (or groups of phones) in your phone set that had no corresponding data. **\n",
      "** You should probably figure out whether something went wrong, **\n",
      "** or whether your data just doesn't happen to have examples of those **\n",
      "** phones. **\n",
      "steps/train_deltas.sh: converting alignments from /data/exp/kostya/ukroASR/exp/mono_train_5k_ali to use current tree\n",
      "steps/train_deltas.sh: compiling graphs of transcripts\n",
      "steps/train_deltas.sh: training pass 1\n",
      "steps/train_deltas.sh: training pass 2\n",
      "steps/train_deltas.sh: training pass 3\n",
      "steps/train_deltas.sh: training pass 4\n",
      "steps/train_deltas.sh: training pass 5\n",
      "steps/train_deltas.sh: training pass 6\n",
      "steps/train_deltas.sh: training pass 7\n",
      "steps/train_deltas.sh: training pass 8\n",
      "steps/train_deltas.sh: training pass 9\n",
      "steps/train_deltas.sh: training pass 10\n",
      "steps/train_deltas.sh: aligning data\n",
      "steps/train_deltas.sh: training pass 11\n",
      "steps/train_deltas.sh: training pass 12\n",
      "steps/train_deltas.sh: training pass 13\n",
      "steps/train_deltas.sh: training pass 14\n",
      "steps/train_deltas.sh: training pass 15\n",
      "steps/train_deltas.sh: training pass 16\n",
      "steps/train_deltas.sh: training pass 17\n",
      "steps/train_deltas.sh: training pass 18\n",
      "steps/train_deltas.sh: training pass 19\n",
      "steps/train_deltas.sh: training pass 20\n",
      "steps/train_deltas.sh: aligning data\n",
      "steps/train_deltas.sh: training pass 21\n",
      "steps/train_deltas.sh: training pass 22\n",
      "steps/train_deltas.sh: training pass 23\n",
      "steps/train_deltas.sh: training pass 24\n",
      "steps/train_deltas.sh: training pass 25\n",
      "steps/train_deltas.sh: training pass 26\n",
      "steps/train_deltas.sh: training pass 27\n",
      "steps/train_deltas.sh: training pass 28\n",
      "steps/train_deltas.sh: training pass 29\n",
      "steps/train_deltas.sh: training pass 30\n",
      "steps/train_deltas.sh: aligning data\n",
      "steps/train_deltas.sh: training pass 31\n",
      "steps/train_deltas.sh: training pass 32\n",
      "steps/train_deltas.sh: training pass 33\n",
      "steps/train_deltas.sh: training pass 34\n",
      "steps/diagnostic/analyze_alignments.sh --cmd run.pl /data/exp/kostya/ukroASR/data/lang /data/exp/kostya/ukroASR/exp/tri1\n",
      "analyze_phone_length_stats.py: WARNING: optional-silence SIL is seen only 49.8895804055% of the time at utterance end.  This may not be optimal.\n",
      "steps/diagnostic/analyze_alignments.sh: see stats in /data/exp/kostya/ukroASR/exp/tri1/log/analyze_alignments.log\n",
      "498 warnings in /data/exp/kostya/ukroASR/exp/tri1/log/align.*.*.log\n",
      "32 warnings in /data/exp/kostya/ukroASR/exp/tri1/log/init_model.log\n",
      "1 warnings in /data/exp/kostya/ukroASR/exp/tri1/log/analyze_alignments.log\n",
      "660 warnings in /data/exp/kostya/ukroASR/exp/tri1/log/update.*.log\n",
      "3 warnings in /data/exp/kostya/ukroASR/exp/tri1/log/build_tree.log\n",
      "16 warnings in /data/exp/kostya/ukroASR/exp/tri1/log/questions.log\n",
      "533 warnings in /data/exp/kostya/ukroASR/exp/tri1/log/acc.*.*.log\n",
      "/data/exp/kostya/ukroASR/exp/tri1: nj=8 align prob=-95.21 over 20.07h [retry=3.2%, fail=0.4%] states=1609 gauss=10029 tree-impr=3.52\n",
      "steps/train_deltas.sh: Done training system with delta+delta-delta features in /data/exp/kostya/ukroASR/exp/tri1\n",
      "Adding stage 'tri1' in 'dvc.yaml'                                               \n",
      "Updating lock file 'dvc.lock'\n",
      "\n",
      "To track the changes with git, run:\n",
      "\n",
      "\tgit add dvc.yaml dvc.lock\n",
      "\u001b[0m"
     ]
    }
   ],
   "source": [
    "dvc run \\\n",
    "$(for f in $exp/mono_train_5k_ali/ali.*.gz; do echo -d $f; done) -d $data/lang/L.fst -d $data/lang/words.txt -d $data/lang/phones.txt -d $data/lang/topo -d $data/lang/phones -d $data/train_5k/feats.scp -d $data/train_5k/utt2spk -d $data/train_5k/cmvn.scp \\\n",
    "-o $exp/tri1/final.mdl -o $exp/tri1/tree -o $exp/tri1/phones.txt \\\n",
    "-n tri1 \\\n",
    "\"$cmd_prefix steps/train_deltas.sh --boost-silence 1.25 2000 10000 $data/train_5k $data/lang $exp/mono_train_5k_ali $exp/tri1; \\\n",
    "cp $exp/tri1/final.mdl $exp/tri1/final.mdl_copy; mv $exp/tri1/final.mdl_copy $exp/tri1/final.mdl\""
   ]
  },
  {
   "cell_type": "code",
   "execution_count": 124,
   "metadata": {
    "scrolled": true
   },
   "outputs": [
    {
     "name": "stdout",
     "output_type": "stream",
     "text": [
      "Running stage 'tri1_graph' with command:                                        \n",
      "\tcd $KALDI_ROOT/egs/wsj/s5; . ./path.sh; . ./cmd.sh; utils/mkgraph.sh /data/exp/kostya/ukroASR/data/lang_ukr /data/exp/kostya/ukroASR/exp/tri1 /data/exp/kostya/ukroASR/exp/tri1/graph\n",
      "tree-info /data/exp/kostya/ukroASR/exp/tri1/tree \n",
      "tree-info /data/exp/kostya/ukroASR/exp/tri1/tree \n",
      "fstcomposecontext --context-size=3 --central-position=1 --read-disambig-syms=/data/exp/kostya/ukroASR/data/lang_ukr/phones/disambig.int --write-disambig-syms=/data/exp/kostya/ukroASR/data/lang_ukr/tmp/disambig_ilabels_3_1.int /data/exp/kostya/ukroASR/data/lang_ukr/tmp/ilabels_3_1.9608 /data/exp/kostya/ukroASR/data/lang_ukr/tmp/LG.fst \n",
      "fstisstochastic /data/exp/kostya/ukroASR/data/lang_ukr/tmp/CLG_3_1.fst \n",
      "0 -0.03691\n",
      "[info]: CLG not stochastic.\n",
      "make-h-transducer --disambig-syms-out=/data/exp/kostya/ukroASR/exp/tri1/graph/disambig_tid.int --transition-scale=1.0 /data/exp/kostya/ukroASR/data/lang_ukr/tmp/ilabels_3_1 /data/exp/kostya/ukroASR/exp/tri1/tree /data/exp/kostya/ukroASR/exp/tri1/final.mdl \n",
      "fsttablecompose /data/exp/kostya/ukroASR/exp/tri1/graph/Ha.fst /data/exp/kostya/ukroASR/data/lang_ukr/tmp/CLG_3_1.fst \n",
      "fstrmsymbols /data/exp/kostya/ukroASR/exp/tri1/graph/disambig_tid.int \n",
      "fstminimizeencoded \n",
      "fstrmepslocal \n",
      "fstdeterminizestar --use-log=true \n",
      "fstisstochastic /data/exp/kostya/ukroASR/exp/tri1/graph/HCLGa.fst \n",
      "0.601785 -0.104902\n",
      "HCLGa is not stochastic\n",
      "add-self-loops --self-loop-scale=0.1 --reorder=true /data/exp/kostya/ukroASR/exp/tri1/final.mdl /data/exp/kostya/ukroASR/exp/tri1/graph/HCLGa.fst \n",
      "Adding stage 'tri1_graph' in 'dvc.yaml'                                         \n",
      "Updating lock file 'dvc.lock'\n",
      "\n",
      "To track the changes with git, run:\n",
      "\n",
      "\tgit add dvc.yaml dvc.lock\n",
      "\u001b[0m"
     ]
    }
   ],
   "source": [
    "dvc run \\\n",
    "-d $exp/tri1/final.mdl -d $exp/tri1/tree -d $data/lang/L.fst -d $data/lang/G.fst -d $data/lang/phones.txt -d $data/lang/words.txt -d $data/lang/phones \\\n",
    "-O $exp/tri1/graph/HCLG.fst -O $exp/tri1/graph/words.txt \\\n",
    "-n tri1_graph \\\n",
    "\"$cmd_prefix utils/mkgraph.sh $data/lang_ukr $exp/tri1 $exp/tri1/graph\""
   ]
  },
  {
   "cell_type": "code",
   "execution_count": 126,
   "metadata": {
    "scrolled": true
   },
   "outputs": [
    {
     "name": "stdout",
     "output_type": "stream",
     "text": [
      "Running stage 'tri1_metrics' with command:                                      \n",
      "\tcd $KALDI_ROOT/egs/wsj/s5; . ./path.sh; . ./cmd.sh; steps/decode.sh --nj 4 /data/exp/kostya/ukroASR/exp/tri1/graph /data/exp/kostya/ukroASR/data/dev_0.15k /data/exp/kostya/ukroASR/exp/tri1/decode_dev_0.15k; /data/exp/kostya/ukroASR/parce_wer_report.sh /data/exp/kostya/ukroASR/exp/tri1/decode_dev_0.15k/scoring_kaldi/best_wer /data/exp/kostya/ukroASR/exp/metrics/tri1.json\n",
      "steps/decode.sh --nj 4 /data/exp/kostya/ukroASR/exp/tri1/graph /data/exp/kostya/ukroASR/data/dev_0.15k /data/exp/kostya/ukroASR/exp/tri1/decode_dev_0.15k\n",
      "decode.sh: feature type is delta\n",
      "steps/diagnostic/analyze_lats.sh --cmd run.pl /data/exp/kostya/ukroASR/exp/tri1/graph /data/exp/kostya/ukroASR/exp/tri1/decode_dev_0.15k\n",
      "analyze_phone_length_stats.py: WARNING: optional-silence SIL is seen only 49.3333333333% of the time at utterance end.  This may not be optimal.\n",
      "steps/diagnostic/analyze_lats.sh: see stats in /data/exp/kostya/ukroASR/exp/tri1/decode_dev_0.15k/log/analyze_alignments.log\n",
      "Overall, lattice depth (10,50,90-percentile)=(3,13,64) and mean=26.6\n",
      "steps/diagnostic/analyze_lats.sh: see stats in /data/exp/kostya/ukroASR/exp/tri1/decode_dev_0.15k/log/analyze_lattice_depth_stats.log\n",
      "local/score.sh --cmd run.pl /data/exp/kostya/ukroASR/data/dev_0.15k /data/exp/kostya/ukroASR/exp/tri1/graph /data/exp/kostya/ukroASR/exp/tri1/decode_dev_0.15k\n",
      "local/score.sh: scoring with word insertion penalty=0.0,0.5,1.0\n",
      "Adding stage 'tri1_metrics' in 'dvc.yaml'                                       \n",
      "Updating lock file 'dvc.lock'\n",
      "\n",
      "To track the changes with git, run:\n",
      "\n",
      "\tgit add dvc.yaml dvc.lock\n",
      "\u001b[0m"
     ]
    }
   ],
   "source": [
    "dvc run \\\n",
    "-d $data/dev_0.15k/utt2spk -d $data/dev_0.15k/feats.scp -d $data/dev_0.15k/cmvn.scp -d $exp/tri1/final.mdl -d $exp/tri1/graph/HCLG.fst -d $data/lang/words.txt \\\n",
    "-m $exp/metrics/tri1.json \\\n",
    "-n tri1_metrics \\\n",
    "\"$cmd_prefix steps/decode.sh --nj 4 $exp/tri1/graph $data/dev_0.15k $exp/tri1/decode_dev_0.15k; \\\n",
    "$UKROASR_ROOT/parce_wer_report.sh $exp/tri1/decode_dev_0.15k/scoring_kaldi/best_wer $exp/metrics/tri1.json\""
   ]
  },
  {
   "cell_type": "code",
   "execution_count": 127,
   "metadata": {},
   "outputs": [
    {
     "name": "stdout",
     "output_type": "stream",
     "text": [
      "\u001b[0m{'WER': 54.45}\n"
     ]
    }
   ],
   "source": [
    "cat exp/metrics/tri1.json"
   ]
  },
  {
   "cell_type": "code",
   "execution_count": 51,
   "metadata": {},
   "outputs": [
    {
     "name": "stdout",
     "output_type": "stream",
     "text": [
      "{'WER': 56.63}\n"
     ]
    }
   ],
   "source": [
    "cat exp/metrics/tri1.json"
   ]
  },
  {
   "cell_type": "code",
   "execution_count": null,
   "metadata": {},
   "outputs": [],
   "source": [
    "# base %WER 60.95\n",
    "# half + 2kshort %WER 61.70\n",
    "# whole_train + 2kshort %WER 61.73\n",
    "# half + 2kshort + correct spk_2 no _I_B_S_E short dev %WER 61.26\n",
    "# half + 2kshort + correct spk_2 no _I_B_S_E shared silence phones %WER 63.56\n",
    "# half + 2kshort + correct spk_2 no _I_B_S_E extra_questions stress %WER 61.51\n",
    "######################################################################################################################\n",
    "#2kshort + 45k + 8 spk + no IBSE %WER 56.72\n",
    "#2kshort + 45k + 8 spk + no IBSE + extra_questions stress %WER 56.28"
   ]
  },
  {
   "cell_type": "markdown",
   "metadata": {},
   "source": [
    "# lda mllt"
   ]
  },
  {
   "cell_type": "code",
   "execution_count": 129,
   "metadata": {},
   "outputs": [
    {
     "name": "stdout",
     "output_type": "stream",
     "text": [
      "Running stage 'tri_ali' with command:                                           \n",
      "\tcd $KALDI_ROOT/egs/wsj/s5; . ./path.sh; . ./cmd.sh; steps/align_si.sh --nj 8 /data/exp/kostya/ukroASR/data/train /data/exp/kostya/ukroASR/data/lang /data/exp/kostya/ukroASR/exp/tri1 /data/exp/kostya/ukroASR/exp/tri1_train_ali\n",
      "steps/align_si.sh --nj 8 /data/exp/kostya/ukroASR/data/train /data/exp/kostya/ukroASR/data/lang /data/exp/kostya/ukroASR/exp/tri1 /data/exp/kostya/ukroASR/exp/tri1_train_ali\n",
      "steps/align_si.sh: feature type is delta\n",
      "steps/align_si.sh: aligning data in /data/exp/kostya/ukroASR/data/train using model from /data/exp/kostya/ukroASR/exp/tri1, putting alignments in /data/exp/kostya/ukroASR/exp/tri1_train_ali\n",
      "steps/diagnostic/analyze_alignments.sh --cmd run.pl /data/exp/kostya/ukroASR/data/lang /data/exp/kostya/ukroASR/exp/tri1_train_ali\n",
      "analyze_phone_length_stats.py: WARNING: optional-silence SIL is seen only 50.2029550252% of the time at utterance end.  This may not be optimal.\n",
      "steps/diagnostic/analyze_alignments.sh: see stats in /data/exp/kostya/ukroASR/exp/tri1_train_ali/log/analyze_alignments.log\n",
      "steps/align_si.sh: done aligning data.\n",
      "Adding stage 'tri_ali' in 'dvc.yaml'                                            \n",
      "Updating lock file 'dvc.lock'\n",
      "\n",
      "To track the changes with git, run:\n",
      "\n",
      "\tgit add dvc.yaml dvc.lock\n",
      "\u001b[0m"
     ]
    }
   ],
   "source": [
    "dvc run \\\n",
    "-d $data/train/feats.scp -d $data/train/utt2spk -d $data/train/text -d $data/train/cmvn.scp -d $data/lang/L.fst -d $data/lang/words.txt -d $data/lang/phones -d $data/lang/phones.txt -d $data/lang/oov.int -d $exp/tri1/final.mdl -d $exp/tri1/tree \\\n",
    "$(for f in $exp/tri1_train_ali/ali.*.gz; do echo -O $f; done) \\\n",
    "-n tri_ali \\\n",
    "\"$cmd_prefix steps/align_si.sh --nj 8 $data/train $data/lang $exp/tri1 $exp/tri1_train_ali\""
   ]
  },
  {
   "cell_type": "code",
   "execution_count": 130,
   "metadata": {},
   "outputs": [
    {
     "name": "stdout",
     "output_type": "stream",
     "text": [
      "mkdir: cannot create directory '/data/exp/kostya/ukroASR/exp/tri2b': File exists\n"
     ]
    },
    {
     "ename": "",
     "evalue": "1",
     "output_type": "error",
     "traceback": []
    }
   ],
   "source": [
    "mkdir /data/exp/kostya/ukroASR/exp/tri2b"
   ]
  },
  {
   "cell_type": "code",
   "execution_count": 132,
   "metadata": {
    "scrolled": true
   },
   "outputs": [
    {
     "name": "stdout",
     "output_type": "stream",
     "text": [
      "Running stage 'tri2b' with command:                                             \n",
      "\tcd $KALDI_ROOT/egs/wsj/s5; . ./path.sh; . ./cmd.sh; steps/train_lda_mllt.sh --splice-opts \"--left-context=3 --right-context=3\" 2500 15000 /data/exp/kostya/ukroASR/data/train /data/exp/kostya/ukroASR/data/lang /data/exp/kostya/ukroASR/exp/tri1_train_ali /data/exp/kostya/ukroASR/exp/tri2b; cp /data/exp/kostya/ukroASR/exp/tri2b/final.mdl /data/exp/kostya/ukroASR/exp/tri2b/final.mdl_copy; mv /data/exp/kostya/ukroASR/exp/tri2b/final.mdl_copy /data/exp/kostya/ukroASR/exp/tri2b/final.mdl; cp /data/exp/kostya/ukroASR/exp/tri2b/final.mat /data/exp/kostya/ukroASR/exp/tri2b/final.mat_copy; mv /data/exp/kostya/ukroASR/exp/tri2b/final.mat_copy /data/exp/kostya/ukroASR/exp/tri2b/final.mat\n",
      "steps/train_lda_mllt.sh --splice-opts --left-context=3 --right-context=3 2500 15000 /data/exp/kostya/ukroASR/data/train /data/exp/kostya/ukroASR/data/lang /data/exp/kostya/ukroASR/exp/tri1_train_ali /data/exp/kostya/ukroASR/exp/tri2b\n",
      "steps/train_lda_mllt.sh: Accumulating LDA statistics.\n",
      "steps/train_lda_mllt.sh: Accumulating tree stats\n",
      "steps/train_lda_mllt.sh: Getting questions for tree clustering.\n",
      "steps/train_lda_mllt.sh: Building the tree\n",
      "steps/train_lda_mllt.sh: Initializing the model\n",
      "WARNING (gmm-init-model[5.5.303~1-5a34a]:InitAmGmm():gmm-init-model.cc:55) Tree has pdf-id 2 with no stats; corresponding phone list: 3 \n",
      "WARNING (gmm-init-model[5.5.303~1-5a34a]:InitAmGmm():gmm-init-model.cc:55) Tree has pdf-id 10 with no stats; corresponding phone list: 11 \n",
      "WARNING (gmm-init-model[5.5.303~1-5a34a]:InitAmGmm():gmm-init-model.cc:55) Tree has pdf-id 12 with no stats; corresponding phone list: 13 \n",
      "WARNING (gmm-init-model[5.5.303~1-5a34a]:InitAmGmm():gmm-init-model.cc:55) Tree has pdf-id 14 with no stats; corresponding phone list: 15 \n",
      "WARNING (gmm-init-model[5.5.303~1-5a34a]:InitAmGmm():gmm-init-model.cc:55) Tree has pdf-id 17 with no stats; corresponding phone list: 18 \n",
      "WARNING (gmm-init-model[5.5.303~1-5a34a]:InitAmGmm():gmm-init-model.cc:55) Tree has pdf-id 44 with no stats; corresponding phone list: 45 \n",
      "WARNING (gmm-init-model[5.5.303~1-5a34a]:InitAmGmm():gmm-init-model.cc:55) Tree has pdf-id 61 with no stats; corresponding phone list: 62 \n",
      "WARNING (gmm-init-model[5.5.303~1-5a34a]:InitAmGmm():gmm-init-model.cc:55) Tree has pdf-id 63 with no stats; corresponding phone list: 64 \n",
      "WARNING (gmm-init-model[5.5.303~1-5a34a]:InitAmGmm():gmm-init-model.cc:55) Tree has pdf-id 80 with no stats; corresponding phone list: 81 \n",
      "WARNING (gmm-init-model[5.5.303~1-5a34a]:InitAmGmm():gmm-init-model.cc:55) Tree has pdf-id 82 with no stats; corresponding phone list: 83 \n",
      "WARNING (gmm-init-model[5.5.303~1-5a34a]:InitAmGmm():gmm-init-model.cc:55) Tree has pdf-id 84 with no stats; corresponding phone list: 85 \n",
      "WARNING (gmm-init-model[5.5.303~1-5a34a]:InitAmGmm():gmm-init-model.cc:55) Tree has pdf-id 103 with no stats; corresponding phone list: 104 \n",
      "WARNING (gmm-init-model[5.5.303~1-5a34a]:InitAmGmm():gmm-init-model.cc:55) Tree has pdf-id 105 with no stats; corresponding phone list: 106 \n",
      "This is a bad warning.\n",
      "steps/train_lda_mllt.sh: Converting alignments from /data/exp/kostya/ukroASR/exp/tri1_train_ali to use current tree\n",
      "steps/train_lda_mllt.sh: Compiling graphs of transcripts\n",
      "Training pass 1\n",
      "Training pass 2\n",
      "steps/train_lda_mllt.sh: Estimating MLLT\n",
      "Training pass 3\n",
      "Training pass 4\n",
      "steps/train_lda_mllt.sh: Estimating MLLT\n",
      "Training pass 5\n",
      "Training pass 6\n",
      "steps/train_lda_mllt.sh: Estimating MLLT\n",
      "Training pass 7\n",
      "Training pass 8\n",
      "Training pass 9\n",
      "Training pass 10\n",
      "Aligning data\n",
      "Training pass 11\n",
      "Training pass 12\n",
      "steps/train_lda_mllt.sh: Estimating MLLT\n",
      "Training pass 13\n",
      "Training pass 14\n",
      "Training pass 15\n",
      "Training pass 16\n",
      "Training pass 17\n",
      "Training pass 18\n",
      "Training pass 19\n",
      "Training pass 20\n",
      "Aligning data\n",
      "Training pass 21\n",
      "Training pass 22\n",
      "Training pass 23\n",
      "Training pass 24\n",
      "Training pass 25\n",
      "Training pass 26\n",
      "Training pass 27\n",
      "Training pass 28\n",
      "Training pass 29\n",
      "Training pass 30\n",
      "Aligning data\n",
      "Training pass 31\n",
      "Training pass 32\n",
      "Training pass 33\n",
      "Training pass 34\n",
      "steps/diagnostic/analyze_alignments.sh --cmd run.pl /data/exp/kostya/ukroASR/data/lang /data/exp/kostya/ukroASR/exp/tri2b\n",
      "analyze_phone_length_stats.py: WARNING: optional-silence SIL is seen only 48.4195986024% of the time at utterance end.  This may not be optimal.\n",
      "steps/diagnostic/analyze_alignments.sh: see stats in /data/exp/kostya/ukroASR/exp/tri2b/log/analyze_alignments.log\n",
      "27 warnings in /data/exp/kostya/ukroASR/exp/tri2b/log/init_model.log\n",
      "13 warnings in /data/exp/kostya/ukroASR/exp/tri2b/log/questions.log\n",
      "1 warnings in /data/exp/kostya/ukroASR/exp/tri2b/log/analyze_alignments.log\n",
      "511 warnings in /data/exp/kostya/ukroASR/exp/tri2b/log/update.*.log\n",
      "60 warnings in /data/exp/kostya/ukroASR/exp/tri2b/log/lda_acc.*.log\n",
      "1545 warnings in /data/exp/kostya/ukroASR/exp/tri2b/log/align.*.*.log\n",
      "3 warnings in /data/exp/kostya/ukroASR/exp/tri2b/log/build_tree.log\n",
      "2235 warnings in /data/exp/kostya/ukroASR/exp/tri2b/log/acc.*.*.log\n",
      "/data/exp/kostya/ukroASR/exp/tri2b: nj=8 align prob=-48.34 over 49.46h [retry=3.8%, fail=0.6%] states=2097 gauss=15026 tree-impr=3.85 lda-sum=17.06 mllt:impr,logdet=1.01,1.51\n",
      "steps/train_lda_mllt.sh: Done training system with LDA+MLLT features in /data/exp/kostya/ukroASR/exp/tri2b\n",
      "Adding stage 'tri2b' in 'dvc.yaml'                                              \n",
      "Updating lock file 'dvc.lock'\n",
      "\n",
      "To track the changes with git, run:\n",
      "\n",
      "\tgit add dvc.yaml dvc.lock\n",
      "\u001b[0m"
     ]
    }
   ],
   "source": [
    "dvc run \\\n",
    "$(for f in $exp/tri1_train_ali/ali.*.gz; do echo -d $f; done) -d $data/lang/L.fst -d $data/lang/words.txt -d $data/lang/phones.txt -d $data/lang/topo -d $data/lang/phones -d $data/train/feats.scp -d $data/train/utt2spk -d $data/train/cmvn.scp \\\n",
    "-o $exp/tri2b/final.mdl -o $exp/tri2b/final.mat -o $exp/tri2b/tree -o $exp/tri2b/phones.txt \\\n",
    "-n tri2b \\\n",
    "\"$cmd_prefix steps/train_lda_mllt.sh --splice-opts \\\"--left-context=3 --right-context=3\\\" 2500 15000 $data/train $data/lang $exp/tri1_train_ali $exp/tri2b; \\\n",
    "cp $exp/tri2b/final.mdl $exp/tri2b/final.mdl_copy; mv $exp/tri2b/final.mdl_copy $exp/tri2b/final.mdl; \\\n",
    "cp $exp/tri2b/final.mat $exp/tri2b/final.mat_copy; mv $exp/tri2b/final.mat_copy $exp/tri2b/final.mat\""
   ]
  },
  {
   "cell_type": "code",
   "execution_count": 134,
   "metadata": {},
   "outputs": [
    {
     "name": "stdout",
     "output_type": "stream",
     "text": [
      "Running stage 'tri2b_graph' with command:                                       \n",
      "\tcd $KALDI_ROOT/egs/wsj/s5; . ./path.sh; . ./cmd.sh; utils/mkgraph.sh /data/exp/kostya/ukroASR/data/lang_ukr /data/exp/kostya/ukroASR/exp/tri2b /data/exp/kostya/ukroASR/exp/tri2b/graph\n",
      "tree-info /data/exp/kostya/ukroASR/exp/tri2b/tree \n",
      "tree-info /data/exp/kostya/ukroASR/exp/tri2b/tree \n",
      "make-h-transducer --disambig-syms-out=/data/exp/kostya/ukroASR/exp/tri2b/graph/disambig_tid.int --transition-scale=1.0 /data/exp/kostya/ukroASR/data/lang_ukr/tmp/ilabels_3_1 /data/exp/kostya/ukroASR/exp/tri2b/tree /data/exp/kostya/ukroASR/exp/tri2b/final.mdl \n",
      "fstrmepslocal \n",
      "fstrmsymbols /data/exp/kostya/ukroASR/exp/tri2b/graph/disambig_tid.int \n",
      "fstdeterminizestar --use-log=true \n",
      "fsttablecompose /data/exp/kostya/ukroASR/exp/tri2b/graph/Ha.fst /data/exp/kostya/ukroASR/data/lang_ukr/tmp/CLG_3_1.fst \n",
      "fstminimizeencoded \n",
      "fstisstochastic /data/exp/kostya/ukroASR/exp/tri2b/graph/HCLGa.fst \n",
      "0.578142 -0.104913\n",
      "HCLGa is not stochastic\n",
      "add-self-loops --self-loop-scale=0.1 --reorder=true /data/exp/kostya/ukroASR/exp/tri2b/final.mdl /data/exp/kostya/ukroASR/exp/tri2b/graph/HCLGa.fst \n",
      "Adding stage 'tri2b_graph' in 'dvc.yaml'                                        \n",
      "Updating lock file 'dvc.lock'\n",
      "\n",
      "To track the changes with git, run:\n",
      "\n",
      "\tgit add dvc.yaml dvc.lock\n",
      "\u001b[0m"
     ]
    }
   ],
   "source": [
    "dvc run \\\n",
    "-d $exp/tri2b/final.mdl -d $exp/tri2b/tree -d $data/lang/L.fst -d $data/lang/G.fst -d $data/lang/phones.txt -d $data/lang/words.txt -d $data/lang/phones \\\n",
    "-O $exp/tri2b/graph/HCLG.fst -O $exp/tri2b/graph/words.txt \\\n",
    "-n tri2b_graph \\\n",
    "\"$cmd_prefix utils/mkgraph.sh $data/lang_ukr $exp/tri2b $exp/tri2b/graph\""
   ]
  },
  {
   "cell_type": "code",
   "execution_count": 136,
   "metadata": {},
   "outputs": [
    {
     "name": "stdout",
     "output_type": "stream",
     "text": [
      "Running stage 'tri2b_metrics' with command:                                     \n",
      "\tcd $KALDI_ROOT/egs/wsj/s5; . ./path.sh; . ./cmd.sh; steps/decode.sh --nj 4 /data/exp/kostya/ukroASR/exp/tri2b/graph /data/exp/kostya/ukroASR/data/dev_0.15k /data/exp/kostya/ukroASR/exp/tri2b/decode_dev_0.15k; /data/exp/kostya/ukroASR/parce_wer_report.sh /data/exp/kostya/ukroASR/exp/tri2b/decode_dev_0.15k/scoring_kaldi/best_wer /data/exp/kostya/ukroASR/exp/metrics/tri2b.json\n",
      "steps/decode.sh --nj 4 /data/exp/kostya/ukroASR/exp/tri2b/graph /data/exp/kostya/ukroASR/data/dev_0.15k /data/exp/kostya/ukroASR/exp/tri2b/decode_dev_0.15k\n",
      "decode.sh: feature type is lda\n",
      "steps/diagnostic/analyze_lats.sh --cmd run.pl /data/exp/kostya/ukroASR/exp/tri2b/graph /data/exp/kostya/ukroASR/exp/tri2b/decode_dev_0.15k\n",
      "analyze_phone_length_stats.py: WARNING: optional-silence SIL is seen only 47.3333333333% of the time at utterance end.  This may not be optimal.\n",
      "steps/diagnostic/analyze_lats.sh: see stats in /data/exp/kostya/ukroASR/exp/tri2b/decode_dev_0.15k/log/analyze_alignments.log\n",
      "Overall, lattice depth (10,50,90-percentile)=(2,9,47) and mean=19.5\n",
      "steps/diagnostic/analyze_lats.sh: see stats in /data/exp/kostya/ukroASR/exp/tri2b/decode_dev_0.15k/log/analyze_lattice_depth_stats.log\n",
      "local/score.sh --cmd run.pl /data/exp/kostya/ukroASR/data/dev_0.15k /data/exp/kostya/ukroASR/exp/tri2b/graph /data/exp/kostya/ukroASR/exp/tri2b/decode_dev_0.15k\n",
      "local/score.sh: scoring with word insertion penalty=0.0,0.5,1.0\n",
      "Adding stage 'tri2b_metrics' in 'dvc.yaml'                                      \n",
      "Updating lock file 'dvc.lock'\n",
      "\n",
      "To track the changes with git, run:\n",
      "\n",
      "\tgit add dvc.lock dvc.yaml\n",
      "\u001b[0m"
     ]
    }
   ],
   "source": [
    "dvc run \\\n",
    "-d $data/dev_0.15k/utt2spk -d $data/dev_0.15k/feats.scp -d $data/dev_0.15k/cmvn.scp -d $exp/tri2b/final.mdl -d $exp/tri2b/final.mat -d $exp/tri2b/graph/HCLG.fst -d $data/lang/words.txt \\\n",
    "-m $exp/metrics/tri2b.json \\\n",
    "-n tri2b_metrics \\\n",
    "\"$cmd_prefix steps/decode.sh --nj 4 $exp/tri2b/graph $data/dev_0.15k $exp/tri2b/decode_dev_0.15k; \\\n",
    "$UKROASR_ROOT/parce_wer_report.sh $exp/tri2b/decode_dev_0.15k/scoring_kaldi/best_wer $exp/metrics/tri2b.json\""
   ]
  },
  {
   "cell_type": "code",
   "execution_count": 137,
   "metadata": {},
   "outputs": [
    {
     "name": "stdout",
     "output_type": "stream",
     "text": [
      "\u001b[0m{'WER': 53.15}\n"
     ]
    }
   ],
   "source": [
    "cat $exp/metrics/tri2b.json"
   ]
  },
  {
   "cell_type": "code",
   "execution_count": 36,
   "metadata": {},
   "outputs": [
    {
     "name": "stdout",
     "output_type": "stream",
     "text": [
      "{'WER': 55.49}\n"
     ]
    }
   ],
   "source": [
    "cat $exp/metrics/tri2b.json"
   ]
  },
  {
   "cell_type": "code",
   "execution_count": null,
   "metadata": {},
   "outputs": [],
   "source": [
    "#base %WER 68.48\n",
    "# half + 2kshort %WER 68.22\n",
    "# full + 2kshort + correct spk %WER 67.81\n",
    "# full + 2kshort + correct spk _2 %WER 65.25\n",
    "# 2kshort + half + correct spk_2 + no _I_B_S_E %WER 64.77\n",
    "# 2kshort + half + correct spk_2 + no _I_B_S_E shared silence phones  %WER 67.73\n",
    "# half + 2kshort + correct spk_2 no _I_B_S_E extra_questions stress %WER 64.91\n",
    "######################################################################################################################\n",
    "#2kshort + 45k + 8 spk + no IBSE %WER 56.31\n",
    "#2kshort + 45k + 8 spk + no IBSE + extra_questions stress %WER 57.05"
   ]
  },
  {
   "cell_type": "markdown",
   "metadata": {},
   "source": [
    "# LDA + MLLT + SAT"
   ]
  },
  {
   "cell_type": "code",
   "execution_count": 139,
   "metadata": {},
   "outputs": [
    {
     "name": "stdout",
     "output_type": "stream",
     "text": [
      "Running stage 'tri2b_ali' with command:                                         \n",
      "\tcd $KALDI_ROOT/egs/wsj/s5; . ./path.sh; . ./cmd.sh; steps/align_si.sh --nj 8 /data/exp/kostya/ukroASR/data/train /data/exp/kostya/ukroASR/data/lang /data/exp/kostya/ukroASR/exp/tri2b /data/exp/kostya/ukroASR/exp/tri2b_train_ali\n",
      "steps/align_si.sh --nj 8 /data/exp/kostya/ukroASR/data/train /data/exp/kostya/ukroASR/data/lang /data/exp/kostya/ukroASR/exp/tri2b /data/exp/kostya/ukroASR/exp/tri2b_train_ali\n",
      "steps/align_si.sh: feature type is lda\n",
      "steps/align_si.sh: aligning data in /data/exp/kostya/ukroASR/data/train using model from /data/exp/kostya/ukroASR/exp/tri2b, putting alignments in /data/exp/kostya/ukroASR/exp/tri2b_train_ali\n",
      "steps/diagnostic/analyze_alignments.sh --cmd run.pl /data/exp/kostya/ukroASR/data/lang /data/exp/kostya/ukroASR/exp/tri2b_train_ali\n",
      "analyze_phone_length_stats.py: WARNING: optional-silence SIL is seen only 48.3503981797% of the time at utterance end.  This may not be optimal.\n",
      "steps/diagnostic/analyze_alignments.sh: see stats in /data/exp/kostya/ukroASR/exp/tri2b_train_ali/log/analyze_alignments.log\n",
      "steps/align_si.sh: done aligning data.\n",
      "Adding stage 'tri2b_ali' in 'dvc.yaml'                                          \n",
      "Updating lock file 'dvc.lock'\n",
      "\n",
      "To track the changes with git, run:\n",
      "\n",
      "\tgit add dvc.yaml dvc.lock\n",
      "\u001b[0m"
     ]
    }
   ],
   "source": [
    "dvc run \\\n",
    "-d $data/train/feats.scp -d $data/train/utt2spk -d $data/train/text -d $data/train/cmvn.scp -d $data/lang/L.fst -d $data/lang/words.txt -d $data/lang/phones -d $data/lang/phones.txt -d $data/lang/oov.int -d $exp/tri2b/final.mdl -d $exp/tri2b/final.mat -d $exp/tri2b/full.mat -d $exp/tri2b/tree \\\n",
    "$(for f in $exp/tri2b_train_ali/ali.*.gz; do echo -O $f; done) \\\n",
    "-n tri2b_ali \\\n",
    "\"$cmd_prefix steps/align_si.sh --nj 8 $data/train $data/lang $exp/tri2b $exp/tri2b_train_ali\""
   ]
  },
  {
   "cell_type": "code",
   "execution_count": 141,
   "metadata": {
    "scrolled": true
   },
   "outputs": [
    {
     "name": "stdout",
     "output_type": "stream",
     "text": [
      "Running stage 'tri3b' with command:                                             \n",
      "\tcd $KALDI_ROOT/egs/wsj/s5; . ./path.sh; . ./cmd.sh; steps/train_sat.sh 2500 15000 /data/exp/kostya/ukroASR/data/train /data/exp/kostya/ukroASR/data/lang /data/exp/kostya/ukroASR/exp/tri2b_train_ali /data/exp/kostya/ukroASR/exp/tri3b; cp /data/exp/kostya/ukroASR/exp/tri3b/final.mdl /data/exp/kostya/ukroASR/exp/tri3b/final.mdl_copy; mv /data/exp/kostya/ukroASR/exp/tri3b/final.mdl_copy /data/exp/kostya/ukroASR/exp/tri3b/final.mdl; cp /data/exp/kostya/ukroASR/exp/tri3b/final.mat /data/exp/kostya/ukroASR/exp/tri3b/final.mat_copy; mv /data/exp/kostya/ukroASR/exp/tri3b/final.mat_copy /data/exp/kostya/ukroASR/exp/tri3b/final.mat\n",
      "steps/train_sat.sh 2500 15000 /data/exp/kostya/ukroASR/data/train /data/exp/kostya/ukroASR/data/lang /data/exp/kostya/ukroASR/exp/tri2b_train_ali /data/exp/kostya/ukroASR/exp/tri3b\n",
      "steps/train_sat.sh: feature type is lda\n",
      "steps/train_sat.sh: obtaining initial fMLLR transforms since not present in /data/exp/kostya/ukroASR/exp/tri2b_train_ali\n",
      "steps/train_sat.sh: Accumulating tree stats\n",
      "steps/train_sat.sh: Getting questions for tree clustering.\n",
      "steps/train_sat.sh: Building the tree\n",
      "steps/train_sat.sh: Initializing the model\n",
      "WARNING (gmm-init-model[5.5.303~1-5a34a]:InitAmGmm():gmm-init-model.cc:55) Tree has pdf-id 2 with no stats; corresponding phone list: 3 \n",
      "WARNING (gmm-init-model[5.5.303~1-5a34a]:InitAmGmm():gmm-init-model.cc:55) Tree has pdf-id 10 with no stats; corresponding phone list: 11 \n",
      "WARNING (gmm-init-model[5.5.303~1-5a34a]:InitAmGmm():gmm-init-model.cc:55) Tree has pdf-id 12 with no stats; corresponding phone list: 13 \n",
      "WARNING (gmm-init-model[5.5.303~1-5a34a]:InitAmGmm():gmm-init-model.cc:55) Tree has pdf-id 14 with no stats; corresponding phone list: 15 \n",
      "WARNING (gmm-init-model[5.5.303~1-5a34a]:InitAmGmm():gmm-init-model.cc:55) Tree has pdf-id 17 with no stats; corresponding phone list: 18 \n",
      "WARNING (gmm-init-model[5.5.303~1-5a34a]:InitAmGmm():gmm-init-model.cc:55) Tree has pdf-id 44 with no stats; corresponding phone list: 45 \n",
      "WARNING (gmm-init-model[5.5.303~1-5a34a]:InitAmGmm():gmm-init-model.cc:55) Tree has pdf-id 61 with no stats; corresponding phone list: 62 \n",
      "WARNING (gmm-init-model[5.5.303~1-5a34a]:InitAmGmm():gmm-init-model.cc:55) Tree has pdf-id 63 with no stats; corresponding phone list: 64 \n",
      "WARNING (gmm-init-model[5.5.303~1-5a34a]:InitAmGmm():gmm-init-model.cc:55) Tree has pdf-id 80 with no stats; corresponding phone list: 81 \n",
      "WARNING (gmm-init-model[5.5.303~1-5a34a]:InitAmGmm():gmm-init-model.cc:55) Tree has pdf-id 82 with no stats; corresponding phone list: 83 \n",
      "WARNING (gmm-init-model[5.5.303~1-5a34a]:InitAmGmm():gmm-init-model.cc:55) Tree has pdf-id 84 with no stats; corresponding phone list: 85 \n",
      "WARNING (gmm-init-model[5.5.303~1-5a34a]:InitAmGmm():gmm-init-model.cc:55) Tree has pdf-id 103 with no stats; corresponding phone list: 104 \n",
      "WARNING (gmm-init-model[5.5.303~1-5a34a]:InitAmGmm():gmm-init-model.cc:55) Tree has pdf-id 105 with no stats; corresponding phone list: 106 \n",
      "This is a bad warning.\n",
      "steps/train_sat.sh: Converting alignments from /data/exp/kostya/ukroASR/exp/tri2b_train_ali to use current tree\n",
      "steps/train_sat.sh: Compiling graphs of transcripts\n",
      "Pass 1\n",
      "Pass 2\n",
      "Estimating fMLLR transforms\n",
      "Pass 3\n",
      "Pass 4\n",
      "Estimating fMLLR transforms\n",
      "Pass 5\n",
      "Pass 6\n",
      "Estimating fMLLR transforms\n",
      "Pass 7\n",
      "Pass 8\n",
      "Pass 9\n",
      "Pass 10\n",
      "Aligning data\n",
      "Pass 11\n",
      "Pass 12\n",
      "Estimating fMLLR transforms\n",
      "Pass 13\n",
      "Pass 14\n",
      "Pass 15\n",
      "Pass 16\n",
      "Pass 17\n",
      "Pass 18\n",
      "Pass 19\n",
      "Pass 20\n",
      "Aligning data\n",
      "Pass 21\n",
      "Pass 22\n",
      "Pass 23\n",
      "Pass 24\n",
      "Pass 25\n",
      "Pass 26\n",
      "Pass 27\n",
      "Pass 28\n",
      "Pass 29\n",
      "Pass 30\n",
      "Aligning data\n",
      "Pass 31\n",
      "Pass 32\n",
      "Pass 33\n",
      "Pass 34\n",
      "steps/diagnostic/analyze_alignments.sh --cmd run.pl /data/exp/kostya/ukroASR/data/lang /data/exp/kostya/ukroASR/exp/tri3b\n",
      "analyze_phone_length_stats.py: WARNING: optional-silence SIL is seen only 47.0573890424% of the time at utterance end.  This may not be optimal.\n",
      "steps/diagnostic/analyze_alignments.sh: see stats in /data/exp/kostya/ukroASR/exp/tri3b/log/analyze_alignments.log\n",
      "2748 warnings in /data/exp/kostya/ukroASR/exp/tri3b/log/acc.*.*.log\n",
      "1596 warnings in /data/exp/kostya/ukroASR/exp/tri3b/log/align.*.*.log\n",
      "510 warnings in /data/exp/kostya/ukroASR/exp/tri3b/log/update.*.log\n",
      "1 warnings in /data/exp/kostya/ukroASR/exp/tri3b/log/analyze_alignments.log\n",
      "15 warnings in /data/exp/kostya/ukroASR/exp/tri3b/log/est_alimdl.log\n",
      "3 warnings in /data/exp/kostya/ukroASR/exp/tri3b/log/build_tree.log\n",
      "13 warnings in /data/exp/kostya/ukroASR/exp/tri3b/log/questions.log\n",
      "373 warnings in /data/exp/kostya/ukroASR/exp/tri3b/log/fmllr.*.*.log\n",
      "25 warnings in /data/exp/kostya/ukroASR/exp/tri3b/log/init_model.log\n",
      "steps/train_sat.sh: Likelihood evolution:\n",
      "-50.8017 -49.7234 -49.2679 -49.1718 -48.7425 -48.26 -47.8842 -47.6608 -47.4981 -47.005 -46.8228 -46.6668 -46.5544 -46.467 -46.381 -46.289 -46.2096 -46.1475 -46.0856 -45.9216 -45.8197 -45.762 -45.7114 -45.667 -45.6238 -45.5818 -45.5413 -45.5001 -45.4592 -45.3671 -45.3149 -45.2922 -45.2783 -45.269 \n",
      "/data/exp/kostya/ukroASR/exp/tri3b: nj=8 align prob=-48.97 over 49.35h [retry=3.4%, fail=0.6%] states=2113 gauss=15024 fmllr-impr=3.18 over 36.21h tree-impr=5.40\n",
      "steps/train_sat.sh: done training SAT system in /data/exp/kostya/ukroASR/exp/tri3b\n",
      "Adding stage 'tri3b' in 'dvc.yaml'                                              \n",
      "Updating lock file 'dvc.lock'\n",
      "\n",
      "To track the changes with git, run:\n",
      "\n",
      "\tgit add dvc.yaml dvc.lock\n",
      "\u001b[0m"
     ]
    }
   ],
   "source": [
    "dvc run \\\n",
    "$(for f in $exp/tri2b_train_ali/ali.*.gz; do echo -d $f; done) -d $data/lang/L.fst -d $data/lang/words.txt -d $data/lang/phones.txt -d $data/lang/topo -d $data/lang/phones -d $data/train/feats.scp -d $data/train/utt2spk -d $data/train/cmvn.scp \\\n",
    "-o $exp/tri3b/final.mdl -o $exp/tri3b/final.mat -o $exp/tri3b/tree -o $exp/tri3b/phones.txt \\\n",
    "-n tri3b \\\n",
    "\"$cmd_prefix steps/train_sat.sh 2500 15000 $data/train $data/lang $exp/tri2b_train_ali $exp/tri3b; \\\n",
    "cp $exp/tri3b/final.mdl $exp/tri3b/final.mdl_copy; mv $exp/tri3b/final.mdl_copy $exp/tri3b/final.mdl; \\\n",
    "cp $exp/tri3b/final.mat $exp/tri3b/final.mat_copy; mv $exp/tri3b/final.mat_copy $exp/tri3b/final.mat\""
   ]
  },
  {
   "cell_type": "code",
   "execution_count": 143,
   "metadata": {
    "scrolled": true
   },
   "outputs": [
    {
     "name": "stdout",
     "output_type": "stream",
     "text": [
      "Running stage 'tri3b_graph' with command:                                       \n",
      "\tcd $KALDI_ROOT/egs/wsj/s5; . ./path.sh; . ./cmd.sh; utils/mkgraph.sh /data/exp/kostya/ukroASR/data/lang /data/exp/kostya/ukroASR/exp/tri3b /data/exp/kostya/ukroASR/exp/tri3b/graph\n",
      "tree-info /data/exp/kostya/ukroASR/exp/tri3b/tree \n",
      "tree-info /data/exp/kostya/ukroASR/exp/tri3b/tree \n",
      "fstpushspecial \n",
      "fstdeterminizestar --use-log=true \n",
      "fsttablecompose /data/exp/kostya/ukroASR/data/lang/L_disambig.fst /data/exp/kostya/ukroASR/data/lang/G.fst \n",
      "fstminimizeencoded \n",
      "fstisstochastic /data/exp/kostya/ukroASR/data/lang/tmp/LG.fst \n",
      "-0.046394 -0.047274\n",
      "[info]: LG not stochastic.\n",
      "fstcomposecontext --context-size=3 --central-position=1 --read-disambig-syms=/data/exp/kostya/ukroASR/data/lang/phones/disambig.int --write-disambig-syms=/data/exp/kostya/ukroASR/data/lang/tmp/disambig_ilabels_3_1.int /data/exp/kostya/ukroASR/data/lang/tmp/ilabels_3_1.30811 /data/exp/kostya/ukroASR/data/lang/tmp/LG.fst \n",
      "fstisstochastic /data/exp/kostya/ukroASR/data/lang/tmp/CLG_3_1.fst \n",
      "0 -0.047274\n",
      "[info]: CLG not stochastic.\n",
      "make-h-transducer --disambig-syms-out=/data/exp/kostya/ukroASR/exp/tri3b/graph/disambig_tid.int --transition-scale=1.0 /data/exp/kostya/ukroASR/data/lang/tmp/ilabels_3_1 /data/exp/kostya/ukroASR/exp/tri3b/tree /data/exp/kostya/ukroASR/exp/tri3b/final.mdl \n",
      "fstrmsymbols /data/exp/kostya/ukroASR/exp/tri3b/graph/disambig_tid.int \n",
      "fstrmepslocal \n",
      "fsttablecompose /data/exp/kostya/ukroASR/exp/tri3b/graph/Ha.fst /data/exp/kostya/ukroASR/data/lang/tmp/CLG_3_1.fst \n",
      "fstminimizeencoded \n",
      "fstdeterminizestar --use-log=true \n",
      "fstisstochastic /data/exp/kostya/ukroASR/exp/tri3b/graph/HCLGa.fst \n",
      "0.579785 -0.136163\n",
      "HCLGa is not stochastic\n",
      "add-self-loops --self-loop-scale=0.1 --reorder=true /data/exp/kostya/ukroASR/exp/tri3b/final.mdl /data/exp/kostya/ukroASR/exp/tri3b/graph/HCLGa.fst \n",
      "Adding stage 'tri3b_graph' in 'dvc.yaml'                                        \n",
      "Updating lock file 'dvc.lock'\n",
      "\n",
      "To track the changes with git, run:\n",
      "\n",
      "\tgit add dvc.yaml dvc.lock\n",
      "\u001b[0m"
     ]
    }
   ],
   "source": [
    "dvc run \\\n",
    "-d $exp/tri3b/final.mdl -d $exp/tri3b/tree -d $data/lang/L.fst -d $data/lang/G.fst -d $data/lang/phones.txt -d $data/lang/words.txt -d $data/lang/phones \\\n",
    "-O $exp/tri3b/graph/HCLG.fst -O $exp/tri3b/graph/words.txt \\\n",
    "-n tri3b_graph \\\n",
    "\"$cmd_prefix utils/mkgraph.sh $data/lang $exp/tri3b $exp/tri3b/graph\""
   ]
  },
  {
   "cell_type": "code",
   "execution_count": 146,
   "metadata": {
    "scrolled": true
   },
   "outputs": [
    {
     "name": "stdout",
     "output_type": "stream",
     "text": [
      "Running stage 'tri3b_metrics' with command:                                     \n",
      "\tcd $KALDI_ROOT/egs/wsj/s5; . ./path.sh; . ./cmd.sh; steps/decode_fmllr.sh --nj 4 /data/exp/kostya/ukroASR/exp/tri3b/graph /data/exp/kostya/ukroASR/data/dev_0.15k /data/exp/kostya/ukroASR/exp/tri3b/decode_dev_0.15k; /data/exp/kostya/ukroASR/parce_wer_report.sh /data/exp/kostya/ukroASR/exp/tri3b/decode_dev_0.15k/scoring_kaldi/best_wer /data/exp/kostya/ukroASR/exp/metrics/tri3b.json\n",
      "steps/decode_fmllr.sh --nj 4 /data/exp/kostya/ukroASR/exp/tri3b/graph /data/exp/kostya/ukroASR/data/dev_0.15k /data/exp/kostya/ukroASR/exp/tri3b/decode_dev_0.15k\n",
      "steps/decode.sh --scoring-opts  --num-threads 1 --skip-scoring false --acwt 0.083333 --nj 4 --cmd run.pl --beam 10.0 --model /data/exp/kostya/ukroASR/exp/tri3b/final.alimdl --max-active 2000 /data/exp/kostya/ukroASR/exp/tri3b/graph /data/exp/kostya/ukroASR/data/dev_0.15k /data/exp/kostya/ukroASR/exp/tri3b/decode_dev_0.15k.si\n",
      "decode.sh: feature type is lda\n",
      "steps/diagnostic/analyze_lats.sh --cmd run.pl /data/exp/kostya/ukroASR/exp/tri3b/graph /data/exp/kostya/ukroASR/exp/tri3b/decode_dev_0.15k.si\n",
      "analyze_phone_length_stats.py: WARNING: optional-silence SIL is seen only 45.3333333333% of the time at utterance end.  This may not be optimal.\n",
      "steps/diagnostic/analyze_lats.sh: see stats in /data/exp/kostya/ukroASR/exp/tri3b/decode_dev_0.15k.si/log/analyze_alignments.log\n",
      "Overall, lattice depth (10,50,90-percentile)=(1,6,27) and mean=11.6\n",
      "steps/diagnostic/analyze_lats.sh: see stats in /data/exp/kostya/ukroASR/exp/tri3b/decode_dev_0.15k.si/log/analyze_lattice_depth_stats.log\n",
      "local/score.sh --cmd run.pl /data/exp/kostya/ukroASR/data/dev_0.15k /data/exp/kostya/ukroASR/exp/tri3b/graph /data/exp/kostya/ukroASR/exp/tri3b/decode_dev_0.15k.si\n",
      "local/score.sh: scoring with word insertion penalty=0.0,0.5,1.0\n",
      "steps/decode_fmllr.sh: feature type is lda\n",
      "steps/decode_fmllr.sh: getting first-pass fMLLR transforms.\n",
      "steps/decode_fmllr.sh: doing main lattice generation phase\n",
      "steps/decode_fmllr.sh: estimating fMLLR transforms a second time.\n",
      "steps/decode_fmllr.sh: doing a final pass of acoustic rescoring.\n",
      "steps/diagnostic/analyze_lats.sh --cmd run.pl /data/exp/kostya/ukroASR/exp/tri3b/graph /data/exp/kostya/ukroASR/exp/tri3b/decode_dev_0.15k\n",
      "analyze_phone_length_stats.py: WARNING: optional-silence SIL is seen only 46.0% of the time at utterance end.  This may not be optimal.\n",
      "steps/diagnostic/analyze_lats.sh: see stats in /data/exp/kostya/ukroASR/exp/tri3b/decode_dev_0.15k/log/analyze_alignments.log\n",
      "Overall, lattice depth (10,50,90-percentile)=(1,5,21) and mean=9.0\n",
      "steps/diagnostic/analyze_lats.sh: see stats in /data/exp/kostya/ukroASR/exp/tri3b/decode_dev_0.15k/log/analyze_lattice_depth_stats.log\n",
      "local/score.sh --cmd run.pl /data/exp/kostya/ukroASR/data/dev_0.15k /data/exp/kostya/ukroASR/exp/tri3b/graph /data/exp/kostya/ukroASR/exp/tri3b/decode_dev_0.15k\n",
      "local/score.sh: scoring with word insertion penalty=0.0,0.5,1.0\n",
      "Adding stage 'tri3b_metrics' in 'dvc.yaml'                                      \n",
      "Updating lock file 'dvc.lock'\n",
      "\n",
      "To track the changes with git, run:\n",
      "\n",
      "\tgit add dvc.lock dvc.yaml\n",
      "\u001b[0m"
     ]
    }
   ],
   "source": [
    "dvc run \\\n",
    "-d $data/dev_0.15k/utt2spk -d $data/dev_0.15k/feats.scp -d $data/dev_0.15k/cmvn.scp -d $exp/tri3b/final.mdl -d $exp/tri3b/tree -d $exp/tri3b/final.mat -d $exp/tri3b/graph/HCLG.fst -d $data/lang/words.txt -d $data/lang/phones \\\n",
    "-m $exp/metrics/tri3b.json \\\n",
    "-n tri3b_metrics \\\n",
    "\"$cmd_prefix steps/decode_fmllr.sh --nj 4 $exp/tri3b/graph $data/dev_0.15k $exp/tri3b/decode_dev_0.15k; \\\n",
    "$UKROASR_ROOT/parce_wer_report.sh $exp/tri3b/decode_dev_0.15k/scoring_kaldi/best_wer $exp/metrics/tri3b.json\""
   ]
  },
  {
   "cell_type": "code",
   "execution_count": 148,
   "metadata": {},
   "outputs": [
    {
     "name": "stdout",
     "output_type": "stream",
     "text": [
      "{'WER': 31.89}\n"
     ]
    }
   ],
   "source": [
    "cat $exp/metrics/tri3b.json"
   ]
  },
  {
   "cell_type": "code",
   "execution_count": 54,
   "metadata": {},
   "outputs": [
    {
     "name": "stdout",
     "output_type": "stream",
     "text": [
      "{'WER': 45.75}\n"
     ]
    }
   ],
   "source": [
    "cat $exp/metrics/tri3b.json"
   ]
  },
  {
   "cell_type": "code",
   "execution_count": null,
   "metadata": {},
   "outputs": [],
   "source": [
    "# base %WER 54.14\n",
    "# half + 2kshort %WER 53.50\n",
    "# 2kshort + half + correct spk_2 + no _I_B_S_E %WER 50.55\n",
    "# half + 2kshort + correct spk_2 no _I_B_S_E extra_questions stress %WER 50.85\n",
    "######################################################################################################################\n",
    "#2kshort + 45k + 8 spk + no IBSE %WER 47.46\n",
    "#2kshort + 45k + 8 spk + no IBSE + extra_questions stress %WER 46.80"
   ]
  },
  {
   "cell_type": "code",
   "execution_count": null,
   "metadata": {},
   "outputs": [],
   "source": []
  }
 ],
 "metadata": {
  "kernelspec": {
   "display_name": "Bash",
   "language": "bash",
   "name": "bash"
  },
  "language_info": {
   "codemirror_mode": "shell",
   "file_extension": ".sh",
   "mimetype": "text/x-sh",
   "name": "bash"
  }
 },
 "nbformat": 4,
 "nbformat_minor": 2
}
