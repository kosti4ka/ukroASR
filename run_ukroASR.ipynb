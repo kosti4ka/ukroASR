{
 "cells": [
  {
   "cell_type": "code",
   "execution_count": 39,
   "metadata": {},
   "outputs": [],
   "source": [
    "export PYTHONPATH=\"${PYTHONPATH}:/data/exp/kostya/ukr_g2p\"\n",
    "export PYTHONPATH=\"${PYTHONPATH}:/data/exp/kostya/ukroASR\"\n",
    "UKROASR_ROOT=/data/exp/kostya/ukroASR\n",
    "# export PYTHONIOENCODING=utf-8"
   ]
  },
  {
   "cell_type": "code",
   "execution_count": 40,
   "metadata": {},
   "outputs": [],
   "source": [
    "cd $UKROASR_ROOT"
   ]
  },
  {
   "cell_type": "code",
   "execution_count": 41,
   "metadata": {},
   "outputs": [],
   "source": [
    "# cd $KALDI_ROOT/egs/wsj/s5; . ./path.sh; . ./cmd.sh"
   ]
  },
  {
   "cell_type": "code",
   "execution_count": 42,
   "metadata": {},
   "outputs": [],
   "source": [
    "train_cmd=run.pl"
   ]
  },
  {
   "cell_type": "code",
   "execution_count": 43,
   "metadata": {},
   "outputs": [],
   "source": [
    "work_dir=/data/exp/kostya/ukroASR"
   ]
  },
  {
   "cell_type": "code",
   "execution_count": 44,
   "metadata": {},
   "outputs": [],
   "source": [
    "data=$work_dir/data"
   ]
  },
  {
   "cell_type": "code",
   "execution_count": 45,
   "metadata": {},
   "outputs": [],
   "source": [
    "exp=$work_dir/exp"
   ]
  },
  {
   "cell_type": "code",
   "execution_count": 46,
   "metadata": {},
   "outputs": [],
   "source": [
    "cmd_prefix='cd $KALDI_ROOT/egs/wsj/s5; . ./path.sh; . ./cmd.sh;'"
   ]
  },
  {
   "cell_type": "markdown",
   "metadata": {},
   "source": [
    "# TRAINING LANGUAGE MODEL"
   ]
  },
  {
   "cell_type": "markdown",
   "metadata": {},
   "source": [
    "We are going to train LM without using dataset for training AM in order to not regenerate the whole model each time after adding small portion of data for AM training"
   ]
  },
  {
   "cell_type": "markdown",
   "metadata": {},
   "source": [
    "### Order 3 LM for decoding with prunings"
   ]
  },
  {
   "cell_type": "code",
   "execution_count": 48,
   "metadata": {
    "scrolled": true
   },
   "outputs": [
    {
     "name": "stdout",
     "output_type": "stream",
     "text": [
      "\u001b[33m+------------------------------------------+\n",
      "\u001b[0m\u001b[33m|\u001b[0m                                          \u001b[33m|\u001b[0m\n",
      "\u001b[33m|\u001b[0m     Update available \u001b[31m2.0.6\u001b[39m -> \u001b[32m2.0.18\u001b[39m     \u001b[33m|\u001b[0m\n",
      "\u001b[33m|\u001b[0m     Run `\u001b[33mpip\u001b[39m install dvc \u001b[34m--upgrade\u001b[39m`      \u001b[33m|\u001b[0m\n",
      "\u001b[33m|\u001b[0m                                          \u001b[33m|\u001b[0m\n",
      "\u001b[33m+------------------------------------------+\n",
      "\u001b[0m\n",
      "Running stage 'lm_ukr_o3':                                                      \n",
      "> cut -d' ' -f2- /data/exp/kostya/ukroASR/artifacts/text_plane                 /data/exp/kostya/ukroASR/artifacts/normal_fiction.txt                 /data/exp/kostya/ukroASR/artifacts/normal_news.txt                 /data/exp/kostya/ukroASR/artifacts/normal_wiki_dump.txt                 /data/exp/kostya/ukroASR/artifacts/normal_ubercorpus.txt > /tmp/train_corpus; ~/kenlm/build/bin/lmplz -o 3 --prune 6 8 10 </tmp/train_corpus | gzip -c > /data/exp/kostya/ukroASR/data/lm_ukr_o3.gz\n",
      "=== 1/5 Counting and sorting n-grams ===\n",
      "Reading /tmp/train_corpus\n",
      "----5---10---15---20---25---30---35---40---45---50---55---60---65---70---75---80---85---90---95--100\n",
      "****************************************************************************************************\n",
      "Unigram tokens 1257834700 types 6386800\n",
      "=== 2/5 Calculating and sorting adjusted counts ===\n",
      "Chain sizes: 1:76641600 2:9110507520 3:17082201088\n",
      "Statistics:\n",
      "1 1640749/6386800 D1=0.69294 D2=1.0684 D3+=1.3465\n",
      "2 11225787/105870256 D1=0.758925 D2=1.19518 D3+=1.27628\n",
      "3 10326870/287330370 D1=0.0100313 D2=1.99992 D3+=0.763677\n",
      "Memory estimate for binary LM:\n",
      "type     MB\n",
      "probing 474 assuming -p 1.5\n",
      "probing 545 assuming -r models -p 1.5\n",
      "trie    246 without quantization\n",
      "trie    154 assuming -q 8 -b 8 quantization \n",
      "trie    223 assuming -a 22 array pointer compression\n",
      "trie    131 assuming -a 22 -q 8 -b 8 array pointer compression and quantization\n",
      "=== 3/5 Calculating and sorting initial probabilities ===\n",
      "Chain sizes: 1:19688988 2:179612592 3:206537400\n",
      "----5---10---15---20---25---30---35---40---45---50---55---60---65---70---75---80---85---90---95--100\n",
      "***#################################################################################################\n",
      "=== 4/5 Calculating and writing order-interpolated probabilities ===\n",
      "Chain sizes: 1:19688988 2:179612592 3:206537400\n",
      "----5---10---15---20---25---30---35---40---45---50---55---60---65---70---75---80---85---90---95--100\n",
      "####################################################################################################\n",
      "=== 5/5 Writing ARPA model ===\n",
      "----5---10---15---20---25---30---35---40---45---50---55---60---65---70---75---80---85---90---95--100\n",
      "****************************************************************************************************\n",
      "Name:lmplz\tVmPeak:25853360 kB\tVmRSS:58288 kB\tRSSMax:11658552 kB\tuser:661.963\tsys:39.1962\tCPU:701.159\treal:806.534\n",
      "Adding stage 'lm_ukr_o3' in 'dvc.yaml'                                          \n",
      "Updating lock file 'dvc.lock'\n",
      "\n",
      "To track the changes with git, run:\n",
      "\n",
      "\tgit add dvc.lock dvc.yaml data/.gitignore\n",
      "\u001b[0m"
     ]
    }
   ],
   "source": [
    "dvc run \\\n",
    "-d $UKROASR_ROOT/artifacts/text_plane \\\n",
    "-d $UKROASR_ROOT/artifacts/normal_fiction.txt \\\n",
    "-d $UKROASR_ROOT/artifacts/normal_news.txt \\\n",
    "-d $UKROASR_ROOT/artifacts/normal_wiki_dump.txt \\\n",
    "-d $UKROASR_ROOT/artifacts/normal_ubercorpus.txt \\\n",
    "-o $data/lm_ukr_o3.gz \\\n",
    "-n lm_ukr_o3 \\\n",
    "\"cut -d' ' -f2- $UKROASR_ROOT/artifacts/text_plane \\\n",
    "                $UKROASR_ROOT/artifacts/normal_fiction.txt \\\n",
    "                $UKROASR_ROOT/artifacts/normal_news.txt \\\n",
    "                $UKROASR_ROOT/artifacts/normal_wiki_dump.txt \\\n",
    "                $UKROASR_ROOT/artifacts/normal_ubercorpus.txt > /tmp/train_corpus; \\\n",
    "~/kenlm/build/bin/lmplz -o 3 --prune 6 8 10 </tmp/train_corpus | gzip -c > $data/lm_ukr_o3.gz\""
   ]
  },
  {
   "cell_type": "code",
   "execution_count": 49,
   "metadata": {},
   "outputs": [],
   "source": [
    "git add dvc.lock dvc.yaml data/.gitignore"
   ]
  },
  {
   "cell_type": "markdown",
   "metadata": {},
   "source": [
    "### generating local/dict for lm training"
   ]
  },
  {
   "cell_type": "code",
   "execution_count": 53,
   "metadata": {},
   "outputs": [
    {
     "name": "stdout",
     "output_type": "stream",
     "text": [
      "Running stage 'local_dict_lm_train':                                            \n",
      "> /data/exp/kostya/ukroASR/prepare_local_dict_from_lm.sh --num_jobs 8 /data/exp/kostya/ukroASR/data/local/dict /data/exp/kostya/ukroASR/data/lm_ukr_o3.gz /data/exp/kostya/ukroASR/data/local/dict_lm_train\n",
      "/bin/bash: /data/exp/kostya/ukroASR/prepare_local_dict_from_lm.sh: Permission denied\n",
      "\u001b[31mERROR\u001b[39m: failed to run: /data/exp/kostya/ukroASR/prepare_local_dict_from_lm.sh --num_jobs 8 /data/exp/kostya/ukroASR/data/local/dict /data/exp/kostya/ukroASR/data/lm_ukr_o3.gz /data/exp/kostya/ukroASR/data/local/dict_lm_train, exited with 126\n",
      "\u001b[0m"
     ]
    },
    {
     "ename": "",
     "evalue": "1",
     "output_type": "error",
     "traceback": []
    }
   ],
   "source": [
    "dvc run \\\n",
    "-d $UKROASR_ROOT/prepare_local_dict_from_lm.sh -d $data/lm_ukr_o3.gz -d $UKROASR_ROOT/artifacts/lexicon.txt \\\n",
    "-o $data/local/dict_lm_train/vocab -o $data/local/dict_lm_train/lexicon.txt \\\n",
    "-n local_dict_lm_train \\\n",
    "$UKROASR_ROOT/prepare_local_dict_from_lm.sh --num_jobs 8 $data/local/dict $data/lm_ukr_o3.gz $data/local/dict_lm_train"
   ]
  },
  {
   "cell_type": "code",
   "execution_count": null,
   "metadata": {},
   "outputs": [],
   "source": []
  },
  {
   "cell_type": "markdown",
   "metadata": {},
   "source": [
    "# IMPORT DATASET"
   ]
  },
  {
   "cell_type": "code",
   "execution_count": null,
   "metadata": {},
   "outputs": [],
   "source": [
    "# import train.csv"
   ]
  },
  {
   "cell_type": "code",
   "execution_count": null,
   "metadata": {},
   "outputs": [],
   "source": [
    "dvc import -o data/raw_data/train.csv \\\n",
    "https://github.com/kosti4ka/ukrodataset.git train.csv"
   ]
  },
  {
   "cell_type": "code",
   "execution_count": null,
   "metadata": {},
   "outputs": [],
   "source": [
    "git add data/raw_data/train.csv.dvc"
   ]
  },
  {
   "cell_type": "code",
   "execution_count": null,
   "metadata": {},
   "outputs": [],
   "source": [
    "# import dev.csv"
   ]
  },
  {
   "cell_type": "code",
   "execution_count": null,
   "metadata": {},
   "outputs": [],
   "source": [
    "dvc import -o data/raw_data/dev.csv \\\n",
    "https://github.com/kosti4ka/ukrodataset.git dev.csv"
   ]
  },
  {
   "cell_type": "code",
   "execution_count": null,
   "metadata": {},
   "outputs": [],
   "source": [
    "git add data/raw_data/dev.csv.dvc"
   ]
  },
  {
   "cell_type": "code",
   "execution_count": null,
   "metadata": {},
   "outputs": [],
   "source": [
    "# import audio data itself"
   ]
  },
  {
   "cell_type": "code",
   "execution_count": null,
   "metadata": {
    "scrolled": true
   },
   "outputs": [],
   "source": [
    "dvc import -o data/raw_data \\\n",
    "https://github.com/kosti4ka/ukrodataset.git audiobooks"
   ]
  },
  {
   "cell_type": "code",
   "execution_count": null,
   "metadata": {},
   "outputs": [],
   "source": [
    "git add -f data/raw_data/audiobooks.dvc"
   ]
  },
  {
   "cell_type": "code",
   "execution_count": null,
   "metadata": {},
   "outputs": [],
   "source": [
    "dvc update data/raw_data/audiobooks.dvc"
   ]
  },
  {
   "cell_type": "markdown",
   "metadata": {},
   "source": [
    "# GENERATING DATA FOLDERS"
   ]
  },
  {
   "cell_type": "code",
   "execution_count": null,
   "metadata": {},
   "outputs": [],
   "source": [
    "# train data folder"
   ]
  },
  {
   "cell_type": "code",
   "execution_count": null,
   "metadata": {
    "scrolled": false
   },
   "outputs": [],
   "source": [
    "dvc run \\\n",
    "-d $data/raw_data/train.csv -d $UKROASR_ROOT/gen_data_dir.py \\\n",
    "-o $data/train/text -o $data/train/utt2spk -o $data/train/segments -o $data/train/spk2utt -o $data/train/wav.scp \\\n",
    "-n train_data_dir \\\n",
    "python3.6 $UKROASR_ROOT/gen_data_dir.py $data/raw_data/train.csv $data/train"
   ]
  },
  {
   "cell_type": "code",
   "execution_count": null,
   "metadata": {},
   "outputs": [],
   "source": [
    "# dev data folder"
   ]
  },
  {
   "cell_type": "code",
   "execution_count": null,
   "metadata": {
    "scrolled": true
   },
   "outputs": [],
   "source": [
    "dvc run \\\n",
    "-d $data/raw_data/dev.csv -d $UKROASR_ROOT/gen_data_dir.py \\\n",
    "-o $data/dev/text -o $data/dev/utt2spk -o $data/dev/segments -o $data/dev/spk2utt -o $data/dev/wav.scp \\\n",
    "-n dev_data_dir \\\n",
    "python3.6 $UKROASR_ROOT/gen_data_dir.py $data/raw_data/dev.csv $data/dev"
   ]
  },
  {
   "cell_type": "code",
   "execution_count": null,
   "metadata": {},
   "outputs": [],
   "source": [
    "git add -f dvc.lock data/dev/.gitignore dvc.yaml"
   ]
  },
  {
   "cell_type": "markdown",
   "metadata": {},
   "source": [
    "# GENERATING LOCAL/DICT"
   ]
  },
  {
   "cell_type": "code",
   "execution_count": null,
   "metadata": {},
   "outputs": [],
   "source": [
    "dvc run -f \\\n",
    "-d $data/train/text -d $UKROASR_ROOT/artifacts/text_plane -d $UKROASR_ROOT/artifacts/normal_fiction.txt -d $UKROASR_ROOT/artifacts/lexicon.txt \\\n",
    "-o $data/local/dict/vocab -o $data/local/dict/lexicon.txt \\\n",
    "-n local_dict \\\n",
    "$UKROASR_ROOT/prepare_dict.sh $data/local/dict $data/train/text $UKROASR_ROOT/artifacts/text_plane $UKROASR_ROOT/artifacts/normal_fiction.txt"
   ]
  },
  {
   "cell_type": "code",
   "execution_count": null,
   "metadata": {},
   "outputs": [],
   "source": [
    "git add dvc.yaml dvc.lock"
   ]
  },
  {
   "cell_type": "markdown",
   "metadata": {},
   "source": [
    "# GENERATING LOCAL/DICT FOR AM TRAINING"
   ]
  },
  {
   "cell_type": "code",
   "execution_count": 35,
   "metadata": {},
   "outputs": [
    {
     "name": "stdout",
     "output_type": "stream",
     "text": [
      "\u001b[33m+------------------------------------------+\n",
      "\u001b[0m\u001b[33m|\u001b[0m                                          \u001b[33m|\u001b[0m\n",
      "\u001b[33m|\u001b[0m     Update available \u001b[31m2.0.6\u001b[39m -> \u001b[32m2.0.18\u001b[39m     \u001b[33m|\u001b[0m\n",
      "\u001b[33m|\u001b[0m     Run `\u001b[33mpip\u001b[39m install dvc \u001b[34m--upgrade\u001b[39m`      \u001b[33m|\u001b[0m\n",
      "\u001b[33m|\u001b[0m                                          \u001b[33m|\u001b[0m\n",
      "\u001b[33m+------------------------------------------+\n",
      "\u001b[0m\n",
      "Stage 'local_dict_train' is cached - skipping run, checking out outputs         \n",
      "\u001b[33mWARNING\u001b[39m: 'data/local/dict_train/vocab' is empty.                      \n",
      "Adding stage 'local_dict_train' in 'dvc.yaml'\n",
      "Generating lock file 'dvc.lock'\n",
      "Updating lock file 'dvc.lock'\n",
      "\n",
      "To track the changes with git, run:\n",
      "\n",
      "\tgit add dvc.yaml dvc.lock\n",
      "\u001b[0m"
     ]
    }
   ],
   "source": [
    "dvc run -f \\\n",
    "-d $UKROASR_ROOT/prepare_dict.sh -d $data/train/text -d $UKROASR_ROOT/artifacts/lexicon.txt \\\n",
    "-o $data/local/dict_train/vocab -o $data/local/dict_train/lexicon.txt \\\n",
    "-n local_dict_train \\\n",
    "$UKROASR_ROOT/prepare_dict.sh $data/local/dict_train $data/train/text"
   ]
  },
  {
   "cell_type": "code",
   "execution_count": 37,
   "metadata": {},
   "outputs": [],
   "source": [
    "git add data/raw_data/.gitignore artifacts/lexicon.txt.dvc data/raw_data/train.csv.dvc dvc.lock"
   ]
  },
  {
   "cell_type": "markdown",
   "metadata": {},
   "source": [
    "# Generating Kaldi's lang dir"
   ]
  },
  {
   "cell_type": "code",
   "execution_count": null,
   "metadata": {
    "scrolled": true
   },
   "outputs": [],
   "source": [
    "dvc run \\\n",
    "-d $data/local/dict/lexicon.txt -d $data/local/dict/silence_phones.txt -d $data/local/dict/nonsilence_phones.txt -d $data/local/dict/optional_silence.txt -d $data/local/dict/extra_questions.txt \\\n",
    "-o $data/lang/L.fst -o $data/lang/L_disambig.fst -o $data/lang/oov.int -o $data/lang/oov.txt -o $data/lang/phones.txt -o $data/lang/topo -o $data/lang/words.txt -o $data/lang/phones -O $data/local/dict/lexiconp.txt \\\n",
    "-n lang_dir \\\n",
    "\"$cmd_prefix utils/prepare_lang.sh --position-dependent-phones false $data/local/dict '<UNK>' $data/local/lang $data/lang\""
   ]
  },
  {
   "cell_type": "code",
   "execution_count": null,
   "metadata": {},
   "outputs": [],
   "source": [
    "git add dvc.yaml"
   ]
  },
  {
   "cell_type": "markdown",
   "metadata": {},
   "source": [
    "# Generating Kaldi's lang dir for AM"
   ]
  },
  {
   "cell_type": "code",
   "execution_count": 38,
   "metadata": {
    "scrolled": true
   },
   "outputs": [
    {
     "name": "stdout",
     "output_type": "stream",
     "text": [
      "\u001b[33m+------------------------------------------+\n",
      "\u001b[0m\u001b[33m|\u001b[0m                                          \u001b[33m|\u001b[0m\n",
      "\u001b[33m|\u001b[0m     Update available \u001b[31m2.0.6\u001b[39m -> \u001b[32m2.0.18\u001b[39m     \u001b[33m|\u001b[0m\n",
      "\u001b[33m|\u001b[0m     Run `\u001b[33mpip\u001b[39m install dvc \u001b[34m--upgrade\u001b[39m`      \u001b[33m|\u001b[0m\n",
      "\u001b[33m|\u001b[0m                                          \u001b[33m|\u001b[0m\n",
      "\u001b[33m+------------------------------------------+\n",
      "\u001b[0m\n",
      "\u001b[31mERROR\u001b[39m: unexpected error - [Errno 2] No such file or directory: PosixPathInfo: 'data/local/dict_train/silence_phones.txt'\n",
      "\n",
      "\u001b[33mHaving any troubles?\u001b[39m Hit us up at \u001b[34mhttps://dvc.org/support\u001b[39m, we are always happy to help!\n",
      "\u001b[0m"
     ]
    },
    {
     "ename": "",
     "evalue": "255",
     "output_type": "error",
     "traceback": []
    }
   ],
   "source": [
    "dvc run \\\n",
    "-d $data/local/dict_train/lexicon.txt -d $data/local/dict_train/silence_phones.txt -d $data/local/dict_train/nonsilence_phones.txt -d $data/local/dict_train/optional_silence.txt -d $data/local/dict_train/extra_questions.txt \\\n",
    "-o $data/lang_train/L.fst -o $data/lang_train/L_disambig.fst -o $data/lang_train/oov.int -o $data/lang_train/oov.txt -o $data/lang_train/phones.txt -o $data/lang_train/topo -o $data/lang_train/words.txt -o $data/lang_train/phones -O $data/local/dict_train/lexiconp.txt \\\n",
    "-n lang_dir_train \\\n",
    "\"$cmd_prefix utils/prepare_lang.sh --position-dependent-phones false $data/local/dict_train '<UNK>' $data/local/lang_train $data/lang_train\""
   ]
  },
  {
   "cell_type": "code",
   "execution_count": null,
   "metadata": {},
   "outputs": [],
   "source": [
    "git add dvc.yaml"
   ]
  },
  {
   "cell_type": "markdown",
   "metadata": {},
   "source": [
    "# Generating LM"
   ]
  },
  {
   "cell_type": "code",
   "execution_count": null,
   "metadata": {},
   "outputs": [],
   "source": [
    "dvc run -f \\\n",
    "-d $data/train/text -d $UKROASR_ROOT/artifacts/text_plane -d $UKROASR_ROOT/artifacts/normal_fiction.txt \\\n",
    "-o $data/lm_ukr.gz \\\n",
    "-n lm_ukr \\\n",
    "\"cut -d' ' -f2- $data/train/text $UKROASR_ROOT/artifacts/text_plane $UKROASR_ROOT/artifacts/normal_fiction.txt | ngram-count -text - -order 3 -prune 1e-7 -gt1min 1 -gt2min 1 -lm - | gzip -c > $data/lm_ukr.gz\""
   ]
  },
  {
   "cell_type": "code",
   "execution_count": null,
   "metadata": {},
   "outputs": [],
   "source": [
    "git add dvc.lock dvc.yaml"
   ]
  },
  {
   "cell_type": "code",
   "execution_count": null,
   "metadata": {},
   "outputs": [],
   "source": [
    "dvc run -f \\\n",
    "-d $data/dev/text -d $data/lm_ukr.gz \\\n",
    "-m $exp/metrics/lm.json \\\n",
    "-n lm_metrics \\\n",
    "\"echo {\\'LM perplexity\\': $(cut -d' ' -f2- $data/dev/text | ngram -lm $data/lm_ukr.gz -ppl - | tail -1 | awk '{print $6}')} > $exp/metrics/lm.json\""
   ]
  },
  {
   "cell_type": "code",
   "execution_count": null,
   "metadata": {},
   "outputs": [],
   "source": [
    "git add dvc.lock dvc.yaml"
   ]
  },
  {
   "cell_type": "code",
   "execution_count": null,
   "metadata": {},
   "outputs": [],
   "source": [
    "# generatin o4 lm"
   ]
  },
  {
   "cell_type": "code",
   "execution_count": null,
   "metadata": {},
   "outputs": [],
   "source": [
    "dvc run -f \\\n",
    "-d $data/train/text -d $UKROASR_ROOT/artifacts/text_plane -d $UKROASR_ROOT/artifacts/normal_fiction.txt \\\n",
    "-o $data/lm_ukr_o4.gz \\\n",
    "-n lm_o4_ukr \\\n",
    "\"cut -d' ' -f2- $data/train/text $UKROASR_ROOT/artifacts/text_plane $UKROASR_ROOT/artifacts/normal_fiction.txt | ngram-count -text - -order 4 -lm - | gzip -c > $data/lm_ukr_o4.gz\""
   ]
  },
  {
   "cell_type": "code",
   "execution_count": null,
   "metadata": {},
   "outputs": [],
   "source": [
    "git add dvc.lock dvc.yaml data/.gitignore"
   ]
  },
  {
   "cell_type": "code",
   "execution_count": null,
   "metadata": {},
   "outputs": [],
   "source": [
    "dvc run -f \\\n",
    "-d $data/dev/text -d $data/lm_ukr_o4.gz \\\n",
    "-m $exp/metrics/lm_o4.json \\\n",
    "-n lm_o4_metrics \\\n",
    "\"echo {\\'LM perplexity\\': $(cut -d' ' -f2- $data/dev/text | ngram -lm $data/lm_ukr_o4.gz -ppl - | tail -1 | awk '{print $6}')} > $exp/metrics/lm_o4.json\""
   ]
  },
  {
   "cell_type": "code",
   "execution_count": null,
   "metadata": {},
   "outputs": [],
   "source": [
    "git add exp/metrics/.gitignore dvc.lock dvc.yaml"
   ]
  },
  {
   "cell_type": "markdown",
   "metadata": {},
   "source": [
    "# Formatting Kaldi's LM dir"
   ]
  },
  {
   "cell_type": "code",
   "execution_count": null,
   "metadata": {
    "scrolled": true
   },
   "outputs": [],
   "source": [
    "dvc run \\\n",
    "-d $data/lang/words.txt -d $data/lm_ukr.gz -d $data/local/dict/lexicon.txt \\\n",
    "-o $data/lang/G.fst \\\n",
    "-n lang_fst \\\n",
    "\"$cmd_prefix utils/format_lm.sh $data/lang $data/lm_ukr.gz $data/local/dict/lexicon.txt $data/lang\""
   ]
  },
  {
   "cell_type": "code",
   "execution_count": null,
   "metadata": {},
   "outputs": [],
   "source": [
    "l $data/lang"
   ]
  },
  {
   "cell_type": "code",
   "execution_count": null,
   "metadata": {},
   "outputs": [],
   "source": [
    "rm -rf $data/lang/G.fst"
   ]
  },
  {
   "cell_type": "code",
   "execution_count": null,
   "metadata": {},
   "outputs": [],
   "source": [
    "git add dvc.yaml dvc.lock"
   ]
  },
  {
   "cell_type": "code",
   "execution_count": null,
   "metadata": {},
   "outputs": [],
   "source": [
    "## Generating rescore LM"
   ]
  },
  {
   "cell_type": "code",
   "execution_count": null,
   "metadata": {
    "scrolled": true
   },
   "outputs": [],
   "source": [
    "dvc run \\\n",
    "-d $data/lang/words.txt -d $data/lm_ukr_o4.gz \\\n",
    "-o $data/carpa/G.carpa \\\n",
    "-n carpa \\\n",
    "\"$cmd_prefix utils/build_const_arpa_lm.sh $data/lm_ukr_o4.gz $data/lang $data/carpa\""
   ]
  },
  {
   "cell_type": "code",
   "execution_count": null,
   "metadata": {},
   "outputs": [],
   "source": [
    "git add dvc.yaml dvc.lock data/carpa/.gitignore"
   ]
  },
  {
   "cell_type": "markdown",
   "metadata": {},
   "source": [
    "# Computing features"
   ]
  },
  {
   "cell_type": "code",
   "execution_count": null,
   "metadata": {
    "scrolled": true
   },
   "outputs": [],
   "source": [
    "dvc run -f \\\n",
    "-d $data/train/wav.scp -d $data/train/segments -d $data/train/utt2spk \\\n",
    "-O $exp/train_mfcc -O $data/train/feats.scp \\\n",
    "-n mfcc_train \\\n",
    "\"python3.6 $UKROASR_ROOT/features/make_mfcc.py $data/train $exp/log/mfcc $exp/train_mfcc\""
   ]
  },
  {
   "cell_type": "code",
   "execution_count": null,
   "metadata": {},
   "outputs": [],
   "source": [
    "dvc run \\\n",
    "-d $data/dev/wav.scp -d $data/dev/segments -d $data/dev/utt2spk \\\n",
    "-O $exp/dev_mfcc -O $data/dev/feats.scp \\\n",
    "-n mfcc_dev \\\n",
    "\"python3.6 $UKROASR_ROOT/features/make_mfcc.py $data/dev $exp/log/mfcc $exp/dev_mfcc\""
   ]
  },
  {
   "cell_type": "code",
   "execution_count": null,
   "metadata": {},
   "outputs": [],
   "source": [
    "git add dvc.yaml dvc.lock"
   ]
  },
  {
   "cell_type": "code",
   "execution_count": null,
   "metadata": {},
   "outputs": [],
   "source": [
    "# compute cmvn features"
   ]
  },
  {
   "cell_type": "code",
   "execution_count": null,
   "metadata": {},
   "outputs": [],
   "source": [
    "for split in train dev\n",
    "do\n",
    "dvc run \\\n",
    "-d $data/$split/feats.scp -d $data/$split/utt2spk \\\n",
    "-O $exp/${split}_cmvn -O $data/$split/cmvn.scp \\\n",
    "-n cmvn_${split} \\\n",
    "\"python3.6 $UKROASR_ROOT/features/compute_cmvn_stats.py $data/$split $exp/log/cmvn $exp/${split}_cmvn\"\n",
    "done"
   ]
  },
  {
   "cell_type": "code",
   "execution_count": null,
   "metadata": {},
   "outputs": [],
   "source": [
    "git add dvc.yaml dvc.lock"
   ]
  },
  {
   "cell_type": "markdown",
   "metadata": {},
   "source": [
    "# Sampling again"
   ]
  },
  {
   "cell_type": "code",
   "execution_count": null,
   "metadata": {},
   "outputs": [],
   "source": [
    "dvc run \\\n",
    "-d $data/train/text -d $data/train/utt2spk -d $data/train/segments -d $data/train/spk2utt -d $data/train/wav.scp -d $data/train/feats.scp -d $data/train/cmvn.scp \\\n",
    "-o $data/train_2kshort/text -o $data/train_2kshort/utt2spk -o $data/train_2kshort/segments -o $data/train_2kshort/spk2utt -o $data/train_2kshort/wav.scp -o $data/train_2kshort/feats.scp -o $data/train_2kshort/cmvn.scp \\\n",
    "-n train_2kshort_data \\\n",
    "\"$cmd_prefix utils/subset_data_dir.sh --shortest $data/train 2000 $data/train_2kshort\""
   ]
  },
  {
   "cell_type": "code",
   "execution_count": null,
   "metadata": {},
   "outputs": [],
   "source": [
    "dvc run \\\n",
    "-d $data/train/text -d $data/train/utt2spk -d $data/train/segments -d $data/train/spk2utt -d $data/train/wav.scp -d $data/train/feats.scp -d $data/train/cmvn.scp \\\n",
    "-o $data/train_5k/text -o $data/train_5k/utt2spk -o $data/train_5k/segments -o $data/train_5k/spk2utt -o $data/train_5k/wav.scp -o $data/train_5k/feats.scp -o $data/train_5k/cmvn.scp \\\n",
    "-n train_5k_data \\\n",
    "\"$cmd_prefix utils/subset_data_dir.sh $data/train 5000 $data/train_5k\""
   ]
  },
  {
   "cell_type": "code",
   "execution_count": null,
   "metadata": {},
   "outputs": [],
   "source": [
    "dvc run \\\n",
    "-d $data/dev/text -d $data/dev/utt2spk -d $data/dev/segments -d $data/dev/spk2utt -d $data/dev/wav.scp -d $data/dev/feats.scp -d $data/dev/cmvn.scp \\\n",
    "-o $data/dev_0.75kshort/text -o $data/dev_0.75kshort/utt2spk -o $data/dev_0.75kshort/segments -o $data/dev_0.75kshort/spk2utt -o $data/dev_0.75kshort/wav.scp -o $data/dev_0.75kshort/feats.scp -o $data/dev_0.75kshort/cmvn.scp \\\n",
    "-n dev_075kshort_data \\\n",
    "\"$cmd_prefix utils/subset_data_dir.sh --shortest $data/dev 750 $data/dev_0.75kshort\""
   ]
  },
  {
   "cell_type": "code",
   "execution_count": null,
   "metadata": {},
   "outputs": [],
   "source": [
    "dvc run \\\n",
    "-d $data/dev_0.75kshort/text -d $data/dev_0.75kshort/utt2spk -d $data/dev_0.75kshort/segments -d $data/dev_0.75kshort/spk2utt -d $data/dev_0.75kshort/wav.scp -d $data/dev_0.75kshort/feats.scp -d $data/dev_0.75kshort/cmvn.scp \\\n",
    "-o $data/dev_0.15k/text -o $data/dev_0.15k/utt2spk -o $data/dev_0.15k/segments -o $data/dev_0.15k/spk2utt -o $data/dev_0.15k/wav.scp -o $data/dev_0.15k/feats.scp -o $data/dev_0.15k/cmvn.scp \\\n",
    "-n dev_015k_data \\\n",
    "\"$cmd_prefix utils/subset_data_dir.sh $data/dev_0.75kshort 150 $data/dev_0.15k\""
   ]
  },
  {
   "cell_type": "code",
   "execution_count": null,
   "metadata": {},
   "outputs": [],
   "source": [
    "git add dvc.yaml dvc.lock"
   ]
  },
  {
   "cell_type": "markdown",
   "metadata": {},
   "source": [
    "# Training and alignment"
   ]
  },
  {
   "cell_type": "markdown",
   "metadata": {},
   "source": [
    "# monophone"
   ]
  },
  {
   "cell_type": "code",
   "execution_count": null,
   "metadata": {},
   "outputs": [],
   "source": [
    "mkdir $exp/mono"
   ]
  },
  {
   "cell_type": "code",
   "execution_count": null,
   "metadata": {
    "scrolled": true
   },
   "outputs": [],
   "source": [
    "dvc run \\\n",
    "-d $data/train_2kshort/feats.scp -d $data/train_2kshort/utt2spk -d $data/train_2kshort/text -d $data/train_2kshort/cmvn.scp -d $data/lang/L.fst -d $data/lang/words.txt -d $data/lang/phones.txt -d $data/lang/topo -d $data/lang/phones \\\n",
    "-o $exp/mono/final.mdl -o $exp/mono/tree -o $exp/mono/phones.txt \\\n",
    "-n mono \\\n",
    "\"$cmd_prefix steps/train_mono.sh --boost-silence 1.25 --nj 8 $data/train_2kshort $data/lang $exp/mono\""
   ]
  },
  {
   "cell_type": "code",
   "execution_count": null,
   "metadata": {},
   "outputs": [],
   "source": [
    "git add mono.dvc exp/mono/.gitignore"
   ]
  },
  {
   "cell_type": "code",
   "execution_count": null,
   "metadata": {
    "scrolled": true
   },
   "outputs": [],
   "source": [
    "dvc run -f \\\n",
    "-d $exp/mono/final.mdl -d $exp/mono/tree -d $data/lang/L.fst -d $data/lang/G.fst -d $data/lang/phones.txt -d $data/lang/words.txt -d $data/lang/phones \\\n",
    "-O $exp/mono/graph/HCLG.fst -O $exp/mono/graph/words.txt \\\n",
    "-n mono_graph \\\n",
    "\"$cmd_prefix utils/mkgraph.sh $data/lang $exp/mono $exp/mono/graph\""
   ]
  },
  {
   "cell_type": "code",
   "execution_count": null,
   "metadata": {
    "scrolled": true
   },
   "outputs": [],
   "source": [
    "dvc run \\\n",
    "-d $data/dev_0.15k/utt2spk -d $data/dev_0.15k/feats.scp -d $data/dev_0.15k/cmvn.scp -d $exp/mono/final.mdl -d $exp/mono/graph/HCLG.fst -d $data/lang/words.txt \\\n",
    "-m $exp/metrics/mono.json \\\n",
    "-n mono_metrics \\\n",
    "\"$cmd_prefix steps/decode.sh --nj 4 $exp/mono/graph $data/dev_0.15k $exp/mono/decode_dev_0.15k; \\\n",
    "$UKROASR_ROOT/parce_wer_report.sh $exp/mono/decode_dev_0.15k/scoring_kaldi/best_wer $exp/metrics/mono.json\""
   ]
  },
  {
   "cell_type": "code",
   "execution_count": null,
   "metadata": {},
   "outputs": [],
   "source": [
    "cat exp/metrics/mono.json"
   ]
  },
  {
   "cell_type": "code",
   "execution_count": null,
   "metadata": {},
   "outputs": [],
   "source": [
    "cat exp/metrics/mono.json"
   ]
  },
  {
   "cell_type": "code",
   "execution_count": null,
   "metadata": {},
   "outputs": [],
   "source": [
    "#base %WER 70.18\n",
    "#2kshort %WER 75.96\n",
    "#2kshort  + correct spk _2 %WER 75.41\n",
    "#2kshort  + correct spk _2 no _I_B_S_E %WER 76.24\n",
    "#2kshort  + correct spk _2 no _I_B_S_E small dev %WER 74.72 \n",
    "#2kshort  + correct spk _2 no _I_B_S_E shared silence phones small dev %WER 75.25\n",
    "#2kshort  + correct spk _2 no _I_B_S_E extra_questions stress %WER 75.70\n",
    "######################################################################################################################\n",
    "#2kshort  + 8 spk + no IBSE %WER 73.65\n",
    "#2kshort  + 8 spk + no IBSE %WER extra_questions stress 74.34"
   ]
  },
  {
   "cell_type": "markdown",
   "metadata": {},
   "source": [
    "# triphone"
   ]
  },
  {
   "cell_type": "code",
   "execution_count": null,
   "metadata": {},
   "outputs": [],
   "source": [
    "# aligning train data"
   ]
  },
  {
   "cell_type": "code",
   "execution_count": null,
   "metadata": {},
   "outputs": [],
   "source": [
    "dvc run \\\n",
    "-d $data/train_5k/feats.scp -d $data/train_5k/utt2spk -d $data/train_5k/text -d $data/train_5k/cmvn.scp -d $data/lang/L.fst -d $data/lang/words.txt -d $data/lang/phones -d $data/lang/phones.txt -d $data/lang/oov.int -d $exp/mono/final.mdl -d $exp/mono/tree \\\n",
    "$(for f in $exp/mono_train_5k_ali/ali.*.gz; do echo -O $f; done) \\\n",
    "-n mono_ali \\\n",
    "\"$cmd_prefix steps/align_si.sh --boost-silence 1.25 --nj 8 $data/train_5k $data/lang $exp/mono $exp/mono_train_5k_ali\""
   ]
  },
  {
   "cell_type": "code",
   "execution_count": null,
   "metadata": {
    "scrolled": true
   },
   "outputs": [],
   "source": [
    "dvc run \\\n",
    "$(for f in $exp/mono_train_5k_ali/ali.*.gz; do echo -d $f; done) -d $data/lang/L.fst -d $data/lang/words.txt -d $data/lang/phones.txt -d $data/lang/topo -d $data/lang/phones -d $data/train_5k/feats.scp -d $data/train_5k/utt2spk -d $data/train_5k/cmvn.scp \\\n",
    "-o $exp/tri1/final.mdl -o $exp/tri1/tree -o $exp/tri1/phones.txt \\\n",
    "-n tri1 \\\n",
    "\"$cmd_prefix steps/train_deltas.sh --boost-silence 1.25 2000 10000 $data/train_5k $data/lang $exp/mono_train_5k_ali $exp/tri1; \\\n",
    "cp $exp/tri1/final.mdl $exp/tri1/final.mdl_copy; mv $exp/tri1/final.mdl_copy $exp/tri1/final.mdl\""
   ]
  },
  {
   "cell_type": "code",
   "execution_count": null,
   "metadata": {
    "scrolled": true
   },
   "outputs": [],
   "source": [
    "dvc run -f \\\n",
    "-d $exp/tri1/final.mdl -d $exp/tri1/tree -d $data/lang/L.fst -d $data/lang/G.fst -d $data/lang/phones.txt -d $data/lang/words.txt -d $data/lang/phones \\\n",
    "-O $exp/tri1/graph/HCLG.fst -O $exp/tri1/graph/words.txt \\\n",
    "-n tri1_graph \\\n",
    "\"$cmd_prefix utils/mkgraph.sh $data/lang $exp/tri1 $exp/tri1/graph\""
   ]
  },
  {
   "cell_type": "code",
   "execution_count": null,
   "metadata": {
    "scrolled": true
   },
   "outputs": [],
   "source": [
    "dvc run \\\n",
    "-d $data/dev_0.15k/utt2spk -d $data/dev_0.15k/feats.scp -d $data/dev_0.15k/cmvn.scp -d $exp/tri1/final.mdl -d $exp/tri1/graph/HCLG.fst -d $data/lang/words.txt \\\n",
    "-m $exp/metrics/tri1.json \\\n",
    "-n tri1_metrics \\\n",
    "\"$cmd_prefix steps/decode.sh --nj 4 $exp/tri1/graph $data/dev_0.15k $exp/tri1/decode_dev_0.15k; \\\n",
    "$UKROASR_ROOT/parce_wer_report.sh $exp/tri1/decode_dev_0.15k/scoring_kaldi/best_wer $exp/metrics/tri1.json\""
   ]
  },
  {
   "cell_type": "code",
   "execution_count": null,
   "metadata": {},
   "outputs": [],
   "source": [
    "cat exp/metrics/tri1.json"
   ]
  },
  {
   "cell_type": "code",
   "execution_count": null,
   "metadata": {},
   "outputs": [],
   "source": [
    "cat exp/metrics/tri1.json"
   ]
  },
  {
   "cell_type": "code",
   "execution_count": null,
   "metadata": {},
   "outputs": [],
   "source": [
    "# base %WER 60.95\n",
    "# half + 2kshort %WER 61.70\n",
    "# whole_train + 2kshort %WER 61.73\n",
    "# half + 2kshort + correct spk_2 no _I_B_S_E short dev %WER 61.26\n",
    "# half + 2kshort + correct spk_2 no _I_B_S_E shared silence phones %WER 63.56\n",
    "# half + 2kshort + correct spk_2 no _I_B_S_E extra_questions stress %WER 61.51\n",
    "######################################################################################################################\n",
    "#2kshort + 45k + 8 spk + no IBSE %WER 56.72\n",
    "#2kshort + 45k + 8 spk + no IBSE + extra_questions stress %WER 56.28"
   ]
  },
  {
   "cell_type": "markdown",
   "metadata": {},
   "source": [
    "# lda mllt"
   ]
  },
  {
   "cell_type": "code",
   "execution_count": null,
   "metadata": {},
   "outputs": [],
   "source": [
    "dvc run \\\n",
    "-d $data/train/feats.scp -d $data/train/utt2spk -d $data/train/text -d $data/train/cmvn.scp -d $data/lang/L.fst -d $data/lang/words.txt -d $data/lang/phones -d $data/lang/phones.txt -d $data/lang/oov.int -d $exp/tri1/final.mdl -d $exp/tri1/tree \\\n",
    "$(for f in $exp/tri1_train_ali/ali.*.gz; do echo -O $f; done) \\\n",
    "-n tri_ali \\\n",
    "\"$cmd_prefix steps/align_si.sh --nj 8 $data/train $data/lang $exp/tri1 $exp/tri1_train_ali\""
   ]
  },
  {
   "cell_type": "code",
   "execution_count": null,
   "metadata": {},
   "outputs": [],
   "source": [
    "mkdir /data/exp/kostya/ukroASR/exp/tri2b"
   ]
  },
  {
   "cell_type": "code",
   "execution_count": null,
   "metadata": {
    "scrolled": true
   },
   "outputs": [],
   "source": [
    "dvc run \\\n",
    "$(for f in $exp/tri1_train_ali/ali.*.gz; do echo -d $f; done) -d $data/lang/L.fst -d $data/lang/words.txt -d $data/lang/phones.txt -d $data/lang/topo -d $data/lang/phones -d $data/train/feats.scp -d $data/train/utt2spk -d $data/train/cmvn.scp \\\n",
    "-o $exp/tri2b/final.mdl -o $exp/tri2b/final.mat -o $exp/tri2b/tree -o $exp/tri2b/phones.txt \\\n",
    "-n tri2b \\\n",
    "\"$cmd_prefix steps/train_lda_mllt.sh --splice-opts \\\"--left-context=3 --right-context=3\\\" 2500 15000 $data/train $data/lang $exp/tri1_train_ali $exp/tri2b; \\\n",
    "cp $exp/tri2b/final.mdl $exp/tri2b/final.mdl_copy; mv $exp/tri2b/final.mdl_copy $exp/tri2b/final.mdl; \\\n",
    "cp $exp/tri2b/final.mat $exp/tri2b/final.mat_copy; mv $exp/tri2b/final.mat_copy $exp/tri2b/final.mat\""
   ]
  },
  {
   "cell_type": "code",
   "execution_count": null,
   "metadata": {},
   "outputs": [],
   "source": [
    "dvc run -f \\\n",
    "-d $exp/tri2b/final.mdl -d $exp/tri2b/tree -d $data/lang/L.fst -d $data/lang/G.fst -d $data/lang/phones.txt -d $data/lang/words.txt -d $data/lang/phones \\\n",
    "-O $exp/tri2b/graph/HCLG.fst -O $exp/tri2b/graph/words.txt \\\n",
    "-n tri2b_graph \\\n",
    "\"$cmd_prefix utils/mkgraph.sh $data/lang $exp/tri2b $exp/tri2b/graph\""
   ]
  },
  {
   "cell_type": "code",
   "execution_count": null,
   "metadata": {},
   "outputs": [],
   "source": [
    "dvc run \\\n",
    "-d $data/dev_0.15k/utt2spk -d $data/dev_0.15k/feats.scp -d $data/dev_0.15k/cmvn.scp -d $exp/tri2b/final.mdl -d $exp/tri2b/final.mat -d $exp/tri2b/graph/HCLG.fst -d $data/lang/words.txt \\\n",
    "-m $exp/metrics/tri2b.json \\\n",
    "-n tri2b_metrics \\\n",
    "\"$cmd_prefix steps/decode.sh --nj 4 $exp/tri2b/graph $data/dev_0.15k $exp/tri2b/decode_dev_0.15k; \\\n",
    "$UKROASR_ROOT/parce_wer_report.sh $exp/tri2b/decode_dev_0.15k/scoring_kaldi/best_wer $exp/metrics/tri2b.json\""
   ]
  },
  {
   "cell_type": "code",
   "execution_count": null,
   "metadata": {},
   "outputs": [],
   "source": [
    "cat $exp/metrics/tri2b.json"
   ]
  },
  {
   "cell_type": "code",
   "execution_count": null,
   "metadata": {},
   "outputs": [],
   "source": [
    "cat $exp/metrics/tri2b.json"
   ]
  },
  {
   "cell_type": "code",
   "execution_count": null,
   "metadata": {},
   "outputs": [],
   "source": [
    "#base %WER 68.48\n",
    "# half + 2kshort %WER 68.22\n",
    "# full + 2kshort + correct spk %WER 67.81\n",
    "# full + 2kshort + correct spk _2 %WER 65.25\n",
    "# 2kshort + half + correct spk_2 + no _I_B_S_E %WER 64.77\n",
    "# 2kshort + half + correct spk_2 + no _I_B_S_E shared silence phones  %WER 67.73\n",
    "# half + 2kshort + correct spk_2 no _I_B_S_E extra_questions stress %WER 64.91\n",
    "######################################################################################################################\n",
    "#2kshort + 45k + 8 spk + no IBSE %WER 56.31\n",
    "#2kshort + 45k + 8 spk + no IBSE + extra_questions stress %WER 57.05"
   ]
  },
  {
   "cell_type": "markdown",
   "metadata": {},
   "source": [
    "# LDA + MLLT + SAT"
   ]
  },
  {
   "cell_type": "code",
   "execution_count": null,
   "metadata": {},
   "outputs": [],
   "source": [
    "dvc run \\\n",
    "-d $data/train/feats.scp -d $data/train/utt2spk -d $data/train/text -d $data/train/cmvn.scp -d $data/lang/L.fst -d $data/lang/words.txt -d $data/lang/phones -d $data/lang/phones.txt -d $data/lang/oov.int -d $exp/tri2b/final.mdl -d $exp/tri2b/final.mat -d $exp/tri2b/full.mat -d $exp/tri2b/tree \\\n",
    "$(for f in $exp/tri2b_train_ali/ali.*.gz; do echo -O $f; done) \\\n",
    "-n tri2b_ali \\\n",
    "\"$cmd_prefix steps/align_si.sh --nj 8 $data/train $data/lang $exp/tri2b $exp/tri2b_train_ali\""
   ]
  },
  {
   "cell_type": "code",
   "execution_count": null,
   "metadata": {
    "scrolled": true
   },
   "outputs": [],
   "source": [
    "dvc run \\\n",
    "$(for f in $exp/tri2b_train_ali/ali.*.gz; do echo -d $f; done) -d $data/lang/L.fst -d $data/lang/words.txt -d $data/lang/phones.txt -d $data/lang/topo -d $data/lang/phones -d $data/train/feats.scp -d $data/train/utt2spk -d $data/train/cmvn.scp \\\n",
    "-o $exp/tri3b/final.mdl -o $exp/tri3b/final.mat -o $exp/tri3b/tree -o $exp/tri3b/phones.txt \\\n",
    "-n tri3b \\\n",
    "\"$cmd_prefix steps/train_sat.sh 2500 15000 $data/train $data/lang $exp/tri2b_train_ali $exp/tri3b; \\\n",
    "cp $exp/tri3b/final.mdl $exp/tri3b/final.mdl_copy; mv $exp/tri3b/final.mdl_copy $exp/tri3b/final.mdl; \\\n",
    "cp $exp/tri3b/final.mat $exp/tri3b/final.mat_copy; mv $exp/tri3b/final.mat_copy $exp/tri3b/final.mat\""
   ]
  },
  {
   "cell_type": "code",
   "execution_count": null,
   "metadata": {
    "scrolled": true
   },
   "outputs": [],
   "source": [
    "dvc run \\\n",
    "-d $exp/tri3b/final.mdl -d $exp/tri3b/tree -d $data/lang/L.fst -d $data/lang/G.fst -d $data/lang/phones.txt -d $data/lang/words.txt -d $data/lang/phones \\\n",
    "-O $exp/tri3b/graph/HCLG.fst -O $exp/tri3b/graph/words.txt \\\n",
    "-n tri3b_graph \\\n",
    "\"$cmd_prefix utils/mkgraph.sh $data/lang $exp/tri3b $exp/tri3b/graph\""
   ]
  },
  {
   "cell_type": "code",
   "execution_count": null,
   "metadata": {
    "scrolled": true
   },
   "outputs": [],
   "source": [
    "dvc run \\\n",
    "-d $data/dev_0.15k/utt2spk -d $data/dev_0.15k/feats.scp -d $data/dev_0.15k/cmvn.scp -d $exp/tri3b/final.mdl -d $exp/tri3b/tree -d $exp/tri3b/final.mat -d $exp/tri3b/graph/HCLG.fst -d $data/lang/words.txt -d $data/lang/phones \\\n",
    "-m $exp/metrics/tri3b.json \\\n",
    "-n tri3b_metrics \\\n",
    "\"$cmd_prefix steps/decode_fmllr.sh --nj 4 $exp/tri3b/graph $data/dev_0.15k $exp/tri3b/decode_dev_0.15k; \\\n",
    "$UKROASR_ROOT/parce_wer_report.sh $exp/tri3b/decode_dev_0.15k/scoring_kaldi/best_wer $exp/metrics/tri3b.json\""
   ]
  },
  {
   "cell_type": "code",
   "execution_count": null,
   "metadata": {},
   "outputs": [],
   "source": [
    "# base %WER 54.14\n",
    "# half + 2kshort %WER 53.50\n",
    "# 2kshort + half + correct spk_2 + no _I_B_S_E %WER 50.55\n",
    "# half + 2kshort + correct spk_2 no _I_B_S_E extra_questions stress %WER 50.85\n",
    "######################################################################################################################\n",
    "#2kshort + 45k + 8 spk + no IBSE %WER 47.46\n",
    "#2kshort + 45k + 8 spk + no IBSE + extra_questions stress %WER 46.80"
   ]
  },
  {
   "cell_type": "code",
   "execution_count": null,
   "metadata": {
    "scrolled": true
   },
   "outputs": [],
   "source": [
    "dvc run \\\n",
    "-d $data/dev_0.15k/utt2spk -d $data/dev_0.15k/feats.scp -d $data/dev_0.15k/cmvn.scp -d $exp/tri3b/final.mdl -d $exp/tri3b/tree -d $exp/tri3b/final.mat -d $exp/tri3b/graph/HCLG.fst -d $data/lang/words.txt -d $data/lang/phones \\\n",
    "-m $exp/metrics/tri3b_rescore.json \\\n",
    "-n tri3b_rescore_metrics \\\n",
    "\"$cmd_prefix steps/lmrescore_const_arpa.sh $data/lang $data/carpa $data/dev_0.15k $exp/tri3b/decode_dev_0.15k $exp/tri3b/rescore_dev_0.15k; \\\n",
    "$UKROASR_ROOT/parce_wer_report.sh $exp/tri3b/rescore_dev_0.15k/scoring_kaldi/best_wer $exp/metrics/tri3b_rescore.json\"\n"
   ]
  },
  {
   "cell_type": "code",
   "execution_count": null,
   "metadata": {},
   "outputs": [],
   "source": [
    "git add dvc.yaml exp/metrics/.gitignore dvc.lock"
   ]
  },
  {
   "cell_type": "code",
   "execution_count": null,
   "metadata": {},
   "outputs": [],
   "source": []
  }
 ],
 "metadata": {
  "kernelspec": {
   "display_name": "Bash",
   "language": "bash",
   "name": "bash"
  },
  "language_info": {
   "codemirror_mode": "shell",
   "file_extension": ".sh",
   "mimetype": "text/x-sh",
   "name": "bash"
  }
 },
 "nbformat": 4,
 "nbformat_minor": 2
}
