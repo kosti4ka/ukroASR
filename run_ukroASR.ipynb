{
 "cells": [
  {
   "cell_type": "code",
   "execution_count": null,
   "metadata": {},
   "outputs": [],
   "source": [
    "export PYTHONPATH=\"${PYTHONPATH}:/data/exp/kostya/ukr_g2p\"\n",
    "export PYTHONPATH=\"${PYTHONPATH}:/data/exp/kostya/ukroASR\"\n",
    "UKROASR_ROOT=/data/exp/kostya/ukroASR\n",
    "# export PYTHONIOENCODING=utf-8"
   ]
  },
  {
   "cell_type": "code",
   "execution_count": null,
   "metadata": {},
   "outputs": [],
   "source": [
    "cd $UKROASR_ROOT"
   ]
  },
  {
   "cell_type": "code",
   "execution_count": null,
   "metadata": {},
   "outputs": [],
   "source": [
    "# cd $KALDI_ROOT/egs/wsj/s5; . ./path.sh; . ./cmd.sh"
   ]
  },
  {
   "cell_type": "code",
   "execution_count": null,
   "metadata": {},
   "outputs": [],
   "source": [
    "train_cmd=run.pl"
   ]
  },
  {
   "cell_type": "code",
   "execution_count": null,
   "metadata": {},
   "outputs": [],
   "source": [
    "work_dir=/data/exp/kostya/ukroASR"
   ]
  },
  {
   "cell_type": "code",
   "execution_count": null,
   "metadata": {},
   "outputs": [],
   "source": [
    "data=$work_dir/data"
   ]
  },
  {
   "cell_type": "code",
   "execution_count": null,
   "metadata": {},
   "outputs": [],
   "source": [
    "exp=$work_dir/exp"
   ]
  },
  {
   "cell_type": "code",
   "execution_count": null,
   "metadata": {},
   "outputs": [],
   "source": [
    "cmd_prefix='cd $KALDI_ROOT/egs/wsj/s5; . ./path.sh; . ./cmd.sh;'"
   ]
  },
  {
   "cell_type": "markdown",
   "metadata": {},
   "source": [
    "# TRAINING LANGUAGE MODEL"
   ]
  },
  {
   "cell_type": "markdown",
   "metadata": {},
   "source": [
    "We are going to train LM without using dataset for training AM in order to not regenerate the whole model each time after adding small portion of data for AM training"
   ]
  },
  {
   "cell_type": "markdown",
   "metadata": {},
   "source": [
    "### Order 3 LM for decoding with prunings"
   ]
  },
  {
   "cell_type": "code",
   "execution_count": null,
   "metadata": {
    "scrolled": true
   },
   "outputs": [],
   "source": [
    "dvc run \\\n",
    "-d $UKROASR_ROOT/artifacts/text_plane \\\n",
    "-d $UKROASR_ROOT/artifacts/normal_fiction.txt \\\n",
    "-d $UKROASR_ROOT/artifacts/normal_news.txt \\\n",
    "-d $UKROASR_ROOT/artifacts/normal_wiki_dump.txt \\\n",
    "-d $UKROASR_ROOT/artifacts/normal_ubercorpus.txt \\\n",
    "-o $data/lm_ukr_o3.gz \\\n",
    "-n lm_ukr_o3 \\\n",
    "\"cut -d' ' -f2- $UKROASR_ROOT/artifacts/text_plane \\\n",
    "                $UKROASR_ROOT/artifacts/normal_fiction.txt \\\n",
    "                $UKROASR_ROOT/artifacts/normal_news.txt \\\n",
    "                $UKROASR_ROOT/artifacts/normal_wiki_dump.txt \\\n",
    "                $UKROASR_ROOT/artifacts/normal_ubercorpus.txt > /tmp/train_corpus; \\\n",
    "~/kenlm/build/bin/lmplz -o 3 --prune 6 8 10 </tmp/train_corpus | gzip -c > $data/lm_ukr_o3.gz\""
   ]
  },
  {
   "cell_type": "code",
   "execution_count": null,
   "metadata": {},
   "outputs": [],
   "source": [
    "git add dvc.lock dvc.yaml data/.gitignore"
   ]
  },
  {
   "cell_type": "markdown",
   "metadata": {},
   "source": [
    "### generating local/dict for lm training"
   ]
  },
  {
   "cell_type": "code",
   "execution_count": null,
   "metadata": {
    "scrolled": true
   },
   "outputs": [],
   "source": [
    "dvc run -f \\\n",
    "-d $UKROASR_ROOT/prepare_local_dict_from_lm.sh -d $data/lm_ukr_o3.gz -d $UKROASR_ROOT/artifacts/lexicon.txt \\\n",
    "-d $data/local/dict/nonsilence_phones.txt -d $data/local/dict/extra_questions.txt \\\n",
    "-d $data/local/dict/silence_phones.txt -d $data/local/dict/optional_silence.txt \\\n",
    "-o $data/local/dict_lm_train/vocab -o $data/local/dict_lm_train/lexicon.txt \\\n",
    "-n local_dict_lm_train \\\n",
    "$cmd_prefix $UKROASR_ROOT/prepare_local_dict_from_lm.sh --nj 16 $data/local/dict $data/lm_ukr_o3.gz $data/local/dict_lm_train"
   ]
  },
  {
   "cell_type": "code",
   "execution_count": null,
   "metadata": {},
   "outputs": [],
   "source": [
    "git add dvc.yaml dvc.lock"
   ]
  },
  {
   "cell_type": "markdown",
   "metadata": {},
   "source": [
    "### Order 4 LM for rescoring without prunings"
   ]
  },
  {
   "cell_type": "code",
   "execution_count": null,
   "metadata": {
    "scrolled": true
   },
   "outputs": [],
   "source": [
    "dvc run -f \\\n",
    "-d $UKROASR_ROOT/artifacts/text_plane \\\n",
    "-d $UKROASR_ROOT/artifacts/normal_fiction.txt \\\n",
    "-d $UKROASR_ROOT/artifacts/normal_news.txt \\\n",
    "-d $UKROASR_ROOT/artifacts/normal_wiki_dump.txt \\\n",
    "-d $UKROASR_ROOT/artifacts/normal_ubercorpus.txt \\\n",
    "-d $data/local/dict_lm_train/vocab \\\n",
    "-o $data/lm_ukr_o4.gz \\\n",
    "-n lm_ukr_o4 \\\n",
    "\"cut -d' ' -f2- $UKROASR_ROOT/artifacts/text_plane \\\n",
    "                $UKROASR_ROOT/artifacts/normal_fiction.txt \\\n",
    "                $UKROASR_ROOT/artifacts/normal_news.txt \\\n",
    "                $UKROASR_ROOT/artifacts/normal_wiki_dump.txt \\\n",
    "                $UKROASR_ROOT/artifacts/normal_ubercorpus.txt > /tmp/train_corpus; \\\n",
    "~/kenlm/build/bin/lmplz -o 4 --limit_vocab_file $data/local/dict_lm_train/vocab </tmp/train_corpus | gzip -c > $data/lm_ukr_o4.gz\""
   ]
  },
  {
   "cell_type": "code",
   "execution_count": null,
   "metadata": {},
   "outputs": [],
   "source": [
    "git add dvc.lock data/.gitignore dvc.yaml"
   ]
  },
  {
   "cell_type": "markdown",
   "metadata": {},
   "source": [
    "### Generating Kaldi's lang dir"
   ]
  },
  {
   "cell_type": "code",
   "execution_count": null,
   "metadata": {},
   "outputs": [],
   "source": [
    "dvc run -f \\\n",
    "-d $data/local/dict_lm_train/lexicon.txt \\\n",
    "-d $data/local/dict_lm_train/silence_phones.txt \\\n",
    "-d $data/local/dict_lm_train/nonsilence_phones.txt \\\n",
    "-d $data/local/dict_lm_train/optional_silence.txt \\\n",
    "-d $data/local/dict_lm_train/extra_questions.txt \\\n",
    "-o $data/lang/L.fst \\\n",
    "-o $data/lang/L_disambig.fst \\\n",
    "-o $data/lang/oov.int \\\n",
    "-o $data/lang/oov.txt \\\n",
    "-o $data/lang/phones.txt \\\n",
    "-o $data/lang/topo \\\n",
    "-o $data/lang/words.txt \\\n",
    "-o $data/lang/phones \\\n",
    "-O $data/local/dict_lm_train/lexiconp.txt \\\n",
    "-n lang_dir \\\n",
    "\"$cmd_prefix utils/prepare_lang.sh --position-dependent-phones false $data/local/dict_lm_train '<UNK>' $data/local/lang_lm $data/lang\""
   ]
  },
  {
   "cell_type": "code",
   "execution_count": null,
   "metadata": {},
   "outputs": [],
   "source": [
    "l $data/local/dict_lm_train"
   ]
  },
  {
   "cell_type": "code",
   "execution_count": null,
   "metadata": {},
   "outputs": [],
   "source": [
    "git add dvc.yaml dvc.lock"
   ]
  },
  {
   "cell_type": "markdown",
   "metadata": {},
   "source": [
    "### Formatting Kaldi's LM dir"
   ]
  },
  {
   "cell_type": "code",
   "execution_count": null,
   "metadata": {
    "scrolled": true
   },
   "outputs": [],
   "source": [
    "dvc run -f \\\n",
    "-d $data/lang/words.txt -d $data/lm_ukr_o3.gz -d $data/local/dict_lm_train/lexicon.txt \\\n",
    "-o $data/lang/G.fst \\\n",
    "-n lang_fst \\\n",
    "\"$cmd_prefix utils/format_lm.sh $data/lang $data/lm_ukr_o3.gz $data/local/dict_lm_train/lexicon.txt $data/lang\""
   ]
  },
  {
   "cell_type": "code",
   "execution_count": null,
   "metadata": {},
   "outputs": [],
   "source": [
    "git add dvc.yaml dvc.lock"
   ]
  },
  {
   "cell_type": "markdown",
   "metadata": {},
   "source": [
    "### Generating rescore lm dir"
   ]
  },
  {
   "cell_type": "code",
   "execution_count": null,
   "metadata": {
    "scrolled": true
   },
   "outputs": [],
   "source": [
    "dvc run -f \\\n",
    "-d $data/lang/words.txt -d $data/lm_ukr_o4.gz \\\n",
    "-o $data/carpa/G.carpa \\\n",
    "-n carpa \\\n",
    "\"$cmd_prefix utils/build_const_arpa_lm.sh $data/lm_ukr_o4.gz $data/lang $data/carpa\""
   ]
  },
  {
   "cell_type": "code",
   "execution_count": null,
   "metadata": {},
   "outputs": [],
   "source": [
    "git add dvc.lock dvc.yaml"
   ]
  },
  {
   "cell_type": "markdown",
   "metadata": {},
   "source": [
    "# IMPORT DATASET"
   ]
  },
  {
   "cell_type": "code",
   "execution_count": null,
   "metadata": {},
   "outputs": [],
   "source": [
    "# import train.csv"
   ]
  },
  {
   "cell_type": "code",
   "execution_count": null,
   "metadata": {},
   "outputs": [],
   "source": [
    "dvc import -o data/raw_data/train.csv \\\n",
    "https://github.com/kosti4ka/ukrodataset.git train.csv"
   ]
  },
  {
   "cell_type": "code",
   "execution_count": null,
   "metadata": {},
   "outputs": [],
   "source": [
    "git add data/raw_data/train.csv.dvc"
   ]
  },
  {
   "cell_type": "code",
   "execution_count": null,
   "metadata": {},
   "outputs": [],
   "source": [
    "# import dev.csv"
   ]
  },
  {
   "cell_type": "code",
   "execution_count": null,
   "metadata": {},
   "outputs": [],
   "source": [
    "dvc import -o data/raw_data/dev.csv \\\n",
    "https://github.com/kosti4ka/ukrodataset.git dev.csv"
   ]
  },
  {
   "cell_type": "code",
   "execution_count": null,
   "metadata": {},
   "outputs": [],
   "source": [
    "git add data/raw_data/dev.csv.dvc"
   ]
  },
  {
   "cell_type": "code",
   "execution_count": null,
   "metadata": {},
   "outputs": [],
   "source": [
    "# import audio data itself"
   ]
  },
  {
   "cell_type": "code",
   "execution_count": null,
   "metadata": {
    "scrolled": true
   },
   "outputs": [],
   "source": [
    "dvc import -o data/raw_data \\\n",
    "https://github.com/kosti4ka/ukrodataset.git audiobooks"
   ]
  },
  {
   "cell_type": "code",
   "execution_count": null,
   "metadata": {},
   "outputs": [],
   "source": [
    "git add -f data/raw_data/audiobooks.dvc"
   ]
  },
  {
   "cell_type": "code",
   "execution_count": null,
   "metadata": {},
   "outputs": [],
   "source": [
    "dvc update data/raw_data/audiobooks.dvc"
   ]
  },
  {
   "cell_type": "markdown",
   "metadata": {},
   "source": [
    "# GENERATING DATA FOLDERS"
   ]
  },
  {
   "cell_type": "code",
   "execution_count": null,
   "metadata": {},
   "outputs": [],
   "source": [
    "# train data folder"
   ]
  },
  {
   "cell_type": "code",
   "execution_count": null,
   "metadata": {
    "scrolled": false
   },
   "outputs": [],
   "source": [
    "dvc run \\\n",
    "-d $data/raw_data/train.csv -d $UKROASR_ROOT/gen_data_dir.py \\\n",
    "-o $data/train/text -o $data/train/utt2spk -o $data/train/segments -o $data/train/spk2utt -o $data/train/wav.scp \\\n",
    "-n train_data_dir \\\n",
    "python3.6 $UKROASR_ROOT/gen_data_dir.py $data/raw_data/train.csv $data/train"
   ]
  },
  {
   "cell_type": "code",
   "execution_count": null,
   "metadata": {},
   "outputs": [],
   "source": [
    "# dev data folder"
   ]
  },
  {
   "cell_type": "code",
   "execution_count": null,
   "metadata": {
    "scrolled": true
   },
   "outputs": [],
   "source": [
    "dvc run \\\n",
    "-d $data/raw_data/dev.csv -d $UKROASR_ROOT/gen_data_dir.py \\\n",
    "-o $data/dev/text -o $data/dev/utt2spk -o $data/dev/segments -o $data/dev/spk2utt -o $data/dev/wav.scp \\\n",
    "-n dev_data_dir \\\n",
    "python3.6 $UKROASR_ROOT/gen_data_dir.py $data/raw_data/dev.csv $data/dev"
   ]
  },
  {
   "cell_type": "code",
   "execution_count": null,
   "metadata": {},
   "outputs": [],
   "source": [
    "git add -f dvc.lock data/dev/.gitignore dvc.yaml"
   ]
  },
  {
   "cell_type": "markdown",
   "metadata": {},
   "source": [
    "# GENERATING LANG DIR FOR AM TRAINING"
   ]
  },
  {
   "cell_type": "code",
   "execution_count": null,
   "metadata": {},
   "outputs": [],
   "source": [
    "dvc run \\\n",
    "-d $UKROASR_ROOT/prepare_local_dict_from_text.sh -d $data/train/text -d $UKROASR_ROOT/artifacts/lexicon.txt \\\n",
    "-d $data/local/dict/nonsilence_phones.txt -d $data/local/dict/extra_questions.txt \\\n",
    "-d $data/local/dict/silence_phones.txt -d $data/local/dict/optional_silence.txt \\\n",
    "-o $data/local/dict_am_train/vocab -o $data/local/dict_am_train/lexicon.txt \\\n",
    "-n local_dict_am_train \\\n",
    "$cmd_prefix $UKROASR_ROOT/prepare_local_dict_from_text.sh --nj 16 $data/local/dict $data/local/dict_am_train $data/train/text"
   ]
  },
  {
   "cell_type": "code",
   "execution_count": null,
   "metadata": {},
   "outputs": [],
   "source": [
    "git add dvc.yaml dvc.lock"
   ]
  },
  {
   "cell_type": "code",
   "execution_count": null,
   "metadata": {
    "scrolled": true
   },
   "outputs": [],
   "source": [
    "dvc run \\\n",
    "-d $data/local/dict_am_train/lexicon.txt \\\n",
    "-d $data/local/dict_am_train/silence_phones.txt \\\n",
    "-d $data/local/dict_am_train/nonsilence_phones.txt \\\n",
    "-d $data/local/dict_am_train/optional_silence.txt \\\n",
    "-d $data/local/dict_am_train/extra_questions.txt \\\n",
    "-o $data/lang_am_train/L.fst \\\n",
    "-o $data/lang_am_train/L_disambig.fst \\\n",
    "-o $data/lang_am_train/oov.int \\\n",
    "-o $data/lang_am_train/oov.txt \\\n",
    "-o $data/lang_am_train/phones.txt \\\n",
    "-o $data/lang_am_train/topo \\\n",
    "-o $data/lang_am_train/words.txt \\\n",
    "-o $data/lang_am_train/phones \\\n",
    "-O $data/local/dict_am_train/lexiconp.txt \\\n",
    "-n lang_dir_am_train \\\n",
    "\"$cmd_prefix utils/prepare_lang.sh --position-dependent-phones false $data/local/dict_am_train '<UNK>' $data/local/lang_am $data/lang_am_train\""
   ]
  },
  {
   "cell_type": "code",
   "execution_count": null,
   "metadata": {},
   "outputs": [],
   "source": [
    "git add dvc.yaml data/lang_am_train/.gitignore dvc.lock"
   ]
  },
  {
   "cell_type": "markdown",
   "metadata": {},
   "source": [
    "# Computing features"
   ]
  },
  {
   "cell_type": "code",
   "execution_count": null,
   "metadata": {
    "scrolled": true
   },
   "outputs": [],
   "source": [
    "dvc run -f \\\n",
    "-d $data/train/wav.scp -d $data/train/segments -d $data/train/utt2spk \\\n",
    "-O $exp/train_mfcc -O $data/train/feats.scp \\\n",
    "-n mfcc_train \\\n",
    "\"python3.6 $UKROASR_ROOT/features/make_mfcc.py $data/train $exp/log/mfcc $exp/train_mfcc\""
   ]
  },
  {
   "cell_type": "code",
   "execution_count": null,
   "metadata": {},
   "outputs": [],
   "source": [
    "dvc run \\\n",
    "-d $data/dev/wav.scp -d $data/dev/segments -d $data/dev/utt2spk \\\n",
    "-O $exp/dev_mfcc -O $data/dev/feats.scp \\\n",
    "-n mfcc_dev \\\n",
    "\"python3.6 $UKROASR_ROOT/features/make_mfcc.py $data/dev $exp/log/mfcc $exp/dev_mfcc\""
   ]
  },
  {
   "cell_type": "code",
   "execution_count": null,
   "metadata": {},
   "outputs": [],
   "source": [
    "git add dvc.yaml dvc.lock"
   ]
  },
  {
   "cell_type": "code",
   "execution_count": null,
   "metadata": {},
   "outputs": [],
   "source": [
    "# compute cmvn features"
   ]
  },
  {
   "cell_type": "code",
   "execution_count": null,
   "metadata": {},
   "outputs": [],
   "source": [
    "for split in train dev\n",
    "do\n",
    "dvc run \\\n",
    "-d $data/$split/feats.scp -d $data/$split/utt2spk \\\n",
    "-O $exp/${split}_cmvn -O $data/$split/cmvn.scp \\\n",
    "-n cmvn_${split} \\\n",
    "\"python3.6 $UKROASR_ROOT/features/compute_cmvn_stats.py $data/$split $exp/log/cmvn $exp/${split}_cmvn\"\n",
    "done"
   ]
  },
  {
   "cell_type": "code",
   "execution_count": null,
   "metadata": {},
   "outputs": [],
   "source": [
    "git add dvc.yaml dvc.lock"
   ]
  },
  {
   "cell_type": "markdown",
   "metadata": {},
   "source": [
    "# Sampling again"
   ]
  },
  {
   "cell_type": "code",
   "execution_count": null,
   "metadata": {},
   "outputs": [],
   "source": [
    "dvc run \\\n",
    "-d $data/train/text -d $data/train/utt2spk -d $data/train/segments -d $data/train/spk2utt -d $data/train/wav.scp -d $data/train/feats.scp -d $data/train/cmvn.scp \\\n",
    "-o $data/train_2kshort/text -o $data/train_2kshort/utt2spk -o $data/train_2kshort/segments -o $data/train_2kshort/spk2utt -o $data/train_2kshort/wav.scp -o $data/train_2kshort/feats.scp -o $data/train_2kshort/cmvn.scp \\\n",
    "-n train_2kshort_data \\\n",
    "\"$cmd_prefix utils/subset_data_dir.sh --shortest $data/train 2000 $data/train_2kshort\""
   ]
  },
  {
   "cell_type": "code",
   "execution_count": null,
   "metadata": {},
   "outputs": [],
   "source": [
    "dvc run \\\n",
    "-d $data/train/text -d $data/train/utt2spk -d $data/train/segments -d $data/train/spk2utt -d $data/train/wav.scp -d $data/train/feats.scp -d $data/train/cmvn.scp \\\n",
    "-o $data/train_5k/text -o $data/train_5k/utt2spk -o $data/train_5k/segments -o $data/train_5k/spk2utt -o $data/train_5k/wav.scp -o $data/train_5k/feats.scp -o $data/train_5k/cmvn.scp \\\n",
    "-n train_5k_data \\\n",
    "\"$cmd_prefix utils/subset_data_dir.sh $data/train 5000 $data/train_5k\""
   ]
  },
  {
   "cell_type": "code",
   "execution_count": null,
   "metadata": {},
   "outputs": [],
   "source": [
    "dvc run \\\n",
    "-d $data/dev/text -d $data/dev/utt2spk -d $data/dev/segments -d $data/dev/spk2utt -d $data/dev/wav.scp -d $data/dev/feats.scp -d $data/dev/cmvn.scp \\\n",
    "-o $data/dev_0.75kshort/text -o $data/dev_0.75kshort/utt2spk -o $data/dev_0.75kshort/segments -o $data/dev_0.75kshort/spk2utt -o $data/dev_0.75kshort/wav.scp -o $data/dev_0.75kshort/feats.scp -o $data/dev_0.75kshort/cmvn.scp \\\n",
    "-n dev_075kshort_data \\\n",
    "\"$cmd_prefix utils/subset_data_dir.sh --shortest $data/dev 750 $data/dev_0.75kshort\""
   ]
  },
  {
   "cell_type": "code",
   "execution_count": null,
   "metadata": {},
   "outputs": [],
   "source": [
    "dvc run \\\n",
    "-d $data/dev_0.75kshort/text -d $data/dev_0.75kshort/utt2spk -d $data/dev_0.75kshort/segments -d $data/dev_0.75kshort/spk2utt -d $data/dev_0.75kshort/wav.scp -d $data/dev_0.75kshort/feats.scp -d $data/dev_0.75kshort/cmvn.scp \\\n",
    "-o $data/dev_0.15k/text -o $data/dev_0.15k/utt2spk -o $data/dev_0.15k/segments -o $data/dev_0.15k/spk2utt -o $data/dev_0.15k/wav.scp -o $data/dev_0.15k/feats.scp -o $data/dev_0.15k/cmvn.scp \\\n",
    "-n dev_015k_data \\\n",
    "\"$cmd_prefix utils/subset_data_dir.sh $data/dev_0.75kshort 150 $data/dev_0.15k\""
   ]
  },
  {
   "cell_type": "code",
   "execution_count": null,
   "metadata": {},
   "outputs": [],
   "source": [
    "git add dvc.yaml dvc.lock"
   ]
  },
  {
   "cell_type": "markdown",
   "metadata": {},
   "source": [
    "# Training and alignment"
   ]
  },
  {
   "cell_type": "markdown",
   "metadata": {},
   "source": [
    "### monophone"
   ]
  },
  {
   "cell_type": "code",
   "execution_count": null,
   "metadata": {},
   "outputs": [],
   "source": [
    "mkdir $exp/mono"
   ]
  },
  {
   "cell_type": "code",
   "execution_count": null,
   "metadata": {
    "scrolled": true
   },
   "outputs": [],
   "source": [
    "dvc run -f \\\n",
    "-d $data/train_2kshort/feats.scp -d $data/train_2kshort/utt2spk -d $data/train_2kshort/text -d $data/train_2kshort/cmvn.scp -d $data/lang_am_train/L.fst -d $data/lang_am_train/words.txt -d $data/lang_am_train/phones.txt -d $data/lang_am_train/topo -d $data/lang_am_train/phones \\\n",
    "-o $exp/mono/final.mdl -o $exp/mono/tree -o $exp/mono/phones.txt \\\n",
    "-n mono \\\n",
    "\"$cmd_prefix steps/train_mono.sh --boost-silence 1.25 --nj 8 $data/train_2kshort $data/lang_am_train $exp/mono\""
   ]
  },
  {
   "cell_type": "code",
   "execution_count": null,
   "metadata": {},
   "outputs": [],
   "source": [
    "git add dvc.lock dvc.yaml"
   ]
  },
  {
   "cell_type": "code",
   "execution_count": null,
   "metadata": {
    "scrolled": true
   },
   "outputs": [],
   "source": [
    "dvc run -f \\\n",
    "-d $exp/mono/final.mdl -d $exp/mono/tree -d $data/lang/L.fst -d $data/lang/G.fst -d $data/lang/phones.txt -d $data/lang/words.txt -d $data/lang/phones \\\n",
    "-O $exp/mono/graph/HCLG.fst -O $exp/mono/graph/words.txt \\\n",
    "-n mono_graph \\\n",
    "\"$cmd_prefix utils/mkgraph.sh $data/lang $exp/mono $exp/mono/graph\""
   ]
  },
  {
   "cell_type": "code",
   "execution_count": null,
   "metadata": {
    "scrolled": true
   },
   "outputs": [],
   "source": [
    "dvc run \\\n",
    "-d $data/dev_0.15k/utt2spk -d $data/dev_0.15k/feats.scp -d $data/dev_0.15k/cmvn.scp -d $exp/mono/final.mdl -d $exp/mono/graph/HCLG.fst -d $data/lang/words.txt \\\n",
    "-m $exp/metrics/mono.json \\\n",
    "-n mono_metrics \\\n",
    "\"$cmd_prefix steps/decode.sh --nj 4 $exp/mono/graph $data/dev_0.15k $exp/mono/decode_dev_0.15k; \\\n",
    "$UKROASR_ROOT/parce_wer_report.sh $exp/mono/decode_dev_0.15k/scoring_kaldi/best_wer $exp/metrics/mono.json\""
   ]
  },
  {
   "cell_type": "code",
   "execution_count": null,
   "metadata": {},
   "outputs": [],
   "source": [
    "cat exp/metrics/mono.json"
   ]
  },
  {
   "cell_type": "code",
   "execution_count": null,
   "metadata": {},
   "outputs": [],
   "source": [
    "cat exp/metrics/mono.json"
   ]
  },
  {
   "cell_type": "code",
   "execution_count": null,
   "metadata": {},
   "outputs": [],
   "source": [
    "#base %WER 70.18\n",
    "#2kshort %WER 75.96\n",
    "#2kshort  + correct spk _2 %WER 75.41\n",
    "#2kshort  + correct spk _2 no _I_B_S_E %WER 76.24\n",
    "#2kshort  + correct spk _2 no _I_B_S_E small dev %WER 74.72 \n",
    "#2kshort  + correct spk _2 no _I_B_S_E shared silence phones small dev %WER 75.25\n",
    "#2kshort  + correct spk _2 no _I_B_S_E extra_questions stress %WER 75.70\n",
    "######################################################################################################################\n",
    "#2kshort  + 8 spk + no IBSE %WER 73.65\n",
    "#2kshort  + 8 spk + no IBSE %WER extra_questions stress 74.34"
   ]
  },
  {
   "cell_type": "markdown",
   "metadata": {},
   "source": [
    "### triphone"
   ]
  },
  {
   "cell_type": "code",
   "execution_count": null,
   "metadata": {},
   "outputs": [],
   "source": [
    "# aligning train data"
   ]
  },
  {
   "cell_type": "code",
   "execution_count": null,
   "metadata": {},
   "outputs": [],
   "source": [
    "dvc run -f \\\n",
    "-d $data/train_5k/feats.scp -d $data/train_5k/utt2spk -d $data/train_5k/text -d $data/train_5k/cmvn.scp -d $data/lang_am_train/L.fst -d $data/lang_am_train/words.txt -d $data/lang_am_train/phones -d $data/lang_am_train/phones.txt -d $data/lang_am_train/oov.int -d $exp/mono/final.mdl -d $exp/mono/tree \\\n",
    "$(for f in $exp/mono_train_5k_ali/ali.*.gz; do echo -O $f; done) \\\n",
    "-n mono_ali \\\n",
    "\"$cmd_prefix steps/align_si.sh --boost-silence 1.25 --nj 8 $data/train_5k $data/lang_am_train $exp/mono $exp/mono_train_5k_ali\""
   ]
  },
  {
   "cell_type": "code",
   "execution_count": null,
   "metadata": {
    "scrolled": true
   },
   "outputs": [],
   "source": [
    "dvc run -f \\\n",
    "$(for f in $exp/mono_train_5k_ali/ali.*.gz; do echo -d $f; done) -d $data/lang_am_train/L.fst -d $data/lang_am_train/words.txt -d $data/lang_am_train/phones.txt -d $data/lang_am_train/topo -d $data/lang_am_train/phones -d $data/train_5k/feats.scp -d $data/train_5k/utt2spk -d $data/train_5k/cmvn.scp \\\n",
    "-o $exp/tri1/final.mdl -o $exp/tri1/tree -o $exp/tri1/phones.txt \\\n",
    "-n tri1 \\\n",
    "\"$cmd_prefix steps/train_deltas.sh --boost-silence 1.25 2000 10000 $data/train_5k $data/lang_am_train $exp/mono_train_5k_ali $exp/tri1; \\\n",
    "cp $exp/tri1/final.mdl $exp/tri1/final.mdl_copy; mv $exp/tri1/final.mdl_copy $exp/tri1/final.mdl\""
   ]
  },
  {
   "cell_type": "code",
   "execution_count": null,
   "metadata": {
    "scrolled": true
   },
   "outputs": [],
   "source": [
    "dvc run -f \\\n",
    "-d $exp/tri1/final.mdl -d $exp/tri1/tree -d $data/lang/L.fst -d $data/lang/G.fst -d $data/lang/phones.txt -d $data/lang/words.txt -d $data/lang/phones \\\n",
    "-O $exp/tri1/graph/HCLG.fst -O $exp/tri1/graph/words.txt \\\n",
    "-n tri1_graph \\\n",
    "\"$cmd_prefix utils/mkgraph.sh $data/lang $exp/tri1 $exp/tri1/graph\""
   ]
  },
  {
   "cell_type": "code",
   "execution_count": null,
   "metadata": {
    "scrolled": true
   },
   "outputs": [],
   "source": [
    "dvc run \\\n",
    "-d $data/dev_0.15k/utt2spk -d $data/dev_0.15k/feats.scp -d $data/dev_0.15k/cmvn.scp -d $exp/tri1/final.mdl -d $exp/tri1/graph/HCLG.fst -d $data/lang/words.txt \\\n",
    "-m $exp/metrics/tri1.json \\\n",
    "-n tri1_metrics \\\n",
    "\"$cmd_prefix steps/decode.sh --nj 4 $exp/tri1/graph $data/dev_0.15k $exp/tri1/decode_dev_0.15k; \\\n",
    "$UKROASR_ROOT/parce_wer_report.sh $exp/tri1/decode_dev_0.15k/scoring_kaldi/best_wer $exp/metrics/tri1.json\""
   ]
  },
  {
   "cell_type": "code",
   "execution_count": null,
   "metadata": {},
   "outputs": [],
   "source": [
    "cat exp/metrics/tri1.json"
   ]
  },
  {
   "cell_type": "code",
   "execution_count": null,
   "metadata": {},
   "outputs": [],
   "source": [
    "cat exp/metrics/tri1.json"
   ]
  },
  {
   "cell_type": "code",
   "execution_count": null,
   "metadata": {},
   "outputs": [],
   "source": [
    "# base %WER 60.95\n",
    "# half + 2kshort %WER 61.70\n",
    "# whole_train + 2kshort %WER 61.73\n",
    "# half + 2kshort + correct spk_2 no _I_B_S_E short dev %WER 61.26\n",
    "# half + 2kshort + correct spk_2 no _I_B_S_E shared silence phones %WER 63.56\n",
    "# half + 2kshort + correct spk_2 no _I_B_S_E extra_questions stress %WER 61.51\n",
    "######################################################################################################################\n",
    "#2kshort + 45k + 8 spk + no IBSE %WER 56.72\n",
    "#2kshort + 45k + 8 spk + no IBSE + extra_questions stress %WER 56.28"
   ]
  },
  {
   "cell_type": "markdown",
   "metadata": {},
   "source": [
    "### lda mllt"
   ]
  },
  {
   "cell_type": "code",
   "execution_count": null,
   "metadata": {},
   "outputs": [],
   "source": [
    "dvc run -f \\\n",
    "-d $data/train/feats.scp -d $data/train/utt2spk -d $data/train/text -d $data/train/cmvn.scp -d $data/lang_am_train/L.fst -d $data/lang_am_train/words.txt -d $data/lang_am_train/phones -d $data/lang_am_train/phones.txt -d $data/lang_am_train/oov.int -d $exp/tri1/final.mdl -d $exp/tri1/tree \\\n",
    "$(for f in $exp/tri1_train_ali/ali.*.gz; do echo -O $f; done) \\\n",
    "-n tri_ali \\\n",
    "\"$cmd_prefix steps/align_si.sh --nj 8 $data/train $data/lang_am_train $exp/tri1 $exp/tri1_train_ali\""
   ]
  },
  {
   "cell_type": "code",
   "execution_count": null,
   "metadata": {},
   "outputs": [],
   "source": [
    "mkdir /data/exp/kostya/ukroASR/exp/tri2b"
   ]
  },
  {
   "cell_type": "code",
   "execution_count": null,
   "metadata": {
    "scrolled": true
   },
   "outputs": [],
   "source": [
    "dvc run -f \\\n",
    "$(for f in $exp/tri1_train_ali/ali.*.gz; do echo -d $f; done) -d $data/lang_am_train/L.fst -d $data/lang_am_train/words.txt -d $data/lang_am_train/phones.txt -d $data/lang_am_train/topo -d $data/lang_am_train/phones -d $data/train/feats.scp -d $data/train/utt2spk -d $data/train/cmvn.scp \\\n",
    "-o $exp/tri2b/final.mdl -o $exp/tri2b/final.mat -o $exp/tri2b/tree -o $exp/tri2b/phones.txt \\\n",
    "-n tri2b \\\n",
    "\"$cmd_prefix steps/train_lda_mllt.sh --splice-opts \\\"--left-context=3 --right-context=3\\\" 2500 15000 $data/train $data/lang_am_train $exp/tri1_train_ali $exp/tri2b; \\\n",
    "cp $exp/tri2b/final.mdl $exp/tri2b/final.mdl_copy; mv $exp/tri2b/final.mdl_copy $exp/tri2b/final.mdl; \\\n",
    "cp $exp/tri2b/final.mat $exp/tri2b/final.mat_copy; mv $exp/tri2b/final.mat_copy $exp/tri2b/final.mat\""
   ]
  },
  {
   "cell_type": "code",
   "execution_count": null,
   "metadata": {},
   "outputs": [],
   "source": [
    "dvc run -f \\\n",
    "-d $exp/tri2b/final.mdl -d $exp/tri2b/tree -d $data/lang/L.fst -d $data/lang/G.fst -d $data/lang/phones.txt -d $data/lang/words.txt -d $data/lang/phones \\\n",
    "-O $exp/tri2b/graph/HCLG.fst -O $exp/tri2b/graph/words.txt \\\n",
    "-n tri2b_graph \\\n",
    "\"$cmd_prefix utils/mkgraph.sh $data/lang $exp/tri2b $exp/tri2b/graph\""
   ]
  },
  {
   "cell_type": "code",
   "execution_count": null,
   "metadata": {},
   "outputs": [],
   "source": [
    "dvc run \\\n",
    "-d $data/dev_0.15k/utt2spk -d $data/dev_0.15k/feats.scp -d $data/dev_0.15k/cmvn.scp -d $exp/tri2b/final.mdl -d $exp/tri2b/final.mat -d $exp/tri2b/graph/HCLG.fst -d $data/lang/words.txt \\\n",
    "-m $exp/metrics/tri2b.json \\\n",
    "-n tri2b_metrics \\\n",
    "\"$cmd_prefix steps/decode.sh --nj 4 $exp/tri2b/graph $data/dev_0.15k $exp/tri2b/decode_dev_0.15k; \\\n",
    "$UKROASR_ROOT/parce_wer_report.sh $exp/tri2b/decode_dev_0.15k/scoring_kaldi/best_wer $exp/metrics/tri2b.json\""
   ]
  },
  {
   "cell_type": "code",
   "execution_count": null,
   "metadata": {},
   "outputs": [],
   "source": [
    "cat $exp/metrics/tri2b.json"
   ]
  },
  {
   "cell_type": "code",
   "execution_count": null,
   "metadata": {},
   "outputs": [],
   "source": [
    "cat $exp/metrics/tri2b.json"
   ]
  },
  {
   "cell_type": "code",
   "execution_count": null,
   "metadata": {},
   "outputs": [],
   "source": [
    "#base %WER 68.48\n",
    "# half + 2kshort %WER 68.22\n",
    "# full + 2kshort + correct spk %WER 67.81\n",
    "# full + 2kshort + correct spk _2 %WER 65.25\n",
    "# 2kshort + half + correct spk_2 + no _I_B_S_E %WER 64.77\n",
    "# 2kshort + half + correct spk_2 + no _I_B_S_E shared silence phones  %WER 67.73\n",
    "# half + 2kshort + correct spk_2 no _I_B_S_E extra_questions stress %WER 64.91\n",
    "######################################################################################################################\n",
    "#2kshort + 45k + 8 spk + no IBSE %WER 56.31\n",
    "#2kshort + 45k + 8 spk + no IBSE + extra_questions stress %WER 57.05"
   ]
  },
  {
   "cell_type": "markdown",
   "metadata": {},
   "source": [
    "### LDA + MLLT + SAT"
   ]
  },
  {
   "cell_type": "code",
   "execution_count": null,
   "metadata": {},
   "outputs": [],
   "source": [
    "dvc run -f \\\n",
    "-d $data/train/feats.scp -d $data/train/utt2spk -d $data/train/text -d $data/train/cmvn.scp -d $data/lang_am_train/L.fst -d $data/lang_am_train/words.txt -d $data/lang_am_train/phones -d $data/lang_am_train/phones.txt -d $data/lang_am_train/oov.int -d $exp/tri2b/final.mdl -d $exp/tri2b/final.mat -d $exp/tri2b/full.mat -d $exp/tri2b/tree \\\n",
    "$(for f in $exp/tri2b_train_ali/ali.*.gz; do echo -O $f; done) \\\n",
    "-n tri2b_ali \\\n",
    "\"$cmd_prefix steps/align_si.sh --nj 8 $data/train $data/lang_am_train $exp/tri2b $exp/tri2b_train_ali\""
   ]
  },
  {
   "cell_type": "code",
   "execution_count": null,
   "metadata": {
    "scrolled": true
   },
   "outputs": [],
   "source": [
    "dvc run -f \\\n",
    "$(for f in $exp/tri2b_train_ali/ali.*.gz; do echo -d $f; done) -d $data/lang_am_train/L.fst -d $data/lang_am_train/words.txt -d $data/lang_am_train/phones.txt -d $data/lang_am_train/topo -d $data/lang_am_train/phones -d $data/train/feats.scp -d $data/train/utt2spk -d $data/train/cmvn.scp \\\n",
    "-o $exp/tri3b/final.mdl -o $exp/tri3b/final.mat -o $exp/tri3b/tree -o $exp/tri3b/phones.txt \\\n",
    "-n tri3b \\\n",
    "\"$cmd_prefix steps/train_sat.sh 2500 15000 $data/train $data/lang_am_train $exp/tri2b_train_ali $exp/tri3b; \\\n",
    "cp $exp/tri3b/final.mdl $exp/tri3b/final.mdl_copy; mv $exp/tri3b/final.mdl_copy $exp/tri3b/final.mdl; \\\n",
    "cp $exp/tri3b/final.mat $exp/tri3b/final.mat_copy; mv $exp/tri3b/final.mat_copy $exp/tri3b/final.mat\""
   ]
  },
  {
   "cell_type": "code",
   "execution_count": null,
   "metadata": {
    "scrolled": true
   },
   "outputs": [],
   "source": [
    "dvc run -f \\\n",
    "-d $exp/tri3b/final.mdl -d $exp/tri3b/tree -d $data/lang/L.fst -d $data/lang/G.fst -d $data/lang/phones.txt -d $data/lang/words.txt -d $data/lang/phones \\\n",
    "-O $exp/tri3b/graph/HCLG.fst -O $exp/tri3b/graph/words.txt \\\n",
    "-n tri3b_graph \\\n",
    "\"$cmd_prefix utils/mkgraph.sh $data/lang $exp/tri3b $exp/tri3b/graph\""
   ]
  },
  {
   "cell_type": "code",
   "execution_count": null,
   "metadata": {
    "scrolled": true
   },
   "outputs": [],
   "source": [
    "dvc run -f \\\n",
    "-d $data/dev_0.15k/utt2spk -d $data/dev_0.15k/feats.scp -d $data/dev_0.15k/cmvn.scp \\\n",
    "-d $exp/tri3b/final.mdl -d $exp/tri3b/tree -d $exp/tri3b/final.mat \\\n",
    "-d $exp/tri3b/graph/HCLG.fst -d $data/lang/words.txt -d $data/lang/phones \\\n",
    "$(for f in $exp/tri3b/decode_dev_0.15k/lat.*.gz; do echo -O $f; done) \\\n",
    "-m $exp/metrics/tri3b.json \\\n",
    "-n tri3b_metrics \\\n",
    "\"$cmd_prefix steps/decode_fmllr.sh --nj 4 $exp/tri3b/graph $data/dev_0.15k $exp/tri3b/decode_dev_0.15k; \\\n",
    "$UKROASR_ROOT/parce_wer_report.sh $exp/tri3b/decode_dev_0.15k/scoring_kaldi/best_wer $exp/metrics/tri3b.json\""
   ]
  },
  {
   "cell_type": "code",
   "execution_count": null,
   "metadata": {},
   "outputs": [],
   "source": [
    "# base %WER 54.14\n",
    "# half + 2kshort %WER 53.50\n",
    "# 2kshort + half + correct spk_2 + no _I_B_S_E %WER 50.55\n",
    "# half + 2kshort + correct spk_2 no _I_B_S_E extra_questions stress %WER 50.85\n",
    "######################################################################################################################\n",
    "#2kshort + 45k + 8 spk + no IBSE %WER 47.46\n",
    "#2kshort + 45k + 8 spk + no IBSE + extra_questions stress %WER 46.80"
   ]
  },
  {
   "cell_type": "code",
   "execution_count": null,
   "metadata": {
    "scrolled": true
   },
   "outputs": [],
   "source": [
    "dvc run -f \\\n",
    "$(for f in $exp/tri3b/decode_dev_0.15k/lat.*.gz; do echo -d $f; done) \\\n",
    "-d $data/carpa/G.carpa \\\n",
    "-m $exp/metrics/tri3b_rescore.json \\\n",
    "-n tri3b_rescore_metrics \\\n",
    "\"$cmd_prefix steps/lmrescore_const_arpa.sh $data/lang $data/carpa $data/dev_0.15k $exp/tri3b/decode_dev_0.15k $exp/tri3b/rescore_dev_0.15k; \\\n",
    "$UKROASR_ROOT/parce_wer_report.sh $exp/tri3b/rescore_dev_0.15k/scoring_kaldi/best_wer $exp/metrics/tri3b_rescore.json\""
   ]
  },
  {
   "cell_type": "markdown",
   "metadata": {},
   "source": [
    "## Decode 750 utterances dev set"
   ]
  },
  {
   "cell_type": "code",
   "execution_count": null,
   "metadata": {
    "scrolled": true
   },
   "outputs": [],
   "source": [
    "dvc run -f \\\n",
    "-d $data/dev_0.75kshort/utt2spk -d $data/dev_0.75kshort/feats.scp -d $data/dev_0.75kshort/cmvn.scp \\\n",
    "-d $exp/tri3b/final.mdl -d $exp/tri3b/tree -d $exp/tri3b/final.mat \\\n",
    "-d $exp/tri3b/graph/HCLG.fst -d $data/lang/words.txt -d $data/lang/phones \\\n",
    "$(for i in $(seq 4); do echo -O $exp/tri3b/decode_dev_0.75kshort/lat.$i.gz; done) \\\n",
    "-m $exp/metrics/tri3b_0.75kshort.json \\\n",
    "-n tri3b_075kshort_metrics \\\n",
    "\"$cmd_prefix steps/decode_fmllr.sh --nj 4 $exp/tri3b/graph $data/dev_0.75kshort $exp/tri3b/decode_dev_0.75kshort; \\\n",
    "$UKROASR_ROOT/parce_wer_report.sh $exp/tri3b/decode_dev_0.75kshort/scoring_kaldi/best_wer $exp/metrics/tri3b_0.75kshort.json\""
   ]
  },
  {
   "cell_type": "code",
   "execution_count": null,
   "metadata": {},
   "outputs": [],
   "source": [
    "dvc run -f \\\n",
    "$(for i in $(seq 4); do echo -d $exp/tri3b/decode_dev_0.75kshort/lat.$i.gz; done) \\\n",
    "-d $data/carpa/G.carpa \\\n",
    "-m $exp/metrics/tri3b_0.75kshort_rescore.json \\\n",
    "-n tri3b_075kshort_rescore_metrics \\\n",
    "\"$cmd_prefix steps/lmrescore_const_arpa.sh $data/lang $data/carpa $data/dev_0.75kshort \\\n",
    "                                           $exp/tri3b/decode_dev_0.75kshort $exp/tri3b/rescore_dev_0.75kshort; \\\n",
    "$UKROASR_ROOT/parce_wer_report.sh $exp/tri3b/rescore_dev_0.175kshort/scoring_kaldi/best_wer \\\n",
    "                                  $exp/metrics/tri3b_0.75kshort_rescore.json\""
   ]
  },
  {
   "cell_type": "code",
   "execution_count": null,
   "metadata": {},
   "outputs": [],
   "source": []
  }
 ],
 "metadata": {
  "kernelspec": {
   "display_name": "Bash",
   "language": "bash",
   "name": "bash"
  },
  "language_info": {
   "codemirror_mode": "shell",
   "file_extension": ".sh",
   "mimetype": "text/x-sh",
   "name": "bash"
  }
 },
 "nbformat": 4,
 "nbformat_minor": 2
}
